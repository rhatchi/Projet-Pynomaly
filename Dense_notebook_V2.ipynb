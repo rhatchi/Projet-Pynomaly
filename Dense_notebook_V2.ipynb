{
 "cells": [
  {
   "cell_type": "code",
   "execution_count": 1,
   "id": "6b813489-c73c-4e4c-b38c-38035c86e41e",
   "metadata": {},
   "outputs": [],
   "source": [
    "from Dense_final_V2 import *"
   ]
  },
  {
   "cell_type": "code",
   "execution_count": 2,
   "id": "febf289a-5dc5-4ce5-92f1-7f2cde31991d",
   "metadata": {},
   "outputs": [],
   "source": [
    "#chemin vers le csv rassemblant les filepaths en première colonne\n",
    "path_csv=\"Path_DF.csv\"\n",
    "\n",
    "machine_types = [\"fan\",\"pump\",\"valve\",\"slider\",\"ToyCar\",\"ToyConveyor\"]\n",
    "#Sélection du type de machine\n",
    "machinetype = machine_types[0] #entre 0 et 5"
   ]
  },
  {
   "cell_type": "code",
   "execution_count": null,
   "id": "bb85e523-188f-4e22-a0e4-3cbf319a2844",
   "metadata": {},
   "outputs": [],
   "source": [
    "train_data_stream = feature_selection_train(path_csv, machinetype)"
   ]
  },
  {
   "cell_type": "code",
   "execution_count": null,
   "id": "236ac64c-616c-436b-8a3a-d6b50e3cbd85",
   "metadata": {},
   "outputs": [],
   "source": [
    "model_dense = model_dense_training(machinetype,train_data_stream)"
   ]
  },
  {
   "cell_type": "code",
   "execution_count": null,
   "id": "4b44ea5b-7dd5-4890-a954-d2a3f496e08c",
   "metadata": {},
   "outputs": [],
   "source": [
    "model_evaluation(path_csv, machinetype, model_dense)"
   ]
  },
  {
   "cell_type": "code",
   "execution_count": null,
   "id": "9e7d8f57-0098-4b36-913b-576912fce1c1",
   "metadata": {},
   "outputs": [],
   "source": []
  }
 ],
 "metadata": {
  "kernelspec": {
   "display_name": "Python 3",
   "language": "python",
   "name": "python3"
  },
  "language_info": {
   "codemirror_mode": {
    "name": "ipython",
    "version": 3
   },
   "file_extension": ".py",
   "mimetype": "text/x-python",
   "name": "python",
   "nbconvert_exporter": "python",
   "pygments_lexer": "ipython3",
   "version": "3.7.10"
  }
 },
 "nbformat": 4,
 "nbformat_minor": 5
}
