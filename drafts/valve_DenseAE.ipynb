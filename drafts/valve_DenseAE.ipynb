{
 "cells": [
  {
   "cell_type": "code",
   "execution_count": 1,
   "metadata": {},
   "outputs": [
    {
     "data": {
      "text/html": [
       "<div>\n",
       "<style scoped>\n",
       "    .dataframe tbody tr th:only-of-type {\n",
       "        vertical-align: middle;\n",
       "    }\n",
       "\n",
       "    .dataframe tbody tr th {\n",
       "        vertical-align: top;\n",
       "    }\n",
       "\n",
       "    .dataframe thead th {\n",
       "        text-align: right;\n",
       "    }\n",
       "</style>\n",
       "<table border=\"1\" class=\"dataframe\">\n",
       "  <thead>\n",
       "    <tr style=\"text-align: right;\">\n",
       "      <th></th>\n",
       "      <th>Path</th>\n",
       "      <th>Machine_Type</th>\n",
       "      <th>Dataset</th>\n",
       "      <th>Status</th>\n",
       "      <th>Machine_ID</th>\n",
       "      <th>Sample_ID</th>\n",
       "      <th>nb_echantillon</th>\n",
       "      <th>freq_echantillonnage</th>\n",
       "      <th>audio</th>\n",
       "    </tr>\n",
       "  </thead>\n",
       "  <tbody>\n",
       "    <tr>\n",
       "      <th>7388</th>\n",
       "      <td>Data/valve/train/normal_id_04_00000895.wav</td>\n",
       "      <td>valve</td>\n",
       "      <td>train</td>\n",
       "      <td>normal</td>\n",
       "      <td>4</td>\n",
       "      <td>895</td>\n",
       "      <td>160000</td>\n",
       "      <td>16000</td>\n",
       "      <td>[-0.0067749  -0.00421143 -0.00149536 ... -0.01...</td>\n",
       "    </tr>\n",
       "    <tr>\n",
       "      <th>7389</th>\n",
       "      <td>Data/valve/train/normal_id_00_00000692.wav</td>\n",
       "      <td>valve</td>\n",
       "      <td>train</td>\n",
       "      <td>normal</td>\n",
       "      <td>0</td>\n",
       "      <td>692</td>\n",
       "      <td>160000</td>\n",
       "      <td>16000</td>\n",
       "      <td>[-1.6845703e-02 -8.6669922e-03 -9.1552734e-05 ...</td>\n",
       "    </tr>\n",
       "    <tr>\n",
       "      <th>7390</th>\n",
       "      <td>Data/valve/train/normal_id_06_00000093.wav</td>\n",
       "      <td>valve</td>\n",
       "      <td>train</td>\n",
       "      <td>normal</td>\n",
       "      <td>6</td>\n",
       "      <td>93</td>\n",
       "      <td>160000</td>\n",
       "      <td>16000</td>\n",
       "      <td>[-0.00506592 -0.00900269 -0.00445557 ...  0.00...</td>\n",
       "    </tr>\n",
       "    <tr>\n",
       "      <th>7391</th>\n",
       "      <td>Data/valve/train/normal_id_00_00000686.wav</td>\n",
       "      <td>valve</td>\n",
       "      <td>train</td>\n",
       "      <td>normal</td>\n",
       "      <td>0</td>\n",
       "      <td>686</td>\n",
       "      <td>160000</td>\n",
       "      <td>16000</td>\n",
       "      <td>[ 0.00064087  0.00460815  0.00891113 ...  0.00...</td>\n",
       "    </tr>\n",
       "    <tr>\n",
       "      <th>7392</th>\n",
       "      <td>Data/valve/train/normal_id_06_00000087.wav</td>\n",
       "      <td>valve</td>\n",
       "      <td>train</td>\n",
       "      <td>normal</td>\n",
       "      <td>6</td>\n",
       "      <td>87</td>\n",
       "      <td>160000</td>\n",
       "      <td>16000</td>\n",
       "      <td>[-0.01055908 -0.01242065 -0.01312256 ... -0.02...</td>\n",
       "    </tr>\n",
       "  </tbody>\n",
       "</table>\n",
       "</div>"
      ],
      "text/plain": [
       "                                            Path Machine_Type Dataset  Status  \\\n",
       "7388  Data/valve/train/normal_id_04_00000895.wav        valve   train  normal   \n",
       "7389  Data/valve/train/normal_id_00_00000692.wav        valve   train  normal   \n",
       "7390  Data/valve/train/normal_id_06_00000093.wav        valve   train  normal   \n",
       "7391  Data/valve/train/normal_id_00_00000686.wav        valve   train  normal   \n",
       "7392  Data/valve/train/normal_id_06_00000087.wav        valve   train  normal   \n",
       "\n",
       "      Machine_ID  Sample_ID  nb_echantillon  freq_echantillonnage  \\\n",
       "7388           4        895          160000                 16000   \n",
       "7389           0        692          160000                 16000   \n",
       "7390           6         93          160000                 16000   \n",
       "7391           0        686          160000                 16000   \n",
       "7392           6         87          160000                 16000   \n",
       "\n",
       "                                                  audio  \n",
       "7388  [-0.0067749  -0.00421143 -0.00149536 ... -0.01...  \n",
       "7389  [-1.6845703e-02 -8.6669922e-03 -9.1552734e-05 ...  \n",
       "7390  [-0.00506592 -0.00900269 -0.00445557 ...  0.00...  \n",
       "7391  [ 0.00064087  0.00460815  0.00891113 ...  0.00...  \n",
       "7392  [-0.01055908 -0.01242065 -0.01312256 ... -0.02...  "
      ]
     },
     "execution_count": 1,
     "metadata": {},
     "output_type": "execute_result"
    }
   ],
   "source": [
    "import pandas as pd\n",
    "import numpy as np\n",
    "import librosa\n",
    "\n",
    "def load_audio(audio_path):\n",
    "    return librosa.load(audio_path, sr=None)\n",
    "\n",
    "df = pd.read_csv('Path_DF.csv')\n",
    "valve_train = df[(df.Dataset == 'train') & (df.Machine_Type == 'valve')]\n",
    "\n",
    "valve_train.head()"
   ]
  },
  {
   "cell_type": "markdown",
   "metadata": {},
   "source": [
    "## Cette fonction permet de faire une sélection de features MFEC sur un fichier audio "
   ]
  },
  {
   "cell_type": "code",
   "execution_count": 2,
   "metadata": {},
   "outputs": [],
   "source": [
    "def file_load_stream(wav_name, mono=False):\n",
    "    frameSize = librosa.get_samplerate(wav_name)\n",
    "    hoplength = frameSize // 2\n",
    "    stream = librosa.stream(wav_name, block_length=1, frame_length=frameSize, hop_length=hoplength, mono=mono)\n",
    "    return stream"
   ]
  },
  {
   "cell_type": "code",
   "execution_count": 3,
   "metadata": {},
   "outputs": [
    {
     "data": {
      "text/plain": [
       "<generator object stream at 0x7fc80c27c740>"
      ]
     },
     "execution_count": 3,
     "metadata": {},
     "output_type": "execute_result"
    }
   ],
   "source": [
    "file_load_stream(df.iloc[0,0])"
   ]
  },
  {
   "cell_type": "markdown",
   "metadata": {},
   "source": [
    "## On va créer une fonction qui transforme le fichier MFEC en des vecteurs numpy\n"
   ]
  },
  {
   "cell_type": "code",
   "execution_count": 4,
   "metadata": {},
   "outputs": [],
   "source": [
    "import sys\n",
    "\n",
    "def file_to_vector_array_stream_test_data(file_name, n_mels=128, frames=5, n_fft=1024, hop_length=512, power=1):\n",
    "    \"\"\"\n",
    "    convert file_name to a vector array.\n",
    "    file_name : str\n",
    "        target .wav file\n",
    "    return : numpy.array( numpy.array( float ) )\n",
    "        vector array\n",
    "        * dataset.shape = (dataset_size, feature_vector_length)\n",
    "    \"\"\"\n",
    "    # 01 calculate the number of dimensions\n",
    "    dims = n_mels * frames\n",
    "    \n",
    "    # 02 generate melspectrogram using librosa\n",
    "    stream = file_load_stream(file_name)\n",
    "    sr = librosa.get_samplerate(file_name)\n",
    "    liste = []\n",
    "    for n, y in enumerate(stream):\n",
    "        mel_spectrogram = librosa.feature.melspectrogram(y=y, sr=sr, n_fft=n_fft, hop_length=hop_length, n_mels=n_mels, power=power)\n",
    "\n",
    "        # 03 convert melspectrogram\n",
    "\n",
    "        log_mel_spectrogram = 20.0 / power * np.log10(mel_spectrogram + sys.float_info.epsilon)\n",
    "\n",
    "        # 04 calculate total vector size\n",
    "        vector_array_size = len(log_mel_spectrogram[0, :]) - frames + 1  \n",
    "        \n",
    "        # 05 skip too short clips\n",
    "        if vector_array_size < 1:\n",
    "            return np.empty((0, dims))\n",
    "\n",
    "        # 06 generate feature vectors by concatenating multiframes\n",
    "        vector_array = np.zeros((vector_array_size, dims))\n",
    "\n",
    "        for t in range(frames):\n",
    "            vector_array[:, n_mels * t: n_mels * (t + 1)] = log_mel_spectrogram[:, t: t + vector_array_size].T\n",
    "\n",
    "        liste.append(vector_array)\n",
    "\n",
    "    liste = np.asarray(liste)\n",
    "    liste = liste.reshape(liste.shape[0] * liste.shape[1], liste.shape[2])\n",
    "    return liste"
   ]
  },
  {
   "cell_type": "code",
   "execution_count": 5,
   "metadata": {},
   "outputs": [
    {
     "data": {
      "text/plain": [
       "(532, 640)"
      ]
     },
     "execution_count": 5,
     "metadata": {},
     "output_type": "execute_result"
    }
   ],
   "source": [
    "nb_extract = 532\n",
    "\n",
    "file_to_vector_array_stream_test_data(df.iloc[0,0]).shape"
   ]
  },
  {
   "cell_type": "markdown",
   "metadata": {},
   "source": [
    "## A partir d'un Dataframe, on crée un ensemble de données exploitable pour le modèle Dense AE"
   ]
  },
  {
   "cell_type": "code",
   "execution_count": 6,
   "metadata": {},
   "outputs": [
    {
     "name": "stdout",
     "output_type": "stream",
     "text": [
      "Réalisé en 250.964 secondes\n"
     ]
    }
   ],
   "source": [
    "def dataset_stream(set_files):\n",
    "    \"\"\"\n",
    "    renvoie une dataset sur laquelle entrainer/évaluer le modèle Dense_AE\n",
    "    set_files est un DataFrame et sa première colonne contient les chemins\n",
    "    \"\"\"\n",
    "    liste = []\n",
    "    for k in range(len(set_files)):\n",
    "        for l in file_to_vector_array_stream_test_data(set_files.iloc[k,0]):\n",
    "            liste.append(l)\n",
    "    return np.asarray(liste)\n",
    "\n",
    "from time import time\n",
    "t0 = time()\n",
    "\n",
    "valve_train_stream = dataset_stream(valve_train)\n",
    "\n",
    "t1 = time() - t0\n",
    "print(\"Réalisé en {} secondes\".format(round(t1,3)))"
   ]
  },
  {
   "cell_type": "code",
   "execution_count": 7,
   "metadata": {},
   "outputs": [
    {
     "data": {
      "text/plain": [
       "(1750812, 640)"
      ]
     },
     "execution_count": 7,
     "metadata": {},
     "output_type": "execute_result"
    }
   ],
   "source": [
    "valve_train_stream.shape"
   ]
  },
  {
   "cell_type": "markdown",
   "metadata": {},
   "source": [
    "## On entraine un modèle DenseAE avec la dataset nouvellement créée"
   ]
  },
  {
   "cell_type": "code",
   "execution_count": 8,
   "metadata": {},
   "outputs": [],
   "source": [
    "import tensorflow as tf\n",
    "from tensorflow.keras import Sequential\n",
    "from tensorflow.keras.layers import Conv2D, Conv2DTranspose, Dense, Dropout, Flatten, BatchNormalization, ReLU, Reshape\n"
   ]
  },
  {
   "cell_type": "code",
   "execution_count": 9,
   "metadata": {},
   "outputs": [],
   "source": [
    "def model_denseAE(input_shape = (640,)):\n",
    "    model_dense = Sequential()\n",
    "\n",
    "    # Première couche Encoder\n",
    "    model_dense.add(Dense(512, input_shape = input_shape))\n",
    "    model_dense.add(BatchNormalization())\n",
    "    model_dense.add(ReLU())\n",
    "\n",
    "    # Seconde couche Encoder\n",
    "    model_dense.add(Dense(512))\n",
    "    model_dense.add(BatchNormalization())\n",
    "    model_dense.add(ReLU())\n",
    "\n",
    "    # Troisième couche Encoder\n",
    "    model_dense.add(Dense(512))\n",
    "    model_dense.add(BatchNormalization())\n",
    "    model_dense.add(ReLU())\n",
    "\n",
    "    # Quatrième couche Encoder\n",
    "    model_dense.add(Dense(512))\n",
    "    model_dense.add(BatchNormalization())\n",
    "    model_dense.add(ReLU())\n",
    "\n",
    "    # Couche goulot\n",
    "    model_dense.add(Dense(8))\n",
    "    model_dense.add(BatchNormalization())\n",
    "    model_dense.add(ReLU())\n",
    "\n",
    "    # Première couche Decoder\n",
    "    model_dense.add(Dense(512))\n",
    "    model_dense.add(BatchNormalization())\n",
    "    model_dense.add(ReLU())\n",
    "\n",
    "    # Seconde couche Decoder\n",
    "    model_dense.add(Dense(512))\n",
    "    model_dense.add(BatchNormalization())\n",
    "    model_dense.add(ReLU())\n",
    "\n",
    "    # Troisième couche Decoder\n",
    "    model_dense.add(Dense(512))\n",
    "    model_dense.add(BatchNormalization())\n",
    "    model_dense.add(ReLU())\n",
    "\n",
    "    # Quatrième couche Decoder\n",
    "    model_dense.add(Dense(512))\n",
    "    model_dense.add(BatchNormalization())\n",
    "    model_dense.add(ReLU())\n",
    "\n",
    "    # Couche de reconstruction \n",
    "    model_dense.add(Dense(640))\n",
    "    \n",
    "    return model_dense\n",
    "\n",
    "model_dense = model_denseAE()\n",
    "\n",
    "# On compile \n",
    "model_dense.compile(optimizer='adam', loss=\"mse\")"
   ]
  },
  {
   "cell_type": "code",
   "execution_count": 11,
   "metadata": {},
   "outputs": [
    {
     "data": {
      "text/plain": [
       "'/Users/romeo/Formation DataScientist/projet pynomaly/valve_DenseAE'"
      ]
     },
     "execution_count": 11,
     "metadata": {},
     "output_type": "execute_result"
    }
   ],
   "source": [
    "import os\n",
    "cwd = os.getcwd()\n",
    "filepath = cwd + '/valve_DenseAE'\n",
    "\n",
    "filepath"
   ]
  },
  {
   "cell_type": "code",
   "execution_count": 12,
   "metadata": {},
   "outputs": [
    {
     "name": "stdout",
     "output_type": "stream",
     "text": [
      "Epoch 1/100\n",
      "2394/2394 [==============================] - 340s 139ms/step - loss: 221.6670 - val_loss: 13.6343\n",
      "INFO:tensorflow:Assets written to: /Users/romeo/Formation DataScientist/projet pynomaly/assets\n",
      "Epoch 2/100\n",
      "2394/2394 [==============================] - 194s 81ms/step - loss: 12.2978 - val_loss: 12.9189\n",
      "INFO:tensorflow:Assets written to: /Users/romeo/Formation DataScientist/projet pynomaly/assets\n",
      "Epoch 3/100\n",
      "2394/2394 [==============================] - 173s 72ms/step - loss: 11.4951 - val_loss: 12.6637\n",
      "INFO:tensorflow:Assets written to: /Users/romeo/Formation DataScientist/projet pynomaly/assets\n",
      "Epoch 4/100\n",
      "2394/2394 [==============================] - 177s 74ms/step - loss: 11.1217 - val_loss: 11.9391\n",
      "INFO:tensorflow:Assets written to: /Users/romeo/Formation DataScientist/projet pynomaly/assets\n",
      "Epoch 5/100\n",
      "2394/2394 [==============================] - 173s 72ms/step - loss: 10.9058 - val_loss: 11.8135\n",
      "INFO:tensorflow:Assets written to: /Users/romeo/Formation DataScientist/projet pynomaly/assets\n",
      "Epoch 6/100\n",
      "2394/2394 [==============================] - 172s 72ms/step - loss: 10.7598 - val_loss: 11.5163\n",
      "INFO:tensorflow:Assets written to: /Users/romeo/Formation DataScientist/projet pynomaly/assets\n",
      "Epoch 7/100\n",
      "2394/2394 [==============================] - 176s 73ms/step - loss: 10.6605 - val_loss: 11.6876\n",
      "Epoch 8/100\n",
      "2394/2394 [==============================] - 182s 76ms/step - loss: 10.5853 - val_loss: 13.3661\n",
      "Epoch 9/100\n",
      "2394/2394 [==============================] - 177s 74ms/step - loss: 10.5284 - val_loss: 11.1824\n",
      "INFO:tensorflow:Assets written to: /Users/romeo/Formation DataScientist/projet pynomaly/assets\n",
      "Epoch 10/100\n",
      "2394/2394 [==============================] - 183s 76ms/step - loss: 10.4668 - val_loss: 11.1528\n",
      "INFO:tensorflow:Assets written to: /Users/romeo/Formation DataScientist/projet pynomaly/assets\n",
      "Epoch 11/100\n",
      "2394/2394 [==============================] - 181s 76ms/step - loss: 10.4318 - val_loss: 12.4860\n",
      "Epoch 12/100\n",
      "2394/2394 [==============================] - 187s 78ms/step - loss: 10.3917 - val_loss: 25.1430\n",
      "Epoch 13/100\n",
      "2394/2394 [==============================] - 180s 75ms/step - loss: 10.3543 - val_loss: 11.0115\n",
      "INFO:tensorflow:Assets written to: /Users/romeo/Formation DataScientist/projet pynomaly/assets\n",
      "Epoch 14/100\n",
      "2394/2394 [==============================] - 183s 77ms/step - loss: 10.3264 - val_loss: 11.0694\n",
      "Epoch 15/100\n",
      "2394/2394 [==============================] - 183s 76ms/step - loss: 10.2992 - val_loss: 11.0393\n",
      "Epoch 16/100\n",
      "2394/2394 [==============================] - 190s 79ms/step - loss: 10.2768 - val_loss: 10.8473\n",
      "INFO:tensorflow:Assets written to: /Users/romeo/Formation DataScientist/projet pynomaly/assets\n",
      "Epoch 17/100\n",
      "2394/2394 [==============================] - 182s 76ms/step - loss: 10.2558 - val_loss: 10.9716\n",
      "Epoch 18/100\n",
      "2394/2394 [==============================] - 183s 77ms/step - loss: 10.2321 - val_loss: 13.5464\n",
      "Epoch 19/100\n",
      "2394/2394 [==============================] - 182s 76ms/step - loss: 10.2204 - val_loss: 10.8436\n",
      "INFO:tensorflow:Assets written to: /Users/romeo/Formation DataScientist/projet pynomaly/assets\n",
      "Epoch 20/100\n",
      "2394/2394 [==============================] - 178s 74ms/step - loss: 10.1993 - val_loss: 10.8388\n",
      "INFO:tensorflow:Assets written to: /Users/romeo/Formation DataScientist/projet pynomaly/assets\n",
      "Epoch 21/100\n",
      "2394/2394 [==============================] - 163s 68ms/step - loss: 10.1836 - val_loss: 10.9946\n",
      "Epoch 22/100\n",
      "2394/2394 [==============================] - 174s 73ms/step - loss: 10.1723 - val_loss: 10.8879\n",
      "Epoch 23/100\n",
      "2394/2394 [==============================] - 175s 73ms/step - loss: 10.1582 - val_loss: 13.0700\n",
      "Epoch 24/100\n",
      "2394/2394 [==============================] - 169s 71ms/step - loss: 10.1498 - val_loss: 10.8286\n",
      "INFO:tensorflow:Assets written to: /Users/romeo/Formation DataScientist/projet pynomaly/assets\n",
      "Epoch 25/100\n",
      "2394/2394 [==============================] - 184s 77ms/step - loss: 10.1343 - val_loss: 11.2148\n",
      "Epoch 26/100\n",
      "2394/2394 [==============================] - 187s 78ms/step - loss: 10.1262 - val_loss: 10.7317\n",
      "INFO:tensorflow:Assets written to: /Users/romeo/Formation DataScientist/projet pynomaly/assets\n",
      "Epoch 27/100\n",
      "2394/2394 [==============================] - 182s 76ms/step - loss: 10.1106 - val_loss: 12.4729\n",
      "Epoch 28/100\n",
      "2394/2394 [==============================] - 178s 74ms/step - loss: 10.1052 - val_loss: 10.7710\n",
      "Epoch 29/100\n",
      "2394/2394 [==============================] - 179s 75ms/step - loss: 10.0917 - val_loss: 10.7452\n",
      "Epoch 30/100\n",
      "2394/2394 [==============================] - 179s 75ms/step - loss: 10.0790 - val_loss: 10.7388\n",
      "Epoch 31/100\n",
      "2394/2394 [==============================] - 176s 74ms/step - loss: 10.0805 - val_loss: 10.7409\n",
      "Epoch 32/100\n",
      "2394/2394 [==============================] - 171s 71ms/step - loss: 10.0682 - val_loss: 10.8640\n",
      "Epoch 33/100\n",
      "2394/2394 [==============================] - 173s 72ms/step - loss: 10.0586 - val_loss: 11.0012\n",
      "Epoch 34/100\n",
      "2394/2394 [==============================] - 174s 73ms/step - loss: 10.0553 - val_loss: 11.3501\n",
      "Epoch 35/100\n",
      "2394/2394 [==============================] - 170s 71ms/step - loss: 10.0424 - val_loss: 10.6945\n",
      "INFO:tensorflow:Assets written to: /Users/romeo/Formation DataScientist/projet pynomaly/assets\n",
      "Epoch 36/100\n",
      "2394/2394 [==============================] - 353s 148ms/step - loss: 10.0376 - val_loss: 10.7318\n",
      "Epoch 37/100\n",
      "2394/2394 [==============================] - 286s 119ms/step - loss: 10.0275 - val_loss: 10.8396\n",
      "Epoch 38/100\n",
      "2394/2394 [==============================] - 200s 84ms/step - loss: 10.0203 - val_loss: 11.0830\n",
      "Epoch 39/100\n",
      "2394/2394 [==============================] - 240s 100ms/step - loss: 10.0363 - val_loss: 10.7348\n",
      "Epoch 40/100\n",
      "2394/2394 [==============================] - 173s 72ms/step - loss: 10.0273 - val_loss: 13.4382\n",
      "Epoch 41/100\n",
      "2394/2394 [==============================] - 169s 71ms/step - loss: 10.0203 - val_loss: 11.1283\n",
      "Epoch 42/100\n",
      "2394/2394 [==============================] - 171s 71ms/step - loss: 10.0096 - val_loss: 10.9076\n",
      "Epoch 43/100\n",
      "2394/2394 [==============================] - 173s 72ms/step - loss: 10.0027 - val_loss: 11.5614\n",
      "Epoch 44/100\n",
      "2394/2394 [==============================] - 171s 72ms/step - loss: 9.9955 - val_loss: 10.9754\n",
      "Epoch 45/100\n",
      "2394/2394 [==============================] - 168s 70ms/step - loss: 9.9915 - val_loss: 10.7137\n",
      "Réalisé en 8629.852 secondes\n"
     ]
    }
   ],
   "source": [
    "from tensorflow.keras import callbacks\n",
    "\n",
    "# Callback pour arrêter l'entrainement et récupérer le meilleur modèle si la métrique ne diminue plus pendant 10 epochs\n",
    "early_stopping = callbacks.EarlyStopping(monitor = 'val_loss', patience = 10, mode = 'min', restore_best_weights = True)\n",
    "\n",
    "import os\n",
    "cwd = os.getcwd()\n",
    "filepath = cwd\n",
    "\n",
    "# Callback pour sauvegarder le meilleur modèle\n",
    "checkpoint = callbacks.ModelCheckpoint(filepath = filepath, monitor = 'val_loss', save_best_only = True, \n",
    "                                       save_weights_only = False, mode = 'min', save_freq = 'epoch')\n",
    "\n",
    "t0 = time()\n",
    "\n",
    "# On entraine le modèle sur valve_train. \n",
    "model_dense.fit(valve_train_stream, valve_train_stream, batch_size = 512, epochs = 100, callbacks=[checkpoint, early_stopping], validation_split = 0.3)\n",
    "\n",
    "t1 = time() - t0\n",
    "print(\"Réalisé en {} secondes\".format(round(t1,3)))"
   ]
  },
  {
   "cell_type": "code",
   "execution_count": 114,
   "metadata": {},
   "outputs": [
    {
     "data": {
      "text/plain": [
       "<tensorflow.python.saved_model.load.Loader._recreate_base_user_object.<locals>._UserObject at 0x7fb96d2d8d60>"
      ]
     },
     "execution_count": 114,
     "metadata": {},
     "output_type": "execute_result"
    }
   ],
   "source": [
    "#model_dense_valve = tf.saved_model.load('/Users/romeo/Formation DataScientist/projet pynomaly')\n",
    "\n",
    "#model_dense_valve"
   ]
  },
  {
   "cell_type": "markdown",
   "metadata": {},
   "source": [
    "### On crée la dataset d'évaluation"
   ]
  },
  {
   "cell_type": "code",
   "execution_count": 13,
   "metadata": {},
   "outputs": [
    {
     "name": "stdout",
     "output_type": "stream",
     "text": [
      "Réalisé en 51.96 secondes\n"
     ]
    }
   ],
   "source": [
    "valve_test = df[(df.Dataset == 'test') & (df.Machine_Type == 'valve')]\n",
    "\n",
    "t0 = time()\n",
    "\n",
    "valve_test_stream = dataset_stream(valve_test)\n",
    "\n",
    "t1 = time() - t0\n",
    "print(\"Réalisé en {} secondes\".format(round(t1,3)))"
   ]
  },
  {
   "cell_type": "code",
   "execution_count": 14,
   "metadata": {},
   "outputs": [],
   "source": [
    "# Pour déterminer le seuil à partir duquel on peut dire qu'une prise de son est anormale\n",
    "\n",
    "pred_valve_train = model_dense.predict(valve_train_stream)"
   ]
  },
  {
   "cell_type": "code",
   "execution_count": 15,
   "metadata": {},
   "outputs": [],
   "source": [
    "def errors(X_true, X_pred, length, nb_extract = 532): \n",
    "    \"\"\"\n",
    "    calcule les erreurs entre le jeu de départ et les prédictions du modèle\n",
    "    \"\"\"\n",
    "    vect_error = np.mean(np.square(X_true - X_pred), axis=1)\n",
    "    errors = np.zeros(length)\n",
    "    for k in range(length):\n",
    "        errors[k] = np.mean(vect_error[k*nb_extract : (k+1)*nb_extract])\n",
    "    return errors\n"
   ]
  },
  {
   "cell_type": "code",
   "execution_count": 16,
   "metadata": {},
   "outputs": [
    {
     "name": "stdout",
     "output_type": "stream",
     "text": [
      "Moyenne des erreurs : 10.293044432549216\n",
      "Ecart-type des erreurs : 1.054840767127492\n"
     ]
    }
   ],
   "source": [
    "error_valve_train = errors(valve_train_stream, pred_valve_train, len(valve_train))\n",
    "\n",
    "#print(error_valve)\n",
    "print('Moyenne des erreurs :', np.mean(error_valve_train))\n",
    "print('Ecart-type des erreurs :', np.std(error_valve_train))\n",
    "\n",
    "# Donc un seuil un peu plus grand que 11.3 est bien pour trouver les prises de sons anormales détectées par le modèle"
   ]
  },
  {
   "cell_type": "code",
   "execution_count": 17,
   "metadata": {},
   "outputs": [],
   "source": [
    "pred_valve_test = model_dense.predict(valve_test_stream)\n",
    "\n",
    "error_valve_test = errors(valve_test_stream, pred_valve_test, len(valve_test))\n"
   ]
  },
  {
   "cell_type": "code",
   "execution_count": 19,
   "metadata": {},
   "outputs": [
    {
     "data": {
      "text/plain": [
       "1    479\n",
       "0    400\n",
       "Name: Status, dtype: int64"
      ]
     },
     "execution_count": 19,
     "metadata": {},
     "output_type": "execute_result"
    }
   ],
   "source": [
    "y_true = valve_test['Status'].replace(['normal', 'anomaly'], [0,1])\n",
    "\n",
    "y_true.value_counts()"
   ]
  },
  {
   "cell_type": "code",
   "execution_count": 55,
   "metadata": {},
   "outputs": [
    {
     "data": {
      "text/html": [
       "<div>\n",
       "<style scoped>\n",
       "    .dataframe tbody tr th:only-of-type {\n",
       "        vertical-align: middle;\n",
       "    }\n",
       "\n",
       "    .dataframe tbody tr th {\n",
       "        vertical-align: top;\n",
       "    }\n",
       "\n",
       "    .dataframe thead th {\n",
       "        text-align: right;\n",
       "    }\n",
       "</style>\n",
       "<table border=\"1\" class=\"dataframe\">\n",
       "  <thead>\n",
       "    <tr style=\"text-align: right;\">\n",
       "      <th>Classe prédite</th>\n",
       "      <th>0</th>\n",
       "      <th>1</th>\n",
       "    </tr>\n",
       "    <tr>\n",
       "      <th>Classe réelle</th>\n",
       "      <th></th>\n",
       "      <th></th>\n",
       "    </tr>\n",
       "  </thead>\n",
       "  <tbody>\n",
       "    <tr>\n",
       "      <th>0</th>\n",
       "      <td>228</td>\n",
       "      <td>172</td>\n",
       "    </tr>\n",
       "    <tr>\n",
       "      <th>1</th>\n",
       "      <td>78</td>\n",
       "      <td>401</td>\n",
       "    </tr>\n",
       "  </tbody>\n",
       "</table>\n",
       "</div>"
      ],
      "text/plain": [
       "Classe prédite    0    1\n",
       "Classe réelle           \n",
       "0               228  172\n",
       "1                78  401"
      ]
     },
     "execution_count": 55,
     "metadata": {},
     "output_type": "execute_result"
    }
   ],
   "source": [
    "seuil = 10.1 # valeur à déterminer selon les erreurs \n",
    "\n",
    "y_pred = np.where(error_valve_test[:] > seuil, 1, 0)\n",
    "\n",
    "pd.crosstab(y_true, y_pred, rownames=['Classe réelle'], colnames=['Classe prédite'])"
   ]
  },
  {
   "cell_type": "code",
   "execution_count": 56,
   "metadata": {},
   "outputs": [
    {
     "name": "stdout",
     "output_type": "stream",
     "text": [
      "              precision    recall  f1-score   support\n",
      "\n",
      "           0       0.75      0.57      0.65       400\n",
      "           1       0.70      0.84      0.76       479\n",
      "\n",
      "    accuracy                           0.72       879\n",
      "   macro avg       0.72      0.70      0.70       879\n",
      "weighted avg       0.72      0.72      0.71       879\n",
      "\n"
     ]
    }
   ],
   "source": [
    "from sklearn.metrics import classification_report\n",
    "\n",
    "print(classification_report(y_true, y_pred))\n"
   ]
  },
  {
   "cell_type": "code",
   "execution_count": 57,
   "metadata": {},
   "outputs": [
    {
     "data": {
      "image/png": "[encoded data removed]",
      "text/plain": [
       "<Figure size 432x288 with 1 Axes>"
      ]
     },
     "metadata": {
      "needs_background": "light"
     },
     "output_type": "display_data"
    }
   ],
   "source": [
    "from sklearn.metrics import roc_curve, auc, roc_auc_score\n",
    "import matplotlib.pyplot as plt\n",
    "\n",
    "fpr, tpr, seuils = roc_curve(y_true, error_valve_test, pos_label = 1)\n",
    "\n",
    "roc_auc = auc(fpr, tpr)\n",
    "\n",
    "plt.plot(fpr, tpr, 'orange', label = 'Modèle dense (auc = %0.2f)' % roc_auc)\n",
    "plt.title('Courbe ROC')\n",
    "plt.xlabel('Taux faux positifs')\n",
    "plt.ylabel('Taux vrais positifs')\n",
    "plt.xlim(0,1)\n",
    "plt.ylim(0,1.05)\n",
    "\n",
    "plt.plot(fpr, fpr, 'b--', label = 'Aléatoire (aux = 0.5)')\n",
    "\n",
    "plt.legend(loc = 'lower right')\n",
    "plt.show();"
   ]
  },
  {
   "cell_type": "code",
   "execution_count": 58,
   "metadata": {},
   "outputs": [
    {
     "name": "stdout",
     "output_type": "stream",
     "text": [
      "AUC : 0.703580375782881\n",
      "pAUC : 0.5249180386515154\n"
     ]
    }
   ],
   "source": [
    "auc = roc_auc_score(y_true, y_pred)\n",
    "p_auc = roc_auc_score(y_true, y_pred, max_fpr=0.1)\n",
    "\n",
    "print(\"AUC : {}\".format(auc))\n",
    "print(\"pAUC : {}\".format(p_auc))"
   ]
  },
  {
   "cell_type": "markdown",
   "metadata": {},
   "source": [
    "## Affinons notre analyse selon le Machine_ID"
   ]
  },
  {
   "cell_type": "code",
   "execution_count": 35,
   "metadata": {},
   "outputs": [
    {
     "data": {
      "text/plain": [
       "array([4, 0, 6, 2])"
      ]
     },
     "execution_count": 35,
     "metadata": {},
     "output_type": "execute_result"
    }
   ],
   "source": [
    "#valve_train.Machine_ID.value_counts()\n",
    "valve_train.Machine_ID.unique()"
   ]
  },
  {
   "cell_type": "markdown",
   "metadata": {},
   "source": [
    "### Premier Machine_ID : 0"
   ]
  },
  {
   "cell_type": "code",
   "execution_count": 51,
   "metadata": {},
   "outputs": [
    {
     "name": "stdout",
     "output_type": "stream",
     "text": [
      "Moyenne des erreurs : 10.178390053242872\n",
      "Ecart-type des erreurs : 1.043146230600033\n"
     ]
    }
   ],
   "source": [
    "error_valve_train_0 = error_valve_train[valve_train.Machine_ID == 0]\n",
    "\n",
    "print('Moyenne des erreurs :', np.mean(error_valve_train_0))\n",
    "print('Ecart-type des erreurs :', np.std(error_valve_train_0))\n",
    "\n",
    "seuil = 9.9 # valeur à déterminer selon les erreurs "
   ]
  },
  {
   "cell_type": "code",
   "execution_count": 52,
   "metadata": {},
   "outputs": [
    {
     "name": "stdout",
     "output_type": "stream",
     "text": [
      "              precision    recall  f1-score   support\n",
      "\n",
      "           0       0.90      0.55      0.68       100\n",
      "           1       0.72      0.95      0.82       119\n",
      "\n",
      "    accuracy                           0.77       219\n",
      "   macro avg       0.81      0.75      0.75       219\n",
      "weighted avg       0.80      0.77      0.76       219\n",
      "\n"
     ]
    },
    {
     "data": {
      "text/html": [
       "<div>\n",
       "<style scoped>\n",
       "    .dataframe tbody tr th:only-of-type {\n",
       "        vertical-align: middle;\n",
       "    }\n",
       "\n",
       "    .dataframe tbody tr th {\n",
       "        vertical-align: top;\n",
       "    }\n",
       "\n",
       "    .dataframe thead th {\n",
       "        text-align: right;\n",
       "    }\n",
       "</style>\n",
       "<table border=\"1\" class=\"dataframe\">\n",
       "  <thead>\n",
       "    <tr style=\"text-align: right;\">\n",
       "      <th>Classe prédite</th>\n",
       "      <th>0</th>\n",
       "      <th>1</th>\n",
       "    </tr>\n",
       "    <tr>\n",
       "      <th>Classe réelle</th>\n",
       "      <th></th>\n",
       "      <th></th>\n",
       "    </tr>\n",
       "  </thead>\n",
       "  <tbody>\n",
       "    <tr>\n",
       "      <th>0</th>\n",
       "      <td>55</td>\n",
       "      <td>45</td>\n",
       "    </tr>\n",
       "    <tr>\n",
       "      <th>1</th>\n",
       "      <td>6</td>\n",
       "      <td>113</td>\n",
       "    </tr>\n",
       "  </tbody>\n",
       "</table>\n",
       "</div>"
      ],
      "text/plain": [
       "Classe prédite   0    1\n",
       "Classe réelle          \n",
       "0               55   45\n",
       "1                6  113"
      ]
     },
     "execution_count": 52,
     "metadata": {},
     "output_type": "execute_result"
    }
   ],
   "source": [
    "y_true_0 = y_true[valve_test.Machine_ID == 0]\n",
    "y_pred_0 = np.where(error_valve_test[valve_test.Machine_ID == 0][:] > seuil, 1, 0)\n",
    "\n",
    "print(classification_report(y_true_0, y_pred_0))\n",
    "pd.crosstab(y_true_0, y_pred_0, rownames=['Classe réelle'], colnames=['Classe prédite'])"
   ]
  },
  {
   "cell_type": "code",
   "execution_count": 53,
   "metadata": {},
   "outputs": [
    {
     "name": "stdout",
     "output_type": "stream",
     "text": [
      "AUC : 0.7497899159663866\n",
      "pAUC : 0.5292151948498698\n"
     ]
    }
   ],
   "source": [
    "auc = roc_auc_score(y_true_0, y_pred_0)\n",
    "p_auc = roc_auc_score(y_true_0, y_pred_0, max_fpr=0.1)\n",
    "\n",
    "print(\"AUC : {}\".format(auc))\n",
    "print(\"pAUC : {}\".format(p_auc))"
   ]
  },
  {
   "cell_type": "markdown",
   "metadata": {},
   "source": [
    "### Deuxième Machine_ID : 2 "
   ]
  },
  {
   "cell_type": "code",
   "execution_count": 69,
   "metadata": {},
   "outputs": [
    {
     "name": "stdout",
     "output_type": "stream",
     "text": [
      "Moyenne des erreurs : 10.307433699450133\n",
      "Ecart-type des erreurs : 1.0451608130990468\n"
     ]
    }
   ],
   "source": [
    "error_valve_train_2 = error_valve_train[valve_train.Machine_ID == 2]\n",
    "\n",
    "print('Moyenne des erreurs :', np.mean(error_valve_train_2))\n",
    "print('Ecart-type des erreurs :', np.std(error_valve_train_2))\n",
    "\n",
    "seuil = 10.0 # valeur à déterminer selon les erreurs "
   ]
  },
  {
   "cell_type": "code",
   "execution_count": 70,
   "metadata": {},
   "outputs": [
    {
     "name": "stdout",
     "output_type": "stream",
     "text": [
      "              precision    recall  f1-score   support\n",
      "\n",
      "           0       0.94      0.47      0.63       100\n",
      "           1       0.69      0.97      0.81       120\n",
      "\n",
      "    accuracy                           0.75       220\n",
      "   macro avg       0.81      0.72      0.72       220\n",
      "weighted avg       0.80      0.75      0.72       220\n",
      "\n"
     ]
    },
    {
     "data": {
      "text/html": [
       "<div>\n",
       "<style scoped>\n",
       "    .dataframe tbody tr th:only-of-type {\n",
       "        vertical-align: middle;\n",
       "    }\n",
       "\n",
       "    .dataframe tbody tr th {\n",
       "        vertical-align: top;\n",
       "    }\n",
       "\n",
       "    .dataframe thead th {\n",
       "        text-align: right;\n",
       "    }\n",
       "</style>\n",
       "<table border=\"1\" class=\"dataframe\">\n",
       "  <thead>\n",
       "    <tr style=\"text-align: right;\">\n",
       "      <th>Classe prédite</th>\n",
       "      <th>0</th>\n",
       "      <th>1</th>\n",
       "    </tr>\n",
       "    <tr>\n",
       "      <th>Classe réelle</th>\n",
       "      <th></th>\n",
       "      <th></th>\n",
       "    </tr>\n",
       "  </thead>\n",
       "  <tbody>\n",
       "    <tr>\n",
       "      <th>0</th>\n",
       "      <td>47</td>\n",
       "      <td>53</td>\n",
       "    </tr>\n",
       "    <tr>\n",
       "      <th>1</th>\n",
       "      <td>3</td>\n",
       "      <td>117</td>\n",
       "    </tr>\n",
       "  </tbody>\n",
       "</table>\n",
       "</div>"
      ],
      "text/plain": [
       "Classe prédite   0    1\n",
       "Classe réelle          \n",
       "0               47   53\n",
       "1                3  117"
      ]
     },
     "execution_count": 70,
     "metadata": {},
     "output_type": "execute_result"
    }
   ],
   "source": [
    "y_true_2 = y_true[valve_test.Machine_ID == 2]\n",
    "y_pred_2 = np.where(error_valve_test[valve_test.Machine_ID == 2][:] > seuil, 1, 0)\n",
    "\n",
    "print(classification_report(y_true_2, y_pred_2))\n",
    "pd.crosstab(y_true_2, y_pred_2, rownames=['Classe réelle'], colnames=['Classe prédite'])"
   ]
  },
  {
   "cell_type": "code",
   "execution_count": 71,
   "metadata": {},
   "outputs": [
    {
     "name": "stdout",
     "output_type": "stream",
     "text": [
      "AUC : 0.7225\n",
      "pAUC : 0.5220953326713009\n"
     ]
    }
   ],
   "source": [
    "auc = roc_auc_score(y_true_2, y_pred_2)\n",
    "p_auc = roc_auc_score(y_true_2, y_pred_2, max_fpr=0.1)\n",
    "\n",
    "print(\"AUC : {}\".format(auc))\n",
    "print(\"pAUC : {}\".format(p_auc))"
   ]
  },
  {
   "cell_type": "markdown",
   "metadata": {},
   "source": [
    "### Troisième Machine_ID : 4"
   ]
  },
  {
   "cell_type": "code",
   "execution_count": 79,
   "metadata": {},
   "outputs": [
    {
     "name": "stdout",
     "output_type": "stream",
     "text": [
      "Moyenne des erreurs : 10.322740433319606\n",
      "Ecart-type des erreurs : 0.9842641561083222\n"
     ]
    }
   ],
   "source": [
    "error_valve_train_4 = error_valve_train[valve_train.Machine_ID == 4]\n",
    "\n",
    "print('Moyenne des erreurs :', np.mean(error_valve_train_4))\n",
    "print('Ecart-type des erreurs :', np.std(error_valve_train_4))\n",
    "\n",
    "seuil = 10.2 # valeur à déterminer selon les erreurs "
   ]
  },
  {
   "cell_type": "code",
   "execution_count": 80,
   "metadata": {},
   "outputs": [
    {
     "name": "stdout",
     "output_type": "stream",
     "text": [
      "              precision    recall  f1-score   support\n",
      "\n",
      "           0       0.91      0.60      0.72       100\n",
      "           1       0.74      0.95      0.83       120\n",
      "\n",
      "    accuracy                           0.79       220\n",
      "   macro avg       0.82      0.77      0.78       220\n",
      "weighted avg       0.82      0.79      0.78       220\n",
      "\n"
     ]
    },
    {
     "data": {
      "text/html": [
       "<div>\n",
       "<style scoped>\n",
       "    .dataframe tbody tr th:only-of-type {\n",
       "        vertical-align: middle;\n",
       "    }\n",
       "\n",
       "    .dataframe tbody tr th {\n",
       "        vertical-align: top;\n",
       "    }\n",
       "\n",
       "    .dataframe thead th {\n",
       "        text-align: right;\n",
       "    }\n",
       "</style>\n",
       "<table border=\"1\" class=\"dataframe\">\n",
       "  <thead>\n",
       "    <tr style=\"text-align: right;\">\n",
       "      <th>Classe prédite</th>\n",
       "      <th>0</th>\n",
       "      <th>1</th>\n",
       "    </tr>\n",
       "    <tr>\n",
       "      <th>Classe réelle</th>\n",
       "      <th></th>\n",
       "      <th></th>\n",
       "    </tr>\n",
       "  </thead>\n",
       "  <tbody>\n",
       "    <tr>\n",
       "      <th>0</th>\n",
       "      <td>60</td>\n",
       "      <td>40</td>\n",
       "    </tr>\n",
       "    <tr>\n",
       "      <th>1</th>\n",
       "      <td>6</td>\n",
       "      <td>114</td>\n",
       "    </tr>\n",
       "  </tbody>\n",
       "</table>\n",
       "</div>"
      ],
      "text/plain": [
       "Classe prédite   0    1\n",
       "Classe réelle          \n",
       "0               60   40\n",
       "1                6  114"
      ]
     },
     "execution_count": 80,
     "metadata": {},
     "output_type": "execute_result"
    }
   ],
   "source": [
    "y_true_4 = y_true[valve_test.Machine_ID == 4]\n",
    "y_pred_4 = np.where(error_valve_test[valve_test.Machine_ID == 4][:] > seuil, 1, 0)\n",
    "\n",
    "print(classification_report(y_true_4, y_pred_4))\n",
    "pd.crosstab(y_true_4, y_pred_4, rownames=['Classe réelle'], colnames=['Classe prédite'])"
   ]
  },
  {
   "cell_type": "code",
   "execution_count": 81,
   "metadata": {},
   "outputs": [
    {
     "name": "stdout",
     "output_type": "stream",
     "text": [
      "AUC : 0.7749999999999999\n",
      "pAUC : 0.5361842105263158\n"
     ]
    }
   ],
   "source": [
    "auc = roc_auc_score(y_true_4, y_pred_4)\n",
    "p_auc = roc_auc_score(y_true_4, y_pred_4, max_fpr=0.1)\n",
    "\n",
    "print(\"AUC : {}\".format(auc))\n",
    "print(\"pAUC : {}\".format(p_auc))"
   ]
  },
  {
   "cell_type": "markdown",
   "metadata": {},
   "source": [
    "### Quatrième Machine_ID : 6"
   ]
  },
  {
   "cell_type": "code",
   "execution_count": 85,
   "metadata": {},
   "outputs": [
    {
     "name": "stdout",
     "output_type": "stream",
     "text": [
      "Moyenne des erreurs : 10.367800012137605\n",
      "Ecart-type des erreurs : 1.1298256344127315\n"
     ]
    }
   ],
   "source": [
    "error_valve_train_6 = error_valve_train[valve_train.Machine_ID == 6]\n",
    "\n",
    "print('Moyenne des erreurs :', np.mean(error_valve_train_6))\n",
    "print('Ecart-type des erreurs :', np.std(error_valve_train_6))\n",
    "\n",
    "seuil = 10.1 # valeur à déterminer selon les erreurs "
   ]
  },
  {
   "cell_type": "code",
   "execution_count": 86,
   "metadata": {},
   "outputs": [
    {
     "name": "stdout",
     "output_type": "stream",
     "text": [
      "              precision    recall  f1-score   support\n",
      "\n",
      "           0       0.65      0.50      0.56       100\n",
      "           1       0.65      0.78      0.71       120\n",
      "\n",
      "    accuracy                           0.65       220\n",
      "   macro avg       0.65      0.64      0.64       220\n",
      "weighted avg       0.65      0.65      0.64       220\n",
      "\n"
     ]
    },
    {
     "data": {
      "text/html": [
       "<div>\n",
       "<style scoped>\n",
       "    .dataframe tbody tr th:only-of-type {\n",
       "        vertical-align: middle;\n",
       "    }\n",
       "\n",
       "    .dataframe tbody tr th {\n",
       "        vertical-align: top;\n",
       "    }\n",
       "\n",
       "    .dataframe thead th {\n",
       "        text-align: right;\n",
       "    }\n",
       "</style>\n",
       "<table border=\"1\" class=\"dataframe\">\n",
       "  <thead>\n",
       "    <tr style=\"text-align: right;\">\n",
       "      <th>Classe prédite</th>\n",
       "      <th>0</th>\n",
       "      <th>1</th>\n",
       "    </tr>\n",
       "    <tr>\n",
       "      <th>Classe réelle</th>\n",
       "      <th></th>\n",
       "      <th></th>\n",
       "    </tr>\n",
       "  </thead>\n",
       "  <tbody>\n",
       "    <tr>\n",
       "      <th>0</th>\n",
       "      <td>50</td>\n",
       "      <td>50</td>\n",
       "    </tr>\n",
       "    <tr>\n",
       "      <th>1</th>\n",
       "      <td>27</td>\n",
       "      <td>93</td>\n",
       "    </tr>\n",
       "  </tbody>\n",
       "</table>\n",
       "</div>"
      ],
      "text/plain": [
       "Classe prédite   0   1\n",
       "Classe réelle         \n",
       "0               50  50\n",
       "1               27  93"
      ]
     },
     "execution_count": 86,
     "metadata": {},
     "output_type": "execute_result"
    }
   ],
   "source": [
    "y_true_6 = y_true[valve_test.Machine_ID == 6]\n",
    "y_pred_6 = np.where(error_valve_test[valve_test.Machine_ID == 6][:] > seuil, 1, 0)\n",
    "\n",
    "print(classification_report(y_true_6, y_pred_6))\n",
    "pd.crosstab(y_true_6, y_pred_6, rownames=['Classe réelle'], colnames=['Classe prédite'])"
   ]
  },
  {
   "cell_type": "code",
   "execution_count": 87,
   "metadata": {},
   "outputs": [
    {
     "name": "stdout",
     "output_type": "stream",
     "text": [
      "AUC : 0.6375\n",
      "pAUC : 0.5144736842105263\n"
     ]
    }
   ],
   "source": [
    "auc = roc_auc_score(y_true_6, y_pred_6)\n",
    "p_auc = roc_auc_score(y_true_6, y_pred_6, max_fpr=0.1)\n",
    "\n",
    "print(\"AUC : {}\".format(auc))\n",
    "print(\"pAUC : {}\".format(p_auc))"
   ]
  },
  {
   "cell_type": "code",
   "execution_count": null,
   "metadata": {},
   "outputs": [],
   "source": []
  },
  {
   "cell_type": "code",
   "execution_count": null,
   "metadata": {},
   "outputs": [],
   "source": []
  }
 ],
 "metadata": {
  "kernelspec": {
   "display_name": "Python 3",
   "language": "python",
   "name": "python3"
  },
  "language_info": {
   "codemirror_mode": {
    "name": "ipython",
    "version": 3
   },
   "file_extension": ".py",
   "mimetype": "text/x-python",
   "name": "python",
   "nbconvert_exporter": "python",
   "pygments_lexer": "ipython3",
   "version": "3.8.5"
  }
 },
 "nbformat": 4,
 "nbformat_minor": 4
}
