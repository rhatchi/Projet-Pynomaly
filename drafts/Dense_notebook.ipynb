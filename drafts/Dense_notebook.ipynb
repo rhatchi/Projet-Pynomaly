{
 "cells": [
  {
   "cell_type": "code",
   "execution_count": null,
   "id": "d5769712-5cd0-448c-98c6-3d4b7db6e69d",
   "metadata": {},
   "outputs": [],
   "source": [
    "from Dense_final import *"
   ]
  },
  {
   "cell_type": "code",
   "execution_count": null,
   "id": "bb0aa4f9-6c5f-43cc-a085-6e3fe260d659",
   "metadata": {},
   "outputs": [],
   "source": [
    "machine_types = [\"fan\",\"pump\",\"valve\",\"slider\",\"ToyCar\",\"ToyConveyor\"]\n",
    "machinetype = machine_types[0] #à sélectionner entre 0 et 5"
   ]
  },
  {
   "cell_type": "code",
   "execution_count": null,
   "id": "51a8449b-3956-410c-a735-bd27fa53e27c",
   "metadata": {},
   "outputs": [],
   "source": [
    "train_data, test_data, train_data_conv, test_data_conv, y_true = feature_selection(machinetype)"
   ]
  },
  {
   "cell_type": "code",
   "execution_count": null,
   "id": "254aa95d-ab99-4686-ae7e-17ad334cae50",
   "metadata": {},
   "outputs": [],
   "source": [
    "model_conv = model_dense_training(machinetype,train_data_conv)"
   ]
  },
  {
   "cell_type": "code",
   "execution_count": null,
   "id": "a7c93089-2904-4014-b7c8-2d5a147f2229",
   "metadata": {},
   "outputs": [],
   "source": [
    "train_data_len = len(train_data)\n",
    "test_data_len = len(test_data)"
   ]
  },
  {
   "cell_type": "code",
   "execution_count": null,
   "id": "820c4c4c-4633-448a-8d30-4a58c18ec540",
   "metadata": {},
   "outputs": [],
   "source": [
    "model_evaluation(machinetype,model_conv,\n",
    "                     train_data,test_data,\n",
    "                     train_data_conv,test_data_conv,\n",
    "                     train_data_len,test_data_len,\n",
    "                     y_true)"
   ]
  }
 ],
 "metadata": {
  "kernelspec": {
   "display_name": "Python 3",
   "language": "python",
   "name": "python3"
  },
  "language_info": {
   "codemirror_mode": {
    "name": "ipython",
    "version": 3
   },
   "file_extension": ".py",
   "mimetype": "text/x-python",
   "name": "python",
   "nbconvert_exporter": "python",
   "pygments_lexer": "ipython3",
   "version": "3.7.10"
  }
 },
 "nbformat": 4,
 "nbformat_minor": 5
}
