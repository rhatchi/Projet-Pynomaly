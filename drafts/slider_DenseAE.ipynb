{
 "cells": [
  {
   "cell_type": "code",
   "execution_count": 99,
   "metadata": {},
   "outputs": [
    {
     "data": {
      "text/html": [
       "<div>\n",
       "<style scoped>\n",
       "    .dataframe tbody tr th:only-of-type {\n",
       "        vertical-align: middle;\n",
       "    }\n",
       "\n",
       "    .dataframe tbody tr th {\n",
       "        vertical-align: top;\n",
       "    }\n",
       "\n",
       "    .dataframe thead th {\n",
       "        text-align: right;\n",
       "    }\n",
       "</style>\n",
       "<table border=\"1\" class=\"dataframe\">\n",
       "  <thead>\n",
       "    <tr style=\"text-align: right;\">\n",
       "      <th></th>\n",
       "      <th>Path</th>\n",
       "      <th>Machine_Type</th>\n",
       "      <th>Dataset</th>\n",
       "      <th>Status</th>\n",
       "      <th>Machine_ID</th>\n",
       "      <th>Sample_ID</th>\n",
       "      <th>nb_echantillon</th>\n",
       "      <th>freq_echantillonnage</th>\n",
       "      <th>audio</th>\n",
       "    </tr>\n",
       "  </thead>\n",
       "  <tbody>\n",
       "    <tr>\n",
       "      <th>11969</th>\n",
       "      <td>Data/slider/train/normal_id_00_00000692.wav</td>\n",
       "      <td>slider</td>\n",
       "      <td>train</td>\n",
       "      <td>normal</td>\n",
       "      <td>0</td>\n",
       "      <td>692</td>\n",
       "      <td>160000</td>\n",
       "      <td>16000</td>\n",
       "      <td>[-0.01812744 -0.02529907 -0.02410889 ... -0.01...</td>\n",
       "    </tr>\n",
       "    <tr>\n",
       "      <th>11970</th>\n",
       "      <td>Data/slider/train/normal_id_06_00000093.wav</td>\n",
       "      <td>slider</td>\n",
       "      <td>train</td>\n",
       "      <td>normal</td>\n",
       "      <td>6</td>\n",
       "      <td>93</td>\n",
       "      <td>160000</td>\n",
       "      <td>16000</td>\n",
       "      <td>[ 0.00030518 -0.01733398  0.00076294 ... -0.01...</td>\n",
       "    </tr>\n",
       "    <tr>\n",
       "      <th>11971</th>\n",
       "      <td>Data/slider/train/normal_id_00_00000686.wav</td>\n",
       "      <td>slider</td>\n",
       "      <td>train</td>\n",
       "      <td>normal</td>\n",
       "      <td>0</td>\n",
       "      <td>686</td>\n",
       "      <td>160000</td>\n",
       "      <td>16000</td>\n",
       "      <td>[ 0.00491333 -0.00527954 -0.01107788 ... -0.01...</td>\n",
       "    </tr>\n",
       "    <tr>\n",
       "      <th>11972</th>\n",
       "      <td>Data/slider/train/normal_id_06_00000087.wav</td>\n",
       "      <td>slider</td>\n",
       "      <td>train</td>\n",
       "      <td>normal</td>\n",
       "      <td>6</td>\n",
       "      <td>87</td>\n",
       "      <td>160000</td>\n",
       "      <td>16000</td>\n",
       "      <td>[-0.0083313  -0.01031494 -0.01416016 ...  0.00...</td>\n",
       "    </tr>\n",
       "    <tr>\n",
       "      <th>11973</th>\n",
       "      <td>Data/slider/train/normal_id_02_00000058.wav</td>\n",
       "      <td>slider</td>\n",
       "      <td>train</td>\n",
       "      <td>normal</td>\n",
       "      <td>2</td>\n",
       "      <td>58</td>\n",
       "      <td>160000</td>\n",
       "      <td>16000</td>\n",
       "      <td>[0.00817871 0.01330566 0.012146   ... 0.005401...</td>\n",
       "    </tr>\n",
       "  </tbody>\n",
       "</table>\n",
       "</div>"
      ],
      "text/plain": [
       "                                              Path Machine_Type Dataset  \\\n",
       "11969  Data/slider/train/normal_id_00_00000692.wav       slider   train   \n",
       "11970  Data/slider/train/normal_id_06_00000093.wav       slider   train   \n",
       "11971  Data/slider/train/normal_id_00_00000686.wav       slider   train   \n",
       "11972  Data/slider/train/normal_id_06_00000087.wav       slider   train   \n",
       "11973  Data/slider/train/normal_id_02_00000058.wav       slider   train   \n",
       "\n",
       "       Status  Machine_ID  Sample_ID  nb_echantillon  freq_echantillonnage  \\\n",
       "11969  normal           0        692          160000                 16000   \n",
       "11970  normal           6         93          160000                 16000   \n",
       "11971  normal           0        686          160000                 16000   \n",
       "11972  normal           6         87          160000                 16000   \n",
       "11973  normal           2         58          160000                 16000   \n",
       "\n",
       "                                                   audio  \n",
       "11969  [-0.01812744 -0.02529907 -0.02410889 ... -0.01...  \n",
       "11970  [ 0.00030518 -0.01733398  0.00076294 ... -0.01...  \n",
       "11971  [ 0.00491333 -0.00527954 -0.01107788 ... -0.01...  \n",
       "11972  [-0.0083313  -0.01031494 -0.01416016 ...  0.00...  \n",
       "11973  [0.00817871 0.01330566 0.012146   ... 0.005401...  "
      ]
     },
     "execution_count": 99,
     "metadata": {},
     "output_type": "execute_result"
    }
   ],
   "source": [
    "import pandas as pd\n",
    "import numpy as np\n",
    "import librosa\n",
    "\n",
    "def load_audio(audio_path):\n",
    "    return librosa.load(audio_path, sr=None)\n",
    "\n",
    "df = pd.read_csv('Path_DF.csv')\n",
    "slider_train = df[(df.Dataset == 'train') & (df.Machine_Type == 'slider')]\n",
    "\n",
    "slider_train.head()"
   ]
  },
  {
   "cell_type": "markdown",
   "metadata": {},
   "source": [
    "## Cette fonction permet de faire une sélection de features MFEC sur un fichier audio "
   ]
  },
  {
   "cell_type": "code",
   "execution_count": 100,
   "metadata": {},
   "outputs": [],
   "source": [
    "def file_load_stream(wav_name, mono=False):\n",
    "    frameSize = librosa.get_samplerate(wav_name)\n",
    "    hoplength = frameSize // 2\n",
    "    stream = librosa.stream(wav_name, block_length=1, frame_length=frameSize, hop_length=hoplength, mono=mono)\n",
    "    return stream"
   ]
  },
  {
   "cell_type": "code",
   "execution_count": 101,
   "metadata": {},
   "outputs": [
    {
     "data": {
      "text/plain": [
       "<generator object stream at 0x7fc4967b2c10>"
      ]
     },
     "execution_count": 101,
     "metadata": {},
     "output_type": "execute_result"
    }
   ],
   "source": [
    "file_load_stream(df.iloc[0,0])"
   ]
  },
  {
   "cell_type": "markdown",
   "metadata": {},
   "source": [
    "## On va créer une fonction qui transforme le fichier MFEC en des vecteurs numpy\n"
   ]
  },
  {
   "cell_type": "code",
   "execution_count": 232,
   "metadata": {},
   "outputs": [],
   "source": [
    "import sys\n",
    "\n",
    "def file_to_vector_array_stream_test_data(file_name, n_mels=128, frames=5, n_fft=1024, hop_length=512, power=1):\n",
    "    \"\"\"\n",
    "    convert file_name to a vector array.\n",
    "    file_name : str\n",
    "        target .wav file\n",
    "    return : numpy.array( numpy.array( float ) )\n",
    "        vector array\n",
    "        * dataset.shape = (dataset_size, feature_vector_length)\n",
    "    \"\"\"\n",
    "    # 01 calculate the number of dimensions\n",
    "    dims = n_mels * frames\n",
    "    \n",
    "    # 02 generate melspectrogram using librosa\n",
    "    stream = file_load_stream(file_name)\n",
    "    sr = librosa.get_samplerate(file_name)\n",
    "    liste = []\n",
    "    for n, y in enumerate(stream):\n",
    "        mel_spectrogram = librosa.feature.melspectrogram(y=y, sr=sr, n_fft=n_fft, hop_length=hop_length, n_mels=n_mels, power=power)\n",
    "\n",
    "        # 03 convert melspectrogram\n",
    "\n",
    "        log_mel_spectrogram = 20.0 / power * np.log10(mel_spectrogram + sys.float_info.epsilon)\n",
    "\n",
    "        # 04 calculate total vector size\n",
    "        vector_array_size = len(log_mel_spectrogram[0, :]) - frames + 1  \n",
    "        \n",
    "        # 05 skip too short clips\n",
    "        if vector_array_size < 1:\n",
    "            return np.empty((0, dims))\n",
    "\n",
    "        # 06 generate feature vectors by concatenating multiframes\n",
    "        vector_array = np.zeros((vector_array_size, dims))\n",
    "\n",
    "        for t in range(frames):\n",
    "            vector_array[:, n_mels * t: n_mels * (t + 1)] = log_mel_spectrogram[:, t: t + vector_array_size].T\n",
    "\n",
    "        liste.append(vector_array)\n",
    "\n",
    "    liste = np.asarray(liste)\n",
    "    liste = liste.reshape(liste.shape[0] * liste.shape[1], liste.shape[2])\n",
    "    return liste"
   ]
  },
  {
   "cell_type": "code",
   "execution_count": 233,
   "metadata": {},
   "outputs": [
    {
     "data": {
      "text/plain": [
       "(532, 640)"
      ]
     },
     "execution_count": 233,
     "metadata": {},
     "output_type": "execute_result"
    }
   ],
   "source": [
    "nb_extract = 532\n",
    "\n",
    "file_to_vector_array_stream_test_data(df.iloc[0,0]).shape"
   ]
  },
  {
   "cell_type": "markdown",
   "metadata": {},
   "source": [
    "## A partir d'un Dataframe, on crée un ensemble de données exploitable pour le modèle Dense AE"
   ]
  },
  {
   "cell_type": "code",
   "execution_count": 105,
   "metadata": {},
   "outputs": [
    {
     "name": "stdout",
     "output_type": "stream",
     "text": [
      "Réalisé en 195.457 secondes\n"
     ]
    }
   ],
   "source": [
    "def dataset_stream(set_files):\n",
    "    \"\"\"\n",
    "    renvoie une dataset sur laquelle entrainer/évaluer le modèle Dense_AE\n",
    "    set_files est un DataFrame et sa première colonne contient les chemins\n",
    "    \"\"\"\n",
    "    liste = []\n",
    "    for k in range(len(set_files)):\n",
    "        for l in file_to_vector_array_stream_test_data(set_files.iloc[k,0]):\n",
    "            liste.append(l)\n",
    "    return np.asarray(liste)\n",
    "\n",
    "from time import time\n",
    "t0 = time()\n",
    "\n",
    "slider_train_stream = dataset_stream(slider_train)\n",
    "\n",
    "t1 = time() - t0\n",
    "print(\"Réalisé en {} secondes\".format(round(t1,3)))"
   ]
  },
  {
   "cell_type": "code",
   "execution_count": 106,
   "metadata": {},
   "outputs": [
    {
     "data": {
      "text/plain": [
       "(1491728, 640)"
      ]
     },
     "execution_count": 106,
     "metadata": {},
     "output_type": "execute_result"
    }
   ],
   "source": [
    "slider_train_stream.shape"
   ]
  },
  {
   "cell_type": "markdown",
   "metadata": {},
   "source": [
    "## On entraine un modèle DenseAE avec la dataset nouvellement créée"
   ]
  },
  {
   "cell_type": "code",
   "execution_count": 107,
   "metadata": {},
   "outputs": [],
   "source": [
    "import numpy as np\n",
    "import pandas as pd\n",
    "\n",
    "import tensorflow as tf\n",
    "from tensorflow.keras import Sequential\n",
    "from tensorflow.keras.layers import Conv2D, Conv2DTranspose, Dense, Dropout, Flatten, BatchNormalization, ReLU, Reshape\n"
   ]
  },
  {
   "cell_type": "code",
   "execution_count": 108,
   "metadata": {},
   "outputs": [],
   "source": [
    "def model_denseAE(input_shape = (640,)):\n",
    "    model_dense = Sequential()\n",
    "\n",
    "    # Première couche Encoder\n",
    "    model_dense.add(Dense(512, input_shape = input_shape))\n",
    "    model_dense.add(BatchNormalization())\n",
    "    model_dense.add(ReLU())\n",
    "\n",
    "    # Seconde couche Encoder\n",
    "    model_dense.add(Dense(512))\n",
    "    model_dense.add(BatchNormalization())\n",
    "    model_dense.add(ReLU())\n",
    "\n",
    "    # Troisième couche Encoder\n",
    "    model_dense.add(Dense(512))\n",
    "    model_dense.add(BatchNormalization())\n",
    "    model_dense.add(ReLU())\n",
    "\n",
    "    # Quatrième couche Encoder\n",
    "    model_dense.add(Dense(512))\n",
    "    model_dense.add(BatchNormalization())\n",
    "    model_dense.add(ReLU())\n",
    "\n",
    "    # Couche goulot\n",
    "    model_dense.add(Dense(8))\n",
    "    model_dense.add(BatchNormalization())\n",
    "    model_dense.add(ReLU())\n",
    "\n",
    "    # Première couche Decoder\n",
    "    model_dense.add(Dense(512))\n",
    "    model_dense.add(BatchNormalization())\n",
    "    model_dense.add(ReLU())\n",
    "\n",
    "    # Seconde couche Decoder\n",
    "    model_dense.add(Dense(512))\n",
    "    model_dense.add(BatchNormalization())\n",
    "    model_dense.add(ReLU())\n",
    "\n",
    "    # Troisième couche Decoder\n",
    "    model_dense.add(Dense(512))\n",
    "    model_dense.add(BatchNormalization())\n",
    "    model_dense.add(ReLU())\n",
    "\n",
    "    # Quatrième couche Decoder\n",
    "    model_dense.add(Dense(512))\n",
    "    model_dense.add(BatchNormalization())\n",
    "    model_dense.add(ReLU())\n",
    "\n",
    "    # Couche de reconstruction \n",
    "    model_dense.add(Dense(640))\n",
    "    \n",
    "    return model_dense\n",
    "\n",
    "model_dense = model_denseAE()\n",
    "\n",
    "# On compile \n",
    "model_dense.compile(optimizer='adam', loss=\"mse\")"
   ]
  },
  {
   "cell_type": "code",
   "execution_count": 109,
   "metadata": {},
   "outputs": [
    {
     "data": {
      "text/plain": [
       "'/Users/romeo/Formation DataScientist/projet pynomaly'"
      ]
     },
     "execution_count": 109,
     "metadata": {},
     "output_type": "execute_result"
    }
   ],
   "source": [
    "import os\n",
    "cwd = os.getcwd()\n",
    "filepath = cwd\n",
    "\n",
    "filepath"
   ]
  },
  {
   "cell_type": "code",
   "execution_count": 115,
   "metadata": {},
   "outputs": [
    {
     "name": "stdout",
     "output_type": "stream",
     "text": [
      "Epoch 1/100\n",
      "2040/2040 [==============================] - 188s 91ms/step - loss: 248.4294 - val_loss: 14.1461\n",
      "INFO:tensorflow:Assets written to: /Users/romeo/Formation DataScientist/projet pynomaly/assets\n",
      "Epoch 2/100\n",
      "2040/2040 [==============================] - 177s 87ms/step - loss: 13.1254 - val_loss: 12.9968\n",
      "INFO:tensorflow:Assets written to: /Users/romeo/Formation DataScientist/projet pynomaly/assets\n",
      "Epoch 3/100\n",
      "2040/2040 [==============================] - 146s 71ms/step - loss: 11.9743 - val_loss: 12.9329\n",
      "INFO:tensorflow:Assets written to: /Users/romeo/Formation DataScientist/projet pynomaly/assets\n",
      "Epoch 4/100\n",
      "2040/2040 [==============================] - 141s 69ms/step - loss: 11.3707 - val_loss: 12.9863\n",
      "Epoch 5/100\n",
      "2040/2040 [==============================] - 146s 71ms/step - loss: 11.0554 - val_loss: 15.2346\n",
      "Epoch 6/100\n",
      "2040/2040 [==============================] - 149s 73ms/step - loss: 10.8746 - val_loss: 11.8894\n",
      "INFO:tensorflow:Assets written to: /Users/romeo/Formation DataScientist/projet pynomaly/assets\n",
      "Epoch 7/100\n",
      "2040/2040 [==============================] - 146s 71ms/step - loss: 10.7452 - val_loss: 12.1330\n",
      "Epoch 8/100\n",
      "2040/2040 [==============================] - 142s 69ms/step - loss: 10.6685 - val_loss: 11.3479\n",
      "INFO:tensorflow:Assets written to: /Users/romeo/Formation DataScientist/projet pynomaly/assets\n",
      "Epoch 9/100\n",
      "2040/2040 [==============================] - 139s 68ms/step - loss: 10.5905 - val_loss: 11.5895\n",
      "Epoch 10/100\n",
      "2040/2040 [==============================] - 147s 72ms/step - loss: 10.5354 - val_loss: 11.4357\n",
      "Epoch 11/100\n",
      "2040/2040 [==============================] - 146s 72ms/step - loss: 10.4999 - val_loss: 11.1108\n",
      "INFO:tensorflow:Assets written to: /Users/romeo/Formation DataScientist/projet pynomaly/assets\n",
      "Epoch 12/100\n",
      "2040/2040 [==============================] - 147s 72ms/step - loss: 10.4489 - val_loss: 11.3485\n",
      "Epoch 13/100\n",
      "2040/2040 [==============================] - 147s 72ms/step - loss: 10.4105 - val_loss: 11.2577\n",
      "Epoch 14/100\n",
      "2040/2040 [==============================] - 144s 70ms/step - loss: 10.3864 - val_loss: 11.7711\n",
      "Epoch 15/100\n",
      "2040/2040 [==============================] - 146s 71ms/step - loss: 10.3605 - val_loss: 11.1484\n",
      "Epoch 16/100\n",
      "2040/2040 [==============================] - 152s 74ms/step - loss: 10.3314 - val_loss: 11.1668\n",
      "Epoch 17/100\n",
      "2040/2040 [==============================] - 149s 73ms/step - loss: 10.3036 - val_loss: 11.0513\n",
      "INFO:tensorflow:Assets written to: /Users/romeo/Formation DataScientist/projet pynomaly/assets\n",
      "Epoch 18/100\n",
      "2040/2040 [==============================] - 144s 71ms/step - loss: 10.2854 - val_loss: 11.0487\n",
      "INFO:tensorflow:Assets written to: /Users/romeo/Formation DataScientist/projet pynomaly/assets\n",
      "Epoch 19/100\n",
      "2040/2040 [==============================] - 144s 70ms/step - loss: 10.2680 - val_loss: 11.1328\n",
      "Epoch 20/100\n",
      "2040/2040 [==============================] - 142s 70ms/step - loss: 10.2469 - val_loss: 10.9528\n",
      "INFO:tensorflow:Assets written to: /Users/romeo/Formation DataScientist/projet pynomaly/assets\n",
      "Epoch 21/100\n",
      "2040/2040 [==============================] - 146s 71ms/step - loss: 10.2288 - val_loss: 11.1067\n",
      "Epoch 22/100\n",
      "2040/2040 [==============================] - 145s 71ms/step - loss: 10.2164 - val_loss: 10.9736\n",
      "Epoch 23/100\n",
      "2040/2040 [==============================] - 147s 72ms/step - loss: 10.2066 - val_loss: 10.9767\n",
      "Epoch 24/100\n",
      "2040/2040 [==============================] - 146s 72ms/step - loss: 10.1845 - val_loss: 11.0013\n",
      "Epoch 25/100\n",
      "2040/2040 [==============================] - 150s 74ms/step - loss: 10.1747 - val_loss: 11.0830\n",
      "Epoch 26/100\n",
      "2040/2040 [==============================] - 146s 71ms/step - loss: 10.1619 - val_loss: 12.1684\n",
      "Epoch 27/100\n",
      "2040/2040 [==============================] - 154s 76ms/step - loss: 10.1591 - val_loss: 10.8465\n",
      "INFO:tensorflow:Assets written to: /Users/romeo/Formation DataScientist/projet pynomaly/assets\n",
      "Epoch 28/100\n",
      "2040/2040 [==============================] - 145s 71ms/step - loss: 10.1390 - val_loss: 10.8968\n",
      "Epoch 29/100\n",
      "2040/2040 [==============================] - 148s 73ms/step - loss: 10.1243 - val_loss: 11.0679\n",
      "Epoch 30/100\n",
      "2040/2040 [==============================] - 146s 72ms/step - loss: 10.1188 - val_loss: 10.8548\n",
      "Epoch 31/100\n",
      "2040/2040 [==============================] - 151s 74ms/step - loss: 10.1094 - val_loss: 12.0075\n",
      "Epoch 32/100\n",
      "2040/2040 [==============================] - 144s 71ms/step - loss: 10.1036 - val_loss: 10.8909\n",
      "Epoch 33/100\n",
      "2040/2040 [==============================] - 146s 71ms/step - loss: 10.0901 - val_loss: 11.0550\n",
      "Epoch 34/100\n",
      "2040/2040 [==============================] - 145s 71ms/step - loss: 10.1125 - val_loss: 10.7829\n",
      "INFO:tensorflow:Assets written to: /Users/romeo/Formation DataScientist/projet pynomaly/assets\n",
      "Epoch 35/100\n",
      "2040/2040 [==============================] - 152s 75ms/step - loss: 10.0743 - val_loss: 10.8949\n",
      "Epoch 36/100\n",
      "2040/2040 [==============================] - 146s 71ms/step - loss: 10.0661 - val_loss: 10.8083\n",
      "Epoch 37/100\n",
      "2040/2040 [==============================] - 143s 70ms/step - loss: 10.0639 - val_loss: 10.8781\n",
      "Epoch 38/100\n",
      "2040/2040 [==============================] - 140s 69ms/step - loss: 10.0562 - val_loss: 10.8727\n",
      "Epoch 39/100\n",
      "2040/2040 [==============================] - 144s 71ms/step - loss: 10.0498 - val_loss: 10.9513\n",
      "Epoch 40/100\n",
      "2040/2040 [==============================] - 147s 72ms/step - loss: 10.0438 - val_loss: 11.3426\n",
      "Epoch 41/100\n",
      "2040/2040 [==============================] - 141s 69ms/step - loss: 10.0426 - val_loss: 10.7551\n",
      "INFO:tensorflow:Assets written to: /Users/romeo/Formation DataScientist/projet pynomaly/assets\n",
      "Epoch 42/100\n",
      "2040/2040 [==============================] - 144s 71ms/step - loss: 10.0292 - val_loss: 10.8179\n",
      "Epoch 43/100\n",
      "2040/2040 [==============================] - 142s 70ms/step - loss: 10.0250 - val_loss: 10.8271\n",
      "Epoch 44/100\n",
      "2040/2040 [==============================] - 143s 70ms/step - loss: 10.0248 - val_loss: 10.7945\n",
      "Epoch 45/100\n",
      "2040/2040 [==============================] - 144s 70ms/step - loss: 10.0200 - val_loss: 12.4678\n",
      "Epoch 46/100\n",
      "2040/2040 [==============================] - 144s 71ms/step - loss: 10.0121 - val_loss: 10.9406\n",
      "Epoch 47/100\n",
      "2040/2040 [==============================] - 144s 70ms/step - loss: 10.0028 - val_loss: 10.8798\n",
      "Epoch 48/100\n",
      "2040/2040 [==============================] - 144s 71ms/step - loss: 10.0022 - val_loss: 10.7960\n",
      "Epoch 49/100\n",
      "2040/2040 [==============================] - 145s 71ms/step - loss: 9.9974 - val_loss: 10.8331\n",
      "Epoch 50/100\n",
      "2040/2040 [==============================] - 143s 70ms/step - loss: 9.9919 - val_loss: 11.0094\n",
      "Epoch 51/100\n",
      "2040/2040 [==============================] - 142s 70ms/step - loss: 9.9869 - val_loss: 10.8795\n",
      "Réalisé en 7596.618 secondes\n"
     ]
    }
   ],
   "source": [
    "from tensorflow.keras import callbacks\n",
    "\n",
    "# Callback pour arrêter l'entrainement et récupérer le meilleur modèle si la métrique ne diminue plus pendant 10 epochs\n",
    "early_stopping = callbacks.EarlyStopping(monitor = 'val_loss', patience = 10, mode = 'min', restore_best_weights = True)\n",
    "\n",
    "import os\n",
    "cwd = os.getcwd()\n",
    "filepath = cwd\n",
    "\n",
    "# Callback pour sauvegarder le meilleur modèle\n",
    "checkpoint = callbacks.ModelCheckpoint(filepath = filepath, monitor = 'val_loss', save_best_only = True, \n",
    "                                       save_weights_only = False, mode = 'min', save_freq = 'epoch')\n",
    "\n",
    "t0 = time()\n",
    "\n",
    "# On entraine le modèle sur slider_train. \n",
    "model_dense.fit(slider_train_stream, slider_train_stream, batch_size = 512, epochs = 100, callbacks=[checkpoint, early_stopping], validation_split = 0.3)\n",
    "\n",
    "t1 = time() - t0\n",
    "print(\"Réalisé en {} secondes\".format(round(t1,3)))"
   ]
  },
  {
   "cell_type": "code",
   "execution_count": 114,
   "metadata": {},
   "outputs": [
    {
     "data": {
      "text/plain": [
       "<tensorflow.python.saved_model.load.Loader._recreate_base_user_object.<locals>._UserObject at 0x7fb96d2d8d60>"
      ]
     },
     "execution_count": 114,
     "metadata": {},
     "output_type": "execute_result"
    }
   ],
   "source": [
    "#model_dense_slider = tf.saved_model.load('/Users/romeo/Formation DataScientist/projet pynomaly')\n",
    "\n",
    "#model_dense_slider"
   ]
  },
  {
   "cell_type": "markdown",
   "metadata": {},
   "source": [
    "### On crée la dataset d'évaluation"
   ]
  },
  {
   "cell_type": "code",
   "execution_count": 235,
   "metadata": {},
   "outputs": [
    {
     "name": "stdout",
     "output_type": "stream",
     "text": [
      "Réalisé en 80.869 secondes\n"
     ]
    }
   ],
   "source": [
    "slider_test = df[(df.Dataset == 'test') & (df.Machine_Type == 'slider')]\n",
    "\n",
    "t0 = time()\n",
    "\n",
    "slider_test_stream = dataset_stream(slider_test)\n",
    "\n",
    "t1 = time() - t0\n",
    "print(\"Réalisé en {} secondes\".format(round(t1,3)))"
   ]
  },
  {
   "cell_type": "code",
   "execution_count": 134,
   "metadata": {},
   "outputs": [],
   "source": [
    "# Pour déterminer le seuil à partir duquel on peut dire qu'une prise de son est anormale\n",
    "\n",
    "pred_slider_train = model_dense.predict(slider_train_stream)"
   ]
  },
  {
   "cell_type": "code",
   "execution_count": 161,
   "metadata": {},
   "outputs": [],
   "source": [
    "def errors(X_true, X_pred, length, nb_extract = 532): \n",
    "    \"\"\"\n",
    "    calcule les erreurs entre le jeu de départ et les prédictions du modèle\n",
    "    \"\"\"\n",
    "    vect_error = np.mean(np.square(X_true - X_pred), axis=1)\n",
    "    errors = np.zeros(length)\n",
    "    for k in range(length):\n",
    "        errors[k] = np.mean(vect_error[k*nb_extract : (k+1)*nb_extract])\n",
    "    return errors\n"
   ]
  },
  {
   "cell_type": "code",
   "execution_count": 162,
   "metadata": {},
   "outputs": [
    {
     "name": "stdout",
     "output_type": "stream",
     "text": [
      "Moyenne des erreurs : 10.263311256811678\n",
      "Ecart-type des erreurs : 1.030121709960901\n"
     ]
    }
   ],
   "source": [
    "error_slider_train = errors(slider_train_stream, pred_slider_train, len(slider_train))\n",
    "\n",
    "#print(error_slider)\n",
    "print('Moyenne des erreurs :', np.mean(error_slider_train))\n",
    "print('Ecart-type des erreurs :', np.std(error_slider_train))\n",
    "\n",
    "# Donc un seuil un peu plus grand que 11.3 est bien pour trouver les prises de sons anormales détectées par le modèle"
   ]
  },
  {
   "cell_type": "code",
   "execution_count": 163,
   "metadata": {},
   "outputs": [],
   "source": [
    "pred_slider_test = model_dense.predict(slider_test_stream)\n",
    "\n",
    "error_slider_test = errors(slider_test_stream, pred_slider_test, len(slider_test))\n"
   ]
  },
  {
   "cell_type": "code",
   "execution_count": 164,
   "metadata": {},
   "outputs": [
    {
     "data": {
      "text/plain": [
       "10679    0\n",
       "10680    1\n",
       "10681    1\n",
       "10682    0\n",
       "10683    0\n",
       "        ..\n",
       "11964    1\n",
       "11965    1\n",
       "11966    0\n",
       "11967    0\n",
       "11968    0\n",
       "Name: Status, Length: 1290, dtype: int64"
      ]
     },
     "execution_count": 164,
     "metadata": {},
     "output_type": "execute_result"
    }
   ],
   "source": [
    "y_true = slider_test['Status'].replace(['normal', 'anomaly'], [0,1])\n",
    "\n",
    "y_true"
   ]
  },
  {
   "cell_type": "code",
   "execution_count": 171,
   "metadata": {},
   "outputs": [
    {
     "data": {
      "text/html": [
       "<div>\n",
       "<style scoped>\n",
       "    .dataframe tbody tr th:only-of-type {\n",
       "        vertical-align: middle;\n",
       "    }\n",
       "\n",
       "    .dataframe tbody tr th {\n",
       "        vertical-align: top;\n",
       "    }\n",
       "\n",
       "    .dataframe thead th {\n",
       "        text-align: right;\n",
       "    }\n",
       "</style>\n",
       "<table border=\"1\" class=\"dataframe\">\n",
       "  <thead>\n",
       "    <tr style=\"text-align: right;\">\n",
       "      <th>Classe prédite</th>\n",
       "      <th>0</th>\n",
       "      <th>1</th>\n",
       "    </tr>\n",
       "    <tr>\n",
       "      <th>Classe réelle</th>\n",
       "      <th></th>\n",
       "      <th></th>\n",
       "    </tr>\n",
       "  </thead>\n",
       "  <tbody>\n",
       "    <tr>\n",
       "      <th>0</th>\n",
       "      <td>314</td>\n",
       "      <td>86</td>\n",
       "    </tr>\n",
       "    <tr>\n",
       "      <th>1</th>\n",
       "      <td>112</td>\n",
       "      <td>778</td>\n",
       "    </tr>\n",
       "  </tbody>\n",
       "</table>\n",
       "</div>"
      ],
      "text/plain": [
       "Classe prédite    0    1\n",
       "Classe réelle           \n",
       "0               314   86\n",
       "1               112  778"
      ]
     },
     "execution_count": 171,
     "metadata": {},
     "output_type": "execute_result"
    }
   ],
   "source": [
    "seuil = 11.4 # valeur à déterminer selon les erreurs \n",
    "\n",
    "y_pred = np.where(error_slider_test[:] > seuil, 1, 0)\n",
    "\n",
    "pd.crosstab(y_true, y_pred, rownames=['Classe réelle'], colnames=['Classe prédite'])"
   ]
  },
  {
   "cell_type": "code",
   "execution_count": 170,
   "metadata": {},
   "outputs": [
    {
     "name": "stdout",
     "output_type": "stream",
     "text": [
      "              precision    recall  f1-score   support\n",
      "\n",
      "           0       0.71      0.80      0.75       400\n",
      "           1       0.90      0.86      0.88       890\n",
      "\n",
      "    accuracy                           0.84      1290\n",
      "   macro avg       0.81      0.83      0.82      1290\n",
      "weighted avg       0.84      0.84      0.84      1290\n",
      "\n"
     ]
    }
   ],
   "source": [
    "from sklearn.metrics import classification_report\n",
    "\n",
    "print(classification_report(y_true, y_pred))\n"
   ]
  },
  {
   "cell_type": "code",
   "execution_count": 172,
   "metadata": {},
   "outputs": [
    {
     "data": {
      "image/png": "[encoded data removed]",
      "text/plain": [
       "<Figure size 432x288 with 1 Axes>"
      ]
     },
     "metadata": {
      "needs_background": "light"
     },
     "output_type": "display_data"
    }
   ],
   "source": [
    "from sklearn.metrics import roc_curve, auc, roc_auc_score\n",
    "import matplotlib.pyplot as plt\n",
    "\n",
    "fpr, tpr, seuils = roc_curve(y_true, error_slider, pos_label = 1)\n",
    "\n",
    "roc_auc = auc(fpr, tpr)\n",
    "\n",
    "plt.plot(fpr, tpr, 'orange', label = 'Modèle dense (auc = %0.2f)' % roc_auc)\n",
    "plt.title('Courbe ROC')\n",
    "plt.xlabel('Taux faux positifs')\n",
    "plt.ylabel('Taux vrais positifs')\n",
    "plt.xlim(0,1)\n",
    "plt.ylim(0,1.05)\n",
    "\n",
    "plt.plot(fpr, fpr, 'b--', label = 'Aléatoire (aux = 0.5)')\n",
    "\n",
    "plt.legend(loc = 'lower right')\n",
    "plt.show();"
   ]
  },
  {
   "cell_type": "code",
   "execution_count": 173,
   "metadata": {},
   "outputs": [
    {
     "name": "stdout",
     "output_type": "stream",
     "text": [
      "AUC : 0.8295786516853934\n",
      "pAUC : 0.5806802084909164\n"
     ]
    }
   ],
   "source": [
    "auc = roc_auc_score(y_true, y_pred)\n",
    "p_auc = roc_auc_score(y_true, y_pred, max_fpr=0.1)\n",
    "\n",
    "print(\"AUC : {}\".format(auc))\n",
    "print(\"pAUC : {}\".format(p_auc))"
   ]
  },
  {
   "cell_type": "markdown",
   "metadata": {},
   "source": [
    "## Affinons notre analyse selon le Machine_ID"
   ]
  },
  {
   "cell_type": "code",
   "execution_count": 156,
   "metadata": {},
   "outputs": [
    {
     "data": {
      "text/plain": [
       "array([0, 6, 2, 4])"
      ]
     },
     "execution_count": 156,
     "metadata": {},
     "output_type": "execute_result"
    }
   ],
   "source": [
    "#slider_train.Machine_ID.value_counts()\n",
    "slider_train.Machine_ID.unique()"
   ]
  },
  {
   "cell_type": "markdown",
   "metadata": {},
   "source": [
    "### Premier Machine_ID : 0"
   ]
  },
  {
   "cell_type": "code",
   "execution_count": 181,
   "metadata": {},
   "outputs": [
    {
     "name": "stdout",
     "output_type": "stream",
     "text": [
      "Moyenne des erreurs : 10.06757308332017\n",
      "Ecart-type des erreurs : 0.8538450127004871\n"
     ]
    }
   ],
   "source": [
    "error_slider_train_0 = error_slider_train[slider_train.Machine_ID == 0]\n",
    "\n",
    "print('Moyenne des erreurs :', np.mean(error_slider_train_0))\n",
    "print('Ecart-type des erreurs :', np.std(error_slider_train_0))\n",
    "\n",
    "seuil = 11.4 # valeur à déterminer selon les erreurs "
   ]
  },
  {
   "cell_type": "code",
   "execution_count": 182,
   "metadata": {},
   "outputs": [
    {
     "name": "stdout",
     "output_type": "stream",
     "text": [
      "              precision    recall  f1-score   support\n",
      "\n",
      "           0       0.98      0.80      0.88       100\n",
      "           1       0.95      0.99      0.97       356\n",
      "\n",
      "    accuracy                           0.95       456\n",
      "   macro avg       0.96      0.90      0.92       456\n",
      "weighted avg       0.95      0.95      0.95       456\n",
      "\n"
     ]
    },
    {
     "data": {
      "text/html": [
       "<div>\n",
       "<style scoped>\n",
       "    .dataframe tbody tr th:only-of-type {\n",
       "        vertical-align: middle;\n",
       "    }\n",
       "\n",
       "    .dataframe tbody tr th {\n",
       "        vertical-align: top;\n",
       "    }\n",
       "\n",
       "    .dataframe thead th {\n",
       "        text-align: right;\n",
       "    }\n",
       "</style>\n",
       "<table border=\"1\" class=\"dataframe\">\n",
       "  <thead>\n",
       "    <tr style=\"text-align: right;\">\n",
       "      <th>Classe prédite</th>\n",
       "      <th>0</th>\n",
       "      <th>1</th>\n",
       "    </tr>\n",
       "    <tr>\n",
       "      <th>Classe réelle</th>\n",
       "      <th></th>\n",
       "      <th></th>\n",
       "    </tr>\n",
       "  </thead>\n",
       "  <tbody>\n",
       "    <tr>\n",
       "      <th>0</th>\n",
       "      <td>80</td>\n",
       "      <td>20</td>\n",
       "    </tr>\n",
       "    <tr>\n",
       "      <th>1</th>\n",
       "      <td>2</td>\n",
       "      <td>354</td>\n",
       "    </tr>\n",
       "  </tbody>\n",
       "</table>\n",
       "</div>"
      ],
      "text/plain": [
       "Classe prédite   0    1\n",
       "Classe réelle          \n",
       "0               80   20\n",
       "1                2  354"
      ]
     },
     "execution_count": 182,
     "metadata": {},
     "output_type": "execute_result"
    }
   ],
   "source": [
    "y_true_0 = y_true[slider_test.Machine_ID == 0]\n",
    "y_pred_0 = np.where(error_slider_test[slider_test.Machine_ID == 0][:] > seuil, 1, 0)\n",
    "\n",
    "print(classification_report(y_true_0, y_pred_0))\n",
    "pd.crosstab(y_true_0, y_pred_0, rownames=['Classe réelle'], colnames=['Classe prédite'])"
   ]
  },
  {
   "cell_type": "code",
   "execution_count": 183,
   "metadata": {},
   "outputs": [
    {
     "name": "stdout",
     "output_type": "stream",
     "text": [
      "AUC : 0.897191011235955\n",
      "pAUC : 0.6045239503252513\n"
     ]
    }
   ],
   "source": [
    "auc = roc_auc_score(y_true_0, y_pred_0)\n",
    "p_auc = roc_auc_score(y_true_0, y_pred_0, max_fpr=0.1)\n",
    "\n",
    "print(\"AUC : {}\".format(auc))\n",
    "print(\"pAUC : {}\".format(p_auc))"
   ]
  },
  {
   "cell_type": "markdown",
   "metadata": {},
   "source": [
    "### Deuxième Machine_ID : 2 "
   ]
  },
  {
   "cell_type": "code",
   "execution_count": 197,
   "metadata": {},
   "outputs": [
    {
     "name": "stdout",
     "output_type": "stream",
     "text": [
      "Moyenne des erreurs : 10.172492965291347\n",
      "Ecart-type des erreurs : 0.9994760888384666\n"
     ]
    }
   ],
   "source": [
    "error_slider_train_2 = error_slider_train[slider_train.Machine_ID == 2]\n",
    "\n",
    "print('Moyenne des erreurs :', np.mean(error_slider_train_2))\n",
    "print('Ecart-type des erreurs :', np.std(error_slider_train_2))\n",
    "\n",
    "seuil = 10.8 # valeur à déterminer selon les erreurs "
   ]
  },
  {
   "cell_type": "code",
   "execution_count": 198,
   "metadata": {},
   "outputs": [
    {
     "name": "stdout",
     "output_type": "stream",
     "text": [
      "              precision    recall  f1-score   support\n",
      "\n",
      "           0       0.50      0.66      0.57       100\n",
      "           1       0.86      0.76      0.80       267\n",
      "\n",
      "    accuracy                           0.73       367\n",
      "   macro avg       0.68      0.71      0.69       367\n",
      "weighted avg       0.76      0.73      0.74       367\n",
      "\n"
     ]
    },
    {
     "data": {
      "text/html": [
       "<div>\n",
       "<style scoped>\n",
       "    .dataframe tbody tr th:only-of-type {\n",
       "        vertical-align: middle;\n",
       "    }\n",
       "\n",
       "    .dataframe tbody tr th {\n",
       "        vertical-align: top;\n",
       "    }\n",
       "\n",
       "    .dataframe thead th {\n",
       "        text-align: right;\n",
       "    }\n",
       "</style>\n",
       "<table border=\"1\" class=\"dataframe\">\n",
       "  <thead>\n",
       "    <tr style=\"text-align: right;\">\n",
       "      <th>Classe prédite</th>\n",
       "      <th>0</th>\n",
       "      <th>1</th>\n",
       "    </tr>\n",
       "    <tr>\n",
       "      <th>Classe réelle</th>\n",
       "      <th></th>\n",
       "      <th></th>\n",
       "    </tr>\n",
       "  </thead>\n",
       "  <tbody>\n",
       "    <tr>\n",
       "      <th>0</th>\n",
       "      <td>66</td>\n",
       "      <td>34</td>\n",
       "    </tr>\n",
       "    <tr>\n",
       "      <th>1</th>\n",
       "      <td>65</td>\n",
       "      <td>202</td>\n",
       "    </tr>\n",
       "  </tbody>\n",
       "</table>\n",
       "</div>"
      ],
      "text/plain": [
       "Classe prédite   0    1\n",
       "Classe réelle          \n",
       "0               66   34\n",
       "1               65  202"
      ]
     },
     "execution_count": 198,
     "metadata": {},
     "output_type": "execute_result"
    }
   ],
   "source": [
    "y_true_2 = y_true[slider_test.Machine_ID == 2]\n",
    "y_pred_2 = np.where(error_slider_test[slider_test.Machine_ID == 2][:] > seuil, 1, 0)\n",
    "\n",
    "print(classification_report(y_true_2, y_pred_2))\n",
    "pd.crosstab(y_true_2, y_pred_2, rownames=['Classe réelle'], colnames=['Classe prédite'])"
   ]
  },
  {
   "cell_type": "code",
   "execution_count": 199,
   "metadata": {},
   "outputs": [
    {
     "name": "stdout",
     "output_type": "stream",
     "text": [
      "AUC : 0.7082771535580523\n",
      "pAUC : 0.532241045442423\n"
     ]
    }
   ],
   "source": [
    "auc = roc_auc_score(y_true_2, y_pred_2)\n",
    "p_auc = roc_auc_score(y_true_2, y_pred_2, max_fpr=0.1)\n",
    "\n",
    "print(\"AUC : {}\".format(auc))\n",
    "print(\"pAUC : {}\".format(p_auc))"
   ]
  },
  {
   "cell_type": "markdown",
   "metadata": {},
   "source": [
    "### Troisième Machine_ID : 4"
   ]
  },
  {
   "cell_type": "code",
   "execution_count": 209,
   "metadata": {},
   "outputs": [
    {
     "name": "stdout",
     "output_type": "stream",
     "text": [
      "Moyenne des erreurs : 10.585692787462927\n",
      "Ecart-type des erreurs : 0.9945730578638943\n"
     ]
    }
   ],
   "source": [
    "error_slider_train_4 = error_slider_train[slider_train.Machine_ID == 4]\n",
    "\n",
    "print('Moyenne des erreurs :', np.mean(error_slider_train_4))\n",
    "print('Ecart-type des erreurs :', np.std(error_slider_train_4))\n",
    "\n",
    "seuil = 12 # valeur à déterminer selon les erreurs "
   ]
  },
  {
   "cell_type": "code",
   "execution_count": 210,
   "metadata": {},
   "outputs": [
    {
     "name": "stdout",
     "output_type": "stream",
     "text": [
      "              precision    recall  f1-score   support\n",
      "\n",
      "           0       0.98      0.87      0.92       100\n",
      "           1       0.93      0.99      0.96       178\n",
      "\n",
      "    accuracy                           0.95       278\n",
      "   macro avg       0.95      0.93      0.94       278\n",
      "weighted avg       0.95      0.95      0.95       278\n",
      "\n"
     ]
    },
    {
     "data": {
      "text/html": [
       "<div>\n",
       "<style scoped>\n",
       "    .dataframe tbody tr th:only-of-type {\n",
       "        vertical-align: middle;\n",
       "    }\n",
       "\n",
       "    .dataframe tbody tr th {\n",
       "        vertical-align: top;\n",
       "    }\n",
       "\n",
       "    .dataframe thead th {\n",
       "        text-align: right;\n",
       "    }\n",
       "</style>\n",
       "<table border=\"1\" class=\"dataframe\">\n",
       "  <thead>\n",
       "    <tr style=\"text-align: right;\">\n",
       "      <th>Classe prédite</th>\n",
       "      <th>0</th>\n",
       "      <th>1</th>\n",
       "    </tr>\n",
       "    <tr>\n",
       "      <th>Classe réelle</th>\n",
       "      <th></th>\n",
       "      <th></th>\n",
       "    </tr>\n",
       "  </thead>\n",
       "  <tbody>\n",
       "    <tr>\n",
       "      <th>0</th>\n",
       "      <td>87</td>\n",
       "      <td>13</td>\n",
       "    </tr>\n",
       "    <tr>\n",
       "      <th>1</th>\n",
       "      <td>2</td>\n",
       "      <td>176</td>\n",
       "    </tr>\n",
       "  </tbody>\n",
       "</table>\n",
       "</div>"
      ],
      "text/plain": [
       "Classe prédite   0    1\n",
       "Classe réelle          \n",
       "0               87   13\n",
       "1                2  176"
      ]
     },
     "execution_count": 210,
     "metadata": {},
     "output_type": "execute_result"
    }
   ],
   "source": [
    "y_true_4 = y_true[slider_test.Machine_ID == 4]\n",
    "y_pred_4 = np.where(error_slider_test[slider_test.Machine_ID == 4][:] > seuil, 1, 0)\n",
    "\n",
    "print(classification_report(y_true_4, y_pred_4))\n",
    "pd.crosstab(y_true_4, y_pred_4, rownames=['Classe réelle'], colnames=['Classe prédite'])"
   ]
  },
  {
   "cell_type": "code",
   "execution_count": 211,
   "metadata": {},
   "outputs": [
    {
     "name": "stdout",
     "output_type": "stream",
     "text": [
      "AUC : 0.92938202247191\n",
      "pAUC : 0.6738388754947005\n"
     ]
    }
   ],
   "source": [
    "auc = roc_auc_score(y_true_4, y_pred_4)\n",
    "p_auc = roc_auc_score(y_true_4, y_pred_4, max_fpr=0.1)\n",
    "\n",
    "print(\"AUC : {}\".format(auc))\n",
    "print(\"pAUC : {}\".format(p_auc))"
   ]
  },
  {
   "cell_type": "markdown",
   "metadata": {},
   "source": [
    "### Quatrième Machine_ID : 6"
   ]
  },
  {
   "cell_type": "code",
   "execution_count": 229,
   "metadata": {},
   "outputs": [
    {
     "name": "stdout",
     "output_type": "stream",
     "text": [
      "Moyenne des erreurs : 10.580069491440288\n",
      "Ecart-type des erreurs : 1.3055483512960364\n"
     ]
    }
   ],
   "source": [
    "error_slider_train_6 = error_slider_train[slider_train.Machine_ID == 6]\n",
    "\n",
    "print('Moyenne des erreurs :', np.mean(error_slider_train_6))\n",
    "print('Ecart-type des erreurs :', np.std(error_slider_train_6))\n",
    "\n",
    "seuil = 10.8 # valeur à déterminer selon les erreurs "
   ]
  },
  {
   "cell_type": "code",
   "execution_count": 230,
   "metadata": {},
   "outputs": [
    {
     "name": "stdout",
     "output_type": "stream",
     "text": [
      "              precision    recall  f1-score   support\n",
      "\n",
      "           0       0.90      0.60      0.72       100\n",
      "           1       0.67      0.92      0.78        89\n",
      "\n",
      "    accuracy                           0.75       189\n",
      "   macro avg       0.78      0.76      0.75       189\n",
      "weighted avg       0.79      0.75      0.75       189\n",
      "\n"
     ]
    },
    {
     "data": {
      "text/html": [
       "<div>\n",
       "<style scoped>\n",
       "    .dataframe tbody tr th:only-of-type {\n",
       "        vertical-align: middle;\n",
       "    }\n",
       "\n",
       "    .dataframe tbody tr th {\n",
       "        vertical-align: top;\n",
       "    }\n",
       "\n",
       "    .dataframe thead th {\n",
       "        text-align: right;\n",
       "    }\n",
       "</style>\n",
       "<table border=\"1\" class=\"dataframe\">\n",
       "  <thead>\n",
       "    <tr style=\"text-align: right;\">\n",
       "      <th>Classe prédite</th>\n",
       "      <th>0</th>\n",
       "      <th>1</th>\n",
       "    </tr>\n",
       "    <tr>\n",
       "      <th>Classe réelle</th>\n",
       "      <th></th>\n",
       "      <th></th>\n",
       "    </tr>\n",
       "  </thead>\n",
       "  <tbody>\n",
       "    <tr>\n",
       "      <th>0</th>\n",
       "      <td>60</td>\n",
       "      <td>40</td>\n",
       "    </tr>\n",
       "    <tr>\n",
       "      <th>1</th>\n",
       "      <td>7</td>\n",
       "      <td>82</td>\n",
       "    </tr>\n",
       "  </tbody>\n",
       "</table>\n",
       "</div>"
      ],
      "text/plain": [
       "Classe prédite   0   1\n",
       "Classe réelle         \n",
       "0               60  40\n",
       "1                7  82"
      ]
     },
     "execution_count": 230,
     "metadata": {},
     "output_type": "execute_result"
    }
   ],
   "source": [
    "y_true_6 = y_true[slider_test.Machine_ID == 6]\n",
    "y_pred_6 = np.where(error_slider_test[slider_test.Machine_ID == 6][:] > seuil, 1, 0)\n",
    "\n",
    "print(classification_report(y_true_6, y_pred_6))\n",
    "pd.crosstab(y_true_6, y_pred_6, rownames=['Classe réelle'], colnames=['Classe prédite'])"
   ]
  },
  {
   "cell_type": "code",
   "execution_count": 231,
   "metadata": {},
   "outputs": [
    {
     "name": "stdout",
     "output_type": "stream",
     "text": [
      "AUC : 0.7606741573033708\n",
      "pAUC : 0.5342992312241277\n"
     ]
    }
   ],
   "source": [
    "auc = roc_auc_score(y_true_6, y_pred_6)\n",
    "p_auc = roc_auc_score(y_true_6, y_pred_6, max_fpr=0.1)\n",
    "\n",
    "print(\"AUC : {}\".format(auc))\n",
    "print(\"pAUC : {}\".format(p_auc))"
   ]
  },
  {
   "cell_type": "code",
   "execution_count": null,
   "metadata": {},
   "outputs": [],
   "source": []
  }
 ],
 "metadata": {
  "kernelspec": {
   "display_name": "Python 3",
   "language": "python",
   "name": "python3"
  },
  "language_info": {
   "codemirror_mode": {
    "name": "ipython",
    "version": 3
   },
   "file_extension": ".py",
   "mimetype": "text/x-python",
   "name": "python",
   "nbconvert_exporter": "python",
   "pygments_lexer": "ipython3",
   "version": "3.8.5"
  }
 },
 "nbformat": 4,
 "nbformat_minor": 4
}
