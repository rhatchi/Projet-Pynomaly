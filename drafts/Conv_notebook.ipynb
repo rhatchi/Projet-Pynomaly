{
 "cells": [
  {
   "cell_type": "code",
   "execution_count": null,
   "id": "6b813489-c73c-4e4c-b38c-38035c86e41e",
   "metadata": {},
   "outputs": [],
   "source": [
    "from Conv_final import *"
   ]
  },
  {
   "cell_type": "code",
   "execution_count": null,
   "id": "febf289a-5dc5-4ce5-92f1-7f2cde31991d",
   "metadata": {},
   "outputs": [],
   "source": [
    "machine_types = [\"fan\",\"pump\",\"valve\",\"slider\",\"ToyCar\",\"ToyConveyor\"]\n",
    "machinetype = machine_types[0] #à sélectionner entre 0 et 5"
   ]
  },
  {
   "cell_type": "code",
   "execution_count": null,
   "id": "bb85e523-188f-4e22-a0e4-3cbf319a2844",
   "metadata": {},
   "outputs": [],
   "source": [
    "train_data, test_data, train_data_conv, test_data_conv, y_true = feature_selection(machinetype)"
   ]
  },
  {
   "cell_type": "code",
   "execution_count": null,
   "id": "236ac64c-616c-436b-8a3a-d6b50e3cbd85",
   "metadata": {},
   "outputs": [],
   "source": [
    "model_conv = model_conv_training(machinetype,train_data_conv)"
   ]
  },
  {
   "cell_type": "code",
   "execution_count": null,
   "id": "7b0e3ae6-abb9-42b5-8b79-3e49ba65da89",
   "metadata": {},
   "outputs": [],
   "source": [
    "train_data_len = len(train_data)\n",
    "test_data_len = len(test_data)"
   ]
  },
  {
   "cell_type": "code",
   "execution_count": null,
   "id": "fc137b53-b45d-4dc8-bcb8-cae6d0a3819d",
   "metadata": {},
   "outputs": [],
   "source": [
    "model_evaluation(machinetype,model_conv,\n",
    "                     train_data,test_data,\n",
    "                     train_data_conv,test_data_conv,\n",
    "                     train_data_len,test_data_len,\n",
    "                     y_true)"
   ]
  }
 ],
 "metadata": {
  "kernelspec": {
   "display_name": "Python 3",
   "language": "python",
   "name": "python3"
  },
  "language_info": {
   "codemirror_mode": {
    "name": "ipython",
    "version": 3
   },
   "file_extension": ".py",
   "mimetype": "text/x-python",
   "name": "python",
   "nbconvert_exporter": "python",
   "pygments_lexer": "ipython3",
   "version": "3.7.10"
  }
 },
 "nbformat": 4,
 "nbformat_minor": 5
}
