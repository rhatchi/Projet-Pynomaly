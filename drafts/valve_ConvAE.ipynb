{
 "cells": [
  {
   "cell_type": "code",
   "execution_count": 1,
   "metadata": {},
   "outputs": [
    {
     "data": {
      "text/html": [
       "<div>\n",
       "<style scoped>\n",
       "    .dataframe tbody tr th:only-of-type {\n",
       "        vertical-align: middle;\n",
       "    }\n",
       "\n",
       "    .dataframe tbody tr th {\n",
       "        vertical-align: top;\n",
       "    }\n",
       "\n",
       "    .dataframe thead th {\n",
       "        text-align: right;\n",
       "    }\n",
       "</style>\n",
       "<table border=\"1\" class=\"dataframe\">\n",
       "  <thead>\n",
       "    <tr style=\"text-align: right;\">\n",
       "      <th></th>\n",
       "      <th>Path</th>\n",
       "      <th>Machine_Type</th>\n",
       "      <th>Dataset</th>\n",
       "      <th>Status</th>\n",
       "      <th>Machine_ID</th>\n",
       "      <th>Sample_ID</th>\n",
       "      <th>nb_echantillon</th>\n",
       "      <th>freq_echantillonnage</th>\n",
       "      <th>audio</th>\n",
       "    </tr>\n",
       "  </thead>\n",
       "  <tbody>\n",
       "    <tr>\n",
       "      <th>7388</th>\n",
       "      <td>Data/valve/train/normal_id_04_00000895.wav</td>\n",
       "      <td>valve</td>\n",
       "      <td>train</td>\n",
       "      <td>normal</td>\n",
       "      <td>4</td>\n",
       "      <td>895</td>\n",
       "      <td>160000</td>\n",
       "      <td>16000</td>\n",
       "      <td>[-0.0067749  -0.00421143 -0.00149536 ... -0.01...</td>\n",
       "    </tr>\n",
       "    <tr>\n",
       "      <th>7389</th>\n",
       "      <td>Data/valve/train/normal_id_00_00000692.wav</td>\n",
       "      <td>valve</td>\n",
       "      <td>train</td>\n",
       "      <td>normal</td>\n",
       "      <td>0</td>\n",
       "      <td>692</td>\n",
       "      <td>160000</td>\n",
       "      <td>16000</td>\n",
       "      <td>[-1.6845703e-02 -8.6669922e-03 -9.1552734e-05 ...</td>\n",
       "    </tr>\n",
       "    <tr>\n",
       "      <th>7390</th>\n",
       "      <td>Data/valve/train/normal_id_06_00000093.wav</td>\n",
       "      <td>valve</td>\n",
       "      <td>train</td>\n",
       "      <td>normal</td>\n",
       "      <td>6</td>\n",
       "      <td>93</td>\n",
       "      <td>160000</td>\n",
       "      <td>16000</td>\n",
       "      <td>[-0.00506592 -0.00900269 -0.00445557 ...  0.00...</td>\n",
       "    </tr>\n",
       "    <tr>\n",
       "      <th>7391</th>\n",
       "      <td>Data/valve/train/normal_id_00_00000686.wav</td>\n",
       "      <td>valve</td>\n",
       "      <td>train</td>\n",
       "      <td>normal</td>\n",
       "      <td>0</td>\n",
       "      <td>686</td>\n",
       "      <td>160000</td>\n",
       "      <td>16000</td>\n",
       "      <td>[ 0.00064087  0.00460815  0.00891113 ...  0.00...</td>\n",
       "    </tr>\n",
       "    <tr>\n",
       "      <th>7392</th>\n",
       "      <td>Data/valve/train/normal_id_06_00000087.wav</td>\n",
       "      <td>valve</td>\n",
       "      <td>train</td>\n",
       "      <td>normal</td>\n",
       "      <td>6</td>\n",
       "      <td>87</td>\n",
       "      <td>160000</td>\n",
       "      <td>16000</td>\n",
       "      <td>[-0.01055908 -0.01242065 -0.01312256 ... -0.02...</td>\n",
       "    </tr>\n",
       "  </tbody>\n",
       "</table>\n",
       "</div>"
      ],
      "text/plain": [
       "                                            Path Machine_Type Dataset  Status  \\\n",
       "7388  Data/valve/train/normal_id_04_00000895.wav        valve   train  normal   \n",
       "7389  Data/valve/train/normal_id_00_00000692.wav        valve   train  normal   \n",
       "7390  Data/valve/train/normal_id_06_00000093.wav        valve   train  normal   \n",
       "7391  Data/valve/train/normal_id_00_00000686.wav        valve   train  normal   \n",
       "7392  Data/valve/train/normal_id_06_00000087.wav        valve   train  normal   \n",
       "\n",
       "      Machine_ID  Sample_ID  nb_echantillon  freq_echantillonnage  \\\n",
       "7388           4        895          160000                 16000   \n",
       "7389           0        692          160000                 16000   \n",
       "7390           6         93          160000                 16000   \n",
       "7391           0        686          160000                 16000   \n",
       "7392           6         87          160000                 16000   \n",
       "\n",
       "                                                  audio  \n",
       "7388  [-0.0067749  -0.00421143 -0.00149536 ... -0.01...  \n",
       "7389  [-1.6845703e-02 -8.6669922e-03 -9.1552734e-05 ...  \n",
       "7390  [-0.00506592 -0.00900269 -0.00445557 ...  0.00...  \n",
       "7391  [ 0.00064087  0.00460815  0.00891113 ...  0.00...  \n",
       "7392  [-0.01055908 -0.01242065 -0.01312256 ... -0.02...  "
      ]
     },
     "execution_count": 1,
     "metadata": {},
     "output_type": "execute_result"
    }
   ],
   "source": [
    "import pandas as pd\n",
    "import numpy as np\n",
    "import librosa\n",
    "\n",
    "def load_audio(audio_path):\n",
    "    return librosa.load(audio_path, sr=None)\n",
    "\n",
    "df = pd.read_csv('Path_DF.csv')\n",
    "valve_train = df[(df.Dataset == 'train') & (df.Machine_Type == 'valve')]\n",
    "\n",
    "valve_train.head()"
   ]
  },
  {
   "cell_type": "code",
   "execution_count": 2,
   "metadata": {},
   "outputs": [],
   "source": [
    "import sys\n",
    "\n",
    "def file_to_vector_array(filepath, sr=16000, n_mels=128, frames=5, n_fft=1024, hop_length=512, power=1.0):\n",
    "    \"\"\"\n",
    "    convert filepath to a vector array.\n",
    "    filepath : chemin du fichier\n",
    "    return : numpy.array( numpy.array(float))\n",
    "        vector array\n",
    "        * dataset.shape = (dataset_size, feature_vector_length)\n",
    "    \"\"\"\n",
    "    y, _ = load_audio(filepath)\n",
    "    mel_spectrogram = librosa.feature.melspectrogram(y=y, sr=sr, n_fft=n_fft, hop_length=hop_length, n_mels=n_mels, power=power)\n",
    "\n",
    "    # convert melspectrogram to log mel energy\n",
    "    log_mel_spectrogram = 20.0 / power * np.log10(mel_spectrogram + sys.float_info.epsilon)\n",
    "    vector_array = log_mel_spectrogram.T\n",
    "\n",
    "    return vector_array"
   ]
  },
  {
   "cell_type": "code",
   "execution_count": 3,
   "metadata": {},
   "outputs": [],
   "source": [
    "audio_valve = []\n",
    "for i in range(len(valve_train)): \n",
    "    audio_valve.append(file_to_vector_array(valve_train.iloc[i,0])[0])"
   ]
  },
  {
   "cell_type": "code",
   "execution_count": 4,
   "metadata": {},
   "outputs": [],
   "source": [
    "from sklearn.preprocessing import StandardScaler\n",
    "\n",
    "scaler_valve = StandardScaler().fit(audio_valve)"
   ]
  },
  {
   "cell_type": "code",
   "execution_count": 5,
   "metadata": {},
   "outputs": [],
   "source": [
    "def file_to_vector_array_norm(filepath, scaler, sr=16000, n_mels=128, frames=5, n_fft=1024, hop_length=512, power=1.0):\n",
    "    \"\"\"\n",
    "    convert filepath to a vector array normalisé.\n",
    "    file_name : chemin du fichier\n",
    "    return : numpy.array( numpy.array( float ) )\n",
    "        vector array\n",
    "        * dataset.shape = (dataset_size, feature_vector_length)\n",
    "    \"\"\"\n",
    "    vector_array = file_to_vector_array(filepath, sr, n_mels, frames, n_fft, hop_length, power)\n",
    "    vector_array = scaler.transform(vector_array)\n",
    "    return vector_array"
   ]
  },
  {
   "cell_type": "code",
   "execution_count": 6,
   "metadata": {},
   "outputs": [
    {
     "data": {
      "text/plain": [
       "(313, 128)"
      ]
     },
     "execution_count": 6,
     "metadata": {},
     "output_type": "execute_result"
    }
   ],
   "source": [
    "file_to_vector_array_norm(valve_train.iloc[0,0], scaler = scaler_valve).shape"
   ]
  },
  {
   "cell_type": "code",
   "execution_count": 7,
   "metadata": {},
   "outputs": [],
   "source": [
    "# préparer le jeu de données\n",
    "\n",
    "def file_to_vector_ConvAE(filepath, scaler, sr=16000, n_mels=128, frames=5, n_fft=1024, hop_length=512, power=1.0):\n",
    "    vector_array = file_to_vector_array_norm(filepath, scaler, sr, n_mels, frames, n_fft, hop_length, power)\n",
    "    length, _ = vector_array.shape\n",
    "    dim = 32\n",
    "    step = 3\n",
    "    idex = np.arange(length-dim+step, step=step)\n",
    "    for idx in range(len(idex)):\n",
    "        start = min(idex[idx], length - dim)\n",
    "        vector = vector_array[start:start+dim,:]\n",
    "        vector = vector.reshape((1, vector.shape[0], vector.shape[1]))\n",
    "        if idx==0:\n",
    "            batch = vector\n",
    "        else:\n",
    "            batch = np.concatenate((batch, vector))\n",
    "                        \n",
    "    # add channels dimension\n",
    "    data = batch.reshape((batch.shape[0], batch.shape[1], batch.shape[2], 1))\n",
    "    return data\n"
   ]
  },
  {
   "cell_type": "code",
   "execution_count": 8,
   "metadata": {},
   "outputs": [
    {
     "data": {
      "text/plain": [
       "(95, 32, 128, 1)"
      ]
     },
     "execution_count": 8,
     "metadata": {},
     "output_type": "execute_result"
    }
   ],
   "source": [
    "file_to_vector_ConvAE(valve_train.iloc[10,0], scaler_valve).shape"
   ]
  },
  {
   "cell_type": "code",
   "execution_count": 9,
   "metadata": {},
   "outputs": [],
   "source": [
    "def dataset_conv(set_files, scaler, sr=16000, n_mels=128, frames=5, n_fft=1024, hop_length=512, power=1.0):\n",
    "    \"\"\"\n",
    "    renvoie une dataset sur laquelle entrainer/évaluer le modèle Conv_AE\n",
    "    set_files est un DataFrame et sa première colonne contient les chemins\n",
    "    \"\"\"\n",
    "    # iterate file_to_vector_ConvAE()\n",
    "    for k in range(len(set_files)):\n",
    "        vector = file_to_vector_ConvAE(set_files.iloc[k,0], scaler, sr, n_mels, frames, n_fft, hop_length, power)\n",
    "        if k == 0:\n",
    "            X = np.empty((len(set_files)*vector.shape[0], vector.shape[1], vector.shape[2], vector.shape[3]))\n",
    "            i = 0\n",
    "            for l in vector:\n",
    "                X[i,] = l\n",
    "                i += 1\n",
    "        else :\n",
    "            i = k*vector.shape[0]\n",
    "            for l in vector:\n",
    "                X[i,] = l\n",
    "                i += 1 \n",
    "    return X\n"
   ]
  },
  {
   "cell_type": "code",
   "execution_count": 10,
   "metadata": {},
   "outputs": [
    {
     "name": "stdout",
     "output_type": "stream",
     "text": [
      "Réalisé en 153.99 secondes\n"
     ]
    }
   ],
   "source": [
    "from time import time\n",
    "t0 = time()\n",
    "\n",
    "valve_train_feat = dataset_conv(valve_train, scaler_valve)\n",
    "\n",
    "t1 = time() - t0\n",
    "print(\"Réalisé en {} secondes\".format(round(t1,3)))"
   ]
  },
  {
   "cell_type": "code",
   "execution_count": 11,
   "metadata": {},
   "outputs": [
    {
     "data": {
      "text/plain": [
       "(312645, 32, 128, 1)"
      ]
     },
     "execution_count": 11,
     "metadata": {},
     "output_type": "execute_result"
    }
   ],
   "source": [
    "valve_train_feat.shape"
   ]
  },
  {
   "cell_type": "code",
   "execution_count": 12,
   "metadata": {},
   "outputs": [],
   "source": [
    "import tensorflow as tf\n",
    "from tensorflow.keras import Sequential\n",
    "from tensorflow.keras.layers import Conv2D, Conv2DTranspose, Dense, Dropout, Flatten, BatchNormalization, ReLU, Reshape\n",
    "\n",
    "def model_convAE(input_shape = (32, 128, 1)):\n",
    "    model_conv = Sequential()\n",
    "\n",
    "    # Première couche Encoder\n",
    "    model_conv.add(Conv2D(filters = 32, kernel_size = (5, 5), strides = (1,2), padding = 'same', input_shape = input_shape))\n",
    "    model_conv.add(BatchNormalization())\n",
    "    model_conv.add(ReLU())\n",
    "\n",
    "    # Seconde couche Encoder\n",
    "    model_conv.add(Conv2D(filters = 64, kernel_size = (5, 5), strides = (1,2), padding = 'same'))\n",
    "    model_conv.add(BatchNormalization())\n",
    "    model_conv.add(ReLU())\n",
    "\n",
    "    # Troisième couche Encoder\n",
    "    model_conv.add(Conv2D(filters = 128, kernel_size = (5, 5), strides = (2,2), padding = 'same'))\n",
    "    model_conv.add(BatchNormalization())\n",
    "    model_conv.add(ReLU())\n",
    "\n",
    "    # Quatrième couche Encoder\n",
    "    model_conv.add(Conv2D(filters = 256, kernel_size = (3, 3), strides = (2,2), padding = 'same'))\n",
    "    model_conv.add(BatchNormalization())\n",
    "    model_conv.add(ReLU())\n",
    "\n",
    "    # Cinquième couche Encoder\n",
    "    model_conv.add(Conv2D(filters = 512, kernel_size = (3, 3), strides = (2,2), padding = 'same'))\n",
    "    model_conv.add(BatchNormalization())\n",
    "    model_conv.add(ReLU())\n",
    "\n",
    "    # Couche goulot\n",
    "    model_conv.add(Conv2D(filters = 40, kernel_size = (4, 4), strides = (1,1), padding = 'valid'))\n",
    "    model_conv.add(Flatten())\n",
    "\n",
    "    # Première couche Decoder\n",
    "    model_conv.add(Dense(4*4*512))\n",
    "    model_conv.add(Reshape((4,4,512)))\n",
    "\n",
    "    # Seconde couche Decoder\n",
    "    model_conv.add(Conv2DTranspose(filters = 256, kernel_size = (3, 3), strides = (2,2), padding = 'same'))\n",
    "    model_conv.add(BatchNormalization())\n",
    "    model_conv.add(ReLU())\n",
    "\n",
    "    # Troisième couche Decoder\n",
    "    model_conv.add(Conv2DTranspose(filters = 128, kernel_size = (3, 3), strides = (2,2), padding = 'same'))\n",
    "    model_conv.add(BatchNormalization())\n",
    "    model_conv.add(ReLU())\n",
    "\n",
    "    # Quatrième couche Decoder\n",
    "    model_conv.add(Conv2DTranspose(filters = 64, kernel_size = (5, 5), strides = (2,2), padding = 'same'))\n",
    "    model_conv.add(BatchNormalization())\n",
    "    model_conv.add(ReLU())\n",
    "\n",
    "    # Cinquième couche Decoder\n",
    "    model_conv.add(Conv2DTranspose(filters = 32, kernel_size = (5, 5), strides = (1,2), padding = 'same'))\n",
    "    model_conv.add(BatchNormalization())\n",
    "    model_conv.add(ReLU())\n",
    "\n",
    "    # Couche de reconstruction \n",
    "    model_conv.add(Conv2DTranspose(filters = 1, kernel_size = (5, 5), strides = (1,2), padding = 'same'))\n",
    "    \n",
    "    return model_conv\n",
    "\n",
    "model_conv_valve = model_convAE()\n",
    "\n",
    "# On compile \n",
    "\n",
    "model_conv_valve.compile(loss = 'mean_squared_error', optimizer = 'adam')\n"
   ]
  },
  {
   "cell_type": "code",
   "execution_count": 15,
   "metadata": {},
   "outputs": [
    {
     "name": "stdout",
     "output_type": "stream",
     "text": [
      "Epoch 1/3\n",
      "3420/3420 [==============================] - 3977s 1s/step - loss: 0.2653 - val_loss: 0.2516\n",
      "Epoch 2/3\n",
      "3420/3420 [==============================] - 4242s 1s/step - loss: 0.2400 - val_loss: 0.2411\n",
      "Epoch 3/3\n",
      "3420/3420 [==============================] - 4229s 1s/step - loss: 0.2346 - val_loss: 0.2376\n"
     ]
    },
    {
     "data": {
      "text/plain": [
       "<tensorflow.python.keras.callbacks.History at 0x7fc9df7b3430>"
      ]
     },
     "execution_count": 15,
     "metadata": {},
     "output_type": "execute_result"
    }
   ],
   "source": [
    "from tensorflow.keras import callbacks\n",
    "\n",
    "# Callback pour arrêter l'entrainement et récupérer le meilleur modèle si la métrique ne diminue plus pendant 10 epochs\n",
    "early_stopping = callbacks.EarlyStopping(monitor = 'val_loss', patience = 10, mode = 'min', min_delta=0.0001)\n",
    "\n",
    "import os\n",
    "cwd = os.getcwd()\n",
    "filepath = cwd\n",
    "\n",
    "# Callback pour sauvegarder le meilleur modèle\n",
    "checkpoint = callbacks.ModelCheckpoint(filepath = filepath + '/Conv_valve.hdf5', monitor = 'val_loss', save_best_only = True, \n",
    "                                       save_weights_only = False, mode = 'min', save_freq = 'epoch')\n",
    "\n",
    "# Pour modèle Conv AE\n",
    "model_conv_valve.fit(valve_train_feat, valve_train_feat, batch_size = 64, epochs = 3, callbacks=[checkpoint, early_stopping], \n",
    "               validation_split = 0.3)\n"
   ]
  },
  {
   "cell_type": "markdown",
   "metadata": {},
   "source": [
    "## Evaluation du modèle sur chaque machine_id"
   ]
  },
  {
   "cell_type": "markdown",
   "metadata": {},
   "source": [
    "### Machine_id = 0"
   ]
  },
  {
   "cell_type": "code",
   "execution_count": 16,
   "metadata": {},
   "outputs": [],
   "source": [
    "valve_test_0 = df[(df.Dataset == 'test') & (df.Machine_Type == 'valve') & (df.Machine_ID == 0)]\n",
    "\n",
    "valve_test_feat_0 = dataset_conv(valve_test_0, scaler_valve)\n"
   ]
  },
  {
   "cell_type": "code",
   "execution_count": 19,
   "metadata": {},
   "outputs": [],
   "source": [
    "pred_valve_test_0 = model_conv_valve.predict(valve_test_feat_0)"
   ]
  },
  {
   "cell_type": "code",
   "execution_count": 17,
   "metadata": {},
   "outputs": [],
   "source": [
    "def errors(X_true, X_pred, length, nb_extract = 95): \n",
    "    \"\"\"\n",
    "    calcule les erreurs entre le jeu de départ et les prédictions du modèle\n",
    "    \"\"\"\n",
    "    vect_error = np.mean(np.square(X_true - X_pred), axis=-1)\n",
    "    errors = np.zeros(length)\n",
    "    for k in range(length):\n",
    "        errors[k] = np.mean(vect_error[k*nb_extract : (k+1)*nb_extract])\n",
    "    return errors\n"
   ]
  },
  {
   "cell_type": "code",
   "execution_count": 131,
   "metadata": {},
   "outputs": [
    {
     "data": {
      "text/plain": [
       "1    119\n",
       "0    100\n",
       "Name: Status, dtype: int64"
      ]
     },
     "execution_count": 131,
     "metadata": {},
     "output_type": "execute_result"
    }
   ],
   "source": [
    "error_valve_test_0 = errors(valve_test_feat_0, pred_valve_test_0, len(valve_test_0))\n",
    "\n",
    "y_true = valve_test_0['Status'].replace(['normal', 'anomaly'], [0,1])\n",
    "\n",
    "y_true.value_counts()"
   ]
  },
  {
   "cell_type": "code",
   "execution_count": 85,
   "metadata": {},
   "outputs": [
    {
     "name": "stdout",
     "output_type": "stream",
     "text": [
      "Moyenne des erreurs : 0.23615679365243916\n",
      "Ecart-type des erreurs : 0.018052303447486137\n"
     ]
    }
   ],
   "source": [
    "print('Moyenne des erreurs :', np.mean(error_valve_test_0))\n",
    "print('Ecart-type des erreurs :', np.std(error_valve_test_0))"
   ]
  },
  {
   "cell_type": "code",
   "execution_count": 86,
   "metadata": {},
   "outputs": [
    {
     "data": {
      "text/html": [
       "<div>\n",
       "<style scoped>\n",
       "    .dataframe tbody tr th:only-of-type {\n",
       "        vertical-align: middle;\n",
       "    }\n",
       "\n",
       "    .dataframe tbody tr th {\n",
       "        vertical-align: top;\n",
       "    }\n",
       "\n",
       "    .dataframe thead th {\n",
       "        text-align: right;\n",
       "    }\n",
       "</style>\n",
       "<table border=\"1\" class=\"dataframe\">\n",
       "  <thead>\n",
       "    <tr style=\"text-align: right;\">\n",
       "      <th>Classe prédite</th>\n",
       "      <th>0</th>\n",
       "      <th>1</th>\n",
       "    </tr>\n",
       "    <tr>\n",
       "      <th>Classe réelle</th>\n",
       "      <th></th>\n",
       "      <th></th>\n",
       "    </tr>\n",
       "  </thead>\n",
       "  <tbody>\n",
       "    <tr>\n",
       "      <th>0</th>\n",
       "      <td>58</td>\n",
       "      <td>42</td>\n",
       "    </tr>\n",
       "    <tr>\n",
       "      <th>1</th>\n",
       "      <td>18</td>\n",
       "      <td>101</td>\n",
       "    </tr>\n",
       "  </tbody>\n",
       "</table>\n",
       "</div>"
      ],
      "text/plain": [
       "Classe prédite   0    1\n",
       "Classe réelle          \n",
       "0               58   42\n",
       "1               18  101"
      ]
     },
     "execution_count": 86,
     "metadata": {},
     "output_type": "execute_result"
    }
   ],
   "source": [
    "seuil = .227 # valeur à déterminer selon les erreurs \n",
    "\n",
    "y_pred = np.where(error_valve_test_0[:] > seuil, 1, 0)\n",
    "\n",
    "pd.crosstab(y_true, y_pred, rownames=['Classe réelle'], colnames=['Classe prédite'])"
   ]
  },
  {
   "cell_type": "code",
   "execution_count": 87,
   "metadata": {},
   "outputs": [
    {
     "name": "stdout",
     "output_type": "stream",
     "text": [
      "              precision    recall  f1-score   support\n",
      "\n",
      "           0       0.76      0.58      0.66       100\n",
      "           1       0.71      0.85      0.77       119\n",
      "\n",
      "    accuracy                           0.73       219\n",
      "   macro avg       0.73      0.71      0.72       219\n",
      "weighted avg       0.73      0.73      0.72       219\n",
      "\n"
     ]
    }
   ],
   "source": [
    "from sklearn.metrics import classification_report\n",
    "\n",
    "print(classification_report(y_true, y_pred))\n"
   ]
  },
  {
   "cell_type": "code",
   "execution_count": 132,
   "metadata": {},
   "outputs": [
    {
     "data": {
      "image/png": "[encoded data removed]",
      "text/plain": [
       "<Figure size 432x288 with 1 Axes>"
      ]
     },
     "metadata": {
      "needs_background": "light"
     },
     "output_type": "display_data"
    }
   ],
   "source": [
    "from sklearn.metrics import roc_curve, auc, roc_auc_score\n",
    "import matplotlib.pyplot as plt\n",
    "\n",
    "fpr, tpr, seuils = roc_curve(y_true, error_valve_test_0, pos_label = 1)\n",
    "\n",
    "roc_auc = auc(fpr, tpr)\n",
    "\n",
    "plt.plot(fpr, tpr, 'orange', label = 'Modèle Conv (auc = %0.2f)' % roc_auc)\n",
    "plt.title('Courbe ROC')\n",
    "plt.xlabel('Taux faux positifs')\n",
    "plt.ylabel('Taux vrais positifs')\n",
    "plt.xlim(0,1)\n",
    "plt.ylim(0,1.05)\n",
    "\n",
    "plt.plot(fpr, fpr, 'b--', label = 'Aléatoire (aux = 0.5)')\n",
    "\n",
    "plt.legend(loc = 'lower right')\n",
    "plt.show();"
   ]
  },
  {
   "cell_type": "code",
   "execution_count": 133,
   "metadata": {},
   "outputs": [
    {
     "name": "stdout",
     "output_type": "stream",
     "text": [
      "AUC : 0.7510924369747899\n",
      "pAUC : 0.5254312251216275\n"
     ]
    }
   ],
   "source": [
    "auc = roc_auc_score(y_true, error_valve_test_0)\n",
    "p_auc = roc_auc_score(y_true, error_valve_test_0, max_fpr=0.1)\n",
    "\n",
    "print(\"AUC : {}\".format(auc))\n",
    "print(\"pAUC : {}\".format(p_auc))"
   ]
  },
  {
   "cell_type": "markdown",
   "metadata": {},
   "source": [
    "### Machine_id = 2"
   ]
  },
  {
   "cell_type": "code",
   "execution_count": 41,
   "metadata": {},
   "outputs": [],
   "source": [
    "valve_test_2 = df[(df.Dataset == 'test') & (df.Machine_Type == 'valve') & (df.Machine_ID == 2)]\n",
    "\n",
    "valve_test_feat_2 = dataset_conv(valve_test_2, scaler_valve)\n",
    "\n",
    "pred_valve_test_2 = model_conv_valve.predict(valve_test_feat_2)"
   ]
  },
  {
   "cell_type": "code",
   "execution_count": 134,
   "metadata": {},
   "outputs": [
    {
     "name": "stdout",
     "output_type": "stream",
     "text": [
      "Moyenne des erreurs : 0.24314437472138223\n",
      "Ecart-type des erreurs : 0.01883153034697012\n"
     ]
    }
   ],
   "source": [
    "error_valve_test_2 = errors(valve_test_feat_2, pred_valve_test_2, len(valve_test_2))\n",
    "\n",
    "print('Moyenne des erreurs :', np.mean(error_valve_test_2))\n",
    "print('Ecart-type des erreurs :', np.std(error_valve_test_2))\n",
    "\n",
    "y_true = valve_test_2['Status'].replace(['normal', 'anomaly'], [0,1])"
   ]
  },
  {
   "cell_type": "code",
   "execution_count": 90,
   "metadata": {},
   "outputs": [
    {
     "name": "stdout",
     "output_type": "stream",
     "text": [
      "              precision    recall  f1-score   support\n",
      "\n",
      "           0       0.82      0.73      0.77       100\n",
      "           1       0.79      0.87      0.83       120\n",
      "\n",
      "    accuracy                           0.80       220\n",
      "   macro avg       0.81      0.80      0.80       220\n",
      "weighted avg       0.81      0.80      0.80       220\n",
      "\n"
     ]
    },
    {
     "data": {
      "text/html": [
       "<div>\n",
       "<style scoped>\n",
       "    .dataframe tbody tr th:only-of-type {\n",
       "        vertical-align: middle;\n",
       "    }\n",
       "\n",
       "    .dataframe tbody tr th {\n",
       "        vertical-align: top;\n",
       "    }\n",
       "\n",
       "    .dataframe thead th {\n",
       "        text-align: right;\n",
       "    }\n",
       "</style>\n",
       "<table border=\"1\" class=\"dataframe\">\n",
       "  <thead>\n",
       "    <tr style=\"text-align: right;\">\n",
       "      <th>Classe prédite</th>\n",
       "      <th>0</th>\n",
       "      <th>1</th>\n",
       "    </tr>\n",
       "    <tr>\n",
       "      <th>Classe réelle</th>\n",
       "      <th></th>\n",
       "      <th></th>\n",
       "    </tr>\n",
       "  </thead>\n",
       "  <tbody>\n",
       "    <tr>\n",
       "      <th>0</th>\n",
       "      <td>73</td>\n",
       "      <td>27</td>\n",
       "    </tr>\n",
       "    <tr>\n",
       "      <th>1</th>\n",
       "      <td>16</td>\n",
       "      <td>104</td>\n",
       "    </tr>\n",
       "  </tbody>\n",
       "</table>\n",
       "</div>"
      ],
      "text/plain": [
       "Classe prédite   0    1\n",
       "Classe réelle          \n",
       "0               73   27\n",
       "1               16  104"
      ]
     },
     "execution_count": 90,
     "metadata": {},
     "output_type": "execute_result"
    }
   ],
   "source": [
    "seuil = .23585 # valeur à déterminer selon les erreurs \n",
    "\n",
    "y_pred = np.where(error_valve_test_2[:] > seuil, 1, 0)\n",
    "\n",
    "print(classification_report(y_true, y_pred))\n",
    "pd.crosstab(y_true, y_pred, rownames=['Classe réelle'], colnames=['Classe prédite'])"
   ]
  },
  {
   "cell_type": "code",
   "execution_count": 135,
   "metadata": {},
   "outputs": [
    {
     "data": {
      "image/png": "[encoded data removed]",
      "text/plain": [
       "<Figure size 432x288 with 1 Axes>"
      ]
     },
     "metadata": {
      "needs_background": "light"
     },
     "output_type": "display_data"
    }
   ],
   "source": [
    "from sklearn.metrics import roc_curve, auc, roc_auc_score\n",
    "import matplotlib.pyplot as plt\n",
    "\n",
    "fpr, tpr, seuils = roc_curve(y_true, error_valve_test_2, pos_label = 1)\n",
    "\n",
    "roc_auc = auc(fpr, tpr)\n",
    "\n",
    "plt.plot(fpr, tpr, 'orange', label = 'Modèle Conv (auc = %0.2f)' % roc_auc)\n",
    "plt.title('Courbe ROC')\n",
    "plt.xlabel('Taux faux positifs')\n",
    "plt.ylabel('Taux vrais positifs')\n",
    "plt.xlim(0,1)\n",
    "plt.ylim(0,1.05)\n",
    "\n",
    "plt.plot(fpr, fpr, 'b--', label = 'Aléatoire (aux = 0.5)')\n",
    "\n",
    "plt.legend(loc = 'lower right')\n",
    "plt.show();"
   ]
  },
  {
   "cell_type": "code",
   "execution_count": 136,
   "metadata": {},
   "outputs": [
    {
     "name": "stdout",
     "output_type": "stream",
     "text": [
      "AUC : 0.82375\n",
      "pAUC : 0.5671052631578948\n"
     ]
    }
   ],
   "source": [
    "auc = roc_auc_score(y_true, error_valve_test_2)\n",
    "p_auc = roc_auc_score(y_true, error_valve_test_2, max_fpr=0.1)\n",
    "\n",
    "print(\"AUC : {}\".format(auc))\n",
    "print(\"pAUC : {}\".format(p_auc))"
   ]
  },
  {
   "cell_type": "markdown",
   "metadata": {},
   "source": [
    "### Machine_id = 4"
   ]
  },
  {
   "cell_type": "code",
   "execution_count": 77,
   "metadata": {},
   "outputs": [],
   "source": [
    "valve_test_4 = df[(df.Dataset == 'test') & (df.Machine_Type == 'valve') & (df.Machine_ID == 4)]\n",
    "\n",
    "valve_test_feat_4 = dataset_conv(valve_test_4, scaler_valve)\n",
    "\n",
    "pred_valve_test_4 = model_conv_valve.predict(valve_test_feat_4)"
   ]
  },
  {
   "cell_type": "code",
   "execution_count": 137,
   "metadata": {},
   "outputs": [
    {
     "name": "stdout",
     "output_type": "stream",
     "text": [
      "Moyenne des erreurs : 0.2471831696816168\n",
      "Ecart-type des erreurs : 0.024267587993810426\n"
     ]
    }
   ],
   "source": [
    "error_valve_test_4 = errors(valve_test_feat_4, pred_valve_test_4, len(valve_test_4))\n",
    "\n",
    "print('Moyenne des erreurs :', np.mean(error_valve_test_4))\n",
    "print('Ecart-type des erreurs :', np.std(error_valve_test_4))\n",
    "\n",
    "y_true = valve_test_4['Status'].replace(['normal', 'anomaly'], [0,1])"
   ]
  },
  {
   "cell_type": "code",
   "execution_count": 94,
   "metadata": {},
   "outputs": [
    {
     "name": "stdout",
     "output_type": "stream",
     "text": [
      "              precision    recall  f1-score   support\n",
      "\n",
      "           0       0.84      0.65      0.73       100\n",
      "           1       0.76      0.90      0.82       120\n",
      "\n",
      "    accuracy                           0.79       220\n",
      "   macro avg       0.80      0.78      0.78       220\n",
      "weighted avg       0.80      0.79      0.78       220\n",
      "\n"
     ]
    },
    {
     "data": {
      "text/html": [
       "<div>\n",
       "<style scoped>\n",
       "    .dataframe tbody tr th:only-of-type {\n",
       "        vertical-align: middle;\n",
       "    }\n",
       "\n",
       "    .dataframe tbody tr th {\n",
       "        vertical-align: top;\n",
       "    }\n",
       "\n",
       "    .dataframe thead th {\n",
       "        text-align: right;\n",
       "    }\n",
       "</style>\n",
       "<table border=\"1\" class=\"dataframe\">\n",
       "  <thead>\n",
       "    <tr style=\"text-align: right;\">\n",
       "      <th>Classe prédite</th>\n",
       "      <th>0</th>\n",
       "      <th>1</th>\n",
       "    </tr>\n",
       "    <tr>\n",
       "      <th>Classe réelle</th>\n",
       "      <th></th>\n",
       "      <th></th>\n",
       "    </tr>\n",
       "  </thead>\n",
       "  <tbody>\n",
       "    <tr>\n",
       "      <th>0</th>\n",
       "      <td>65</td>\n",
       "      <td>35</td>\n",
       "    </tr>\n",
       "    <tr>\n",
       "      <th>1</th>\n",
       "      <td>12</td>\n",
       "      <td>108</td>\n",
       "    </tr>\n",
       "  </tbody>\n",
       "</table>\n",
       "</div>"
      ],
      "text/plain": [
       "Classe prédite   0    1\n",
       "Classe réelle          \n",
       "0               65   35\n",
       "1               12  108"
      ]
     },
     "execution_count": 94,
     "metadata": {},
     "output_type": "execute_result"
    }
   ],
   "source": [
    "seuil = .2358 # valeur à déterminer selon les erreurs \n",
    "\n",
    "y_pred = np.where(error_valve_test_4[:] > seuil, 1, 0)\n",
    "\n",
    "print(classification_report(y_true, y_pred))\n",
    "pd.crosstab(y_true, y_pred, rownames=['Classe réelle'], colnames=['Classe prédite'])"
   ]
  },
  {
   "cell_type": "code",
   "execution_count": 138,
   "metadata": {},
   "outputs": [
    {
     "data": {
      "image/png": "[encoded data removed]",
      "text/plain": [
       "<Figure size 432x288 with 1 Axes>"
      ]
     },
     "metadata": {
      "needs_background": "light"
     },
     "output_type": "display_data"
    }
   ],
   "source": [
    "from sklearn.metrics import roc_curve, auc, roc_auc_score\n",
    "\n",
    "fpr, tpr, seuils = roc_curve(y_true, error_valve_test_4, pos_label = 1)\n",
    "\n",
    "roc_auc = auc(fpr, tpr)\n",
    "\n",
    "plt.plot(fpr, tpr, 'orange', label = 'Modèle Conv (auc = %0.2f)' % roc_auc)\n",
    "plt.title('Courbe ROC')\n",
    "plt.xlabel('Taux faux positifs')\n",
    "plt.ylabel('Taux vrais positifs')\n",
    "plt.xlim(0,1)\n",
    "plt.ylim(0,1.05)\n",
    "\n",
    "plt.plot(fpr, fpr, 'b--', label = 'Aléatoire (aux = 0.5)')\n",
    "\n",
    "plt.legend(loc = 'lower right')\n",
    "plt.show();"
   ]
  },
  {
   "cell_type": "code",
   "execution_count": 139,
   "metadata": {},
   "outputs": [
    {
     "name": "stdout",
     "output_type": "stream",
     "text": [
      "AUC : 0.8309166666666666\n",
      "pAUC : 0.5390350877192982\n"
     ]
    }
   ],
   "source": [
    "auc = roc_auc_score(y_true, error_valve_test_4)\n",
    "p_auc = roc_auc_score(y_true, error_valve_test_4, max_fpr=0.1)\n",
    "\n",
    "print(\"AUC : {}\".format(auc))\n",
    "print(\"pAUC : {}\".format(p_auc))"
   ]
  },
  {
   "cell_type": "markdown",
   "metadata": {},
   "source": [
    "### Machine_id = 6"
   ]
  },
  {
   "cell_type": "code",
   "execution_count": 98,
   "metadata": {},
   "outputs": [],
   "source": [
    "valve_test_6 = df[(df.Dataset == 'test') & (df.Machine_Type == 'valve') & (df.Machine_ID == 6)]\n",
    "\n",
    "valve_test_feat_6 = dataset_conv(valve_test_6, scaler_valve)\n",
    "\n",
    "pred_valve_test_6 = model_conv_valve.predict(valve_test_feat_6)"
   ]
  },
  {
   "cell_type": "code",
   "execution_count": 141,
   "metadata": {},
   "outputs": [
    {
     "name": "stdout",
     "output_type": "stream",
     "text": [
      "Moyenne des erreurs : 0.24380668202067368\n",
      "Ecart-type des erreurs : 0.019829395223353797\n"
     ]
    }
   ],
   "source": [
    "error_valve_test_6 = errors(valve_test_feat_6, pred_valve_test_6, len(valve_test_6))\n",
    "\n",
    "print('Moyenne des erreurs :', np.mean(error_valve_test_6))\n",
    "print('Ecart-type des erreurs :', np.std(error_valve_test_6))\n",
    "\n",
    "y_true = valve_test_6['Status'].replace(['normal', 'anomaly'], [0,1])"
   ]
  },
  {
   "cell_type": "code",
   "execution_count": 119,
   "metadata": {},
   "outputs": [
    {
     "name": "stdout",
     "output_type": "stream",
     "text": [
      "              precision    recall  f1-score   support\n",
      "\n",
      "           0       0.73      0.58      0.65       100\n",
      "           1       0.70      0.82      0.76       120\n",
      "\n",
      "    accuracy                           0.71       220\n",
      "   macro avg       0.72      0.70      0.70       220\n",
      "weighted avg       0.72      0.71      0.71       220\n",
      "\n"
     ]
    },
    {
     "data": {
      "text/html": [
       "<div>\n",
       "<style scoped>\n",
       "    .dataframe tbody tr th:only-of-type {\n",
       "        vertical-align: middle;\n",
       "    }\n",
       "\n",
       "    .dataframe tbody tr th {\n",
       "        vertical-align: top;\n",
       "    }\n",
       "\n",
       "    .dataframe thead th {\n",
       "        text-align: right;\n",
       "    }\n",
       "</style>\n",
       "<table border=\"1\" class=\"dataframe\">\n",
       "  <thead>\n",
       "    <tr style=\"text-align: right;\">\n",
       "      <th>Classe prédite</th>\n",
       "      <th>0</th>\n",
       "      <th>1</th>\n",
       "    </tr>\n",
       "    <tr>\n",
       "      <th>Classe réelle</th>\n",
       "      <th></th>\n",
       "      <th></th>\n",
       "    </tr>\n",
       "  </thead>\n",
       "  <tbody>\n",
       "    <tr>\n",
       "      <th>0</th>\n",
       "      <td>58</td>\n",
       "      <td>42</td>\n",
       "    </tr>\n",
       "    <tr>\n",
       "      <th>1</th>\n",
       "      <td>21</td>\n",
       "      <td>99</td>\n",
       "    </tr>\n",
       "  </tbody>\n",
       "</table>\n",
       "</div>"
      ],
      "text/plain": [
       "Classe prédite   0   1\n",
       "Classe réelle         \n",
       "0               58  42\n",
       "1               21  99"
      ]
     },
     "execution_count": 119,
     "metadata": {},
     "output_type": "execute_result"
    }
   ],
   "source": [
    "seuil = .233 # valeur à déterminer selon les erreurs \n",
    "\n",
    "y_pred = np.where(error_valve_test_6[:] > seuil, 1, 0)\n",
    "\n",
    "print(classification_report(y_true, y_pred))\n",
    "pd.crosstab(y_true, y_pred, rownames=['Classe réelle'], colnames=['Classe prédite'])"
   ]
  },
  {
   "cell_type": "code",
   "execution_count": 142,
   "metadata": {},
   "outputs": [
    {
     "data": {
      "image/png": "[encoded data removed]",
      "text/plain": [
       "<Figure size 432x288 with 1 Axes>"
      ]
     },
     "metadata": {
      "needs_background": "light"
     },
     "output_type": "display_data"
    }
   ],
   "source": [
    "from sklearn.metrics import roc_curve, auc, roc_auc_score\n",
    "\n",
    "fpr, tpr, seuils = roc_curve(y_true, error_valve_test_6, pos_label = 1)\n",
    "\n",
    "roc_auc = auc(fpr, tpr)\n",
    "\n",
    "plt.plot(fpr, tpr, 'orange', label = 'Modèle Conv (auc = %0.2f)' % roc_auc)\n",
    "plt.title('Courbe ROC')\n",
    "plt.xlabel('Taux faux positifs')\n",
    "plt.ylabel('Taux vrais positifs')\n",
    "plt.xlim(0,1)\n",
    "plt.ylim(0,1.05)\n",
    "\n",
    "plt.plot(fpr, fpr, 'b--', label = 'Aléatoire (aux = 0.5)')\n",
    "\n",
    "plt.legend(loc = 'lower right')\n",
    "plt.show();"
   ]
  },
  {
   "cell_type": "code",
   "execution_count": 143,
   "metadata": {},
   "outputs": [
    {
     "name": "stdout",
     "output_type": "stream",
     "text": [
      "AUC : 0.6800833333333334\n",
      "pAUC : 0.5638020833333334\n"
     ]
    }
   ],
   "source": [
    "auc = roc_auc_score(y_true, error_valve_test_6)\n",
    "p_auc = roc_auc_score(y_true, error_valve_test_6, max_fpr=.4)\n",
    "\n",
    "print(\"AUC : {}\".format(auc))\n",
    "print(\"pAUC : {}\".format(p_auc))"
   ]
  },
  {
   "cell_type": "code",
   "execution_count": null,
   "metadata": {},
   "outputs": [],
   "source": []
  }
 ],
 "metadata": {
  "kernelspec": {
   "display_name": "Python 3",
   "language": "python",
   "name": "python3"
  },
  "language_info": {
   "codemirror_mode": {
    "name": "ipython",
    "version": 3
   },
   "file_extension": ".py",
   "mimetype": "text/x-python",
   "name": "python",
   "nbconvert_exporter": "python",
   "pygments_lexer": "ipython3",
   "version": "3.8.5"
  }
 },
 "nbformat": 4,
 "nbformat_minor": 4
}
