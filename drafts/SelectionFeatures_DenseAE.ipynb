{
 "cells": [
  {
   "cell_type": "code",
   "execution_count": 1,
   "metadata": {},
   "outputs": [
    {
     "data": {
      "text/html": [
       "<div>\n",
       "<style scoped>\n",
       "    .dataframe tbody tr th:only-of-type {\n",
       "        vertical-align: middle;\n",
       "    }\n",
       "\n",
       "    .dataframe tbody tr th {\n",
       "        vertical-align: top;\n",
       "    }\n",
       "\n",
       "    .dataframe thead th {\n",
       "        text-align: right;\n",
       "    }\n",
       "</style>\n",
       "<table border=\"1\" class=\"dataframe\">\n",
       "  <thead>\n",
       "    <tr style=\"text-align: right;\">\n",
       "      <th></th>\n",
       "      <th>Path</th>\n",
       "      <th>Machine_Type</th>\n",
       "      <th>Dataset</th>\n",
       "      <th>Status</th>\n",
       "      <th>Machine_ID</th>\n",
       "      <th>Sample_ID</th>\n",
       "      <th>nb_echantillon</th>\n",
       "      <th>freq_echantillonnage</th>\n",
       "      <th>audio</th>\n",
       "    </tr>\n",
       "  </thead>\n",
       "  <tbody>\n",
       "    <tr>\n",
       "      <th>11969</th>\n",
       "      <td>Data/slider/train/normal_id_00_00000692.wav</td>\n",
       "      <td>slider</td>\n",
       "      <td>train</td>\n",
       "      <td>normal</td>\n",
       "      <td>0</td>\n",
       "      <td>692</td>\n",
       "      <td>160000</td>\n",
       "      <td>16000</td>\n",
       "      <td>[-0.01812744 -0.02529907 -0.02410889 ... -0.01...</td>\n",
       "    </tr>\n",
       "    <tr>\n",
       "      <th>11970</th>\n",
       "      <td>Data/slider/train/normal_id_06_00000093.wav</td>\n",
       "      <td>slider</td>\n",
       "      <td>train</td>\n",
       "      <td>normal</td>\n",
       "      <td>6</td>\n",
       "      <td>93</td>\n",
       "      <td>160000</td>\n",
       "      <td>16000</td>\n",
       "      <td>[ 0.00030518 -0.01733398  0.00076294 ... -0.01...</td>\n",
       "    </tr>\n",
       "    <tr>\n",
       "      <th>11971</th>\n",
       "      <td>Data/slider/train/normal_id_00_00000686.wav</td>\n",
       "      <td>slider</td>\n",
       "      <td>train</td>\n",
       "      <td>normal</td>\n",
       "      <td>0</td>\n",
       "      <td>686</td>\n",
       "      <td>160000</td>\n",
       "      <td>16000</td>\n",
       "      <td>[ 0.00491333 -0.00527954 -0.01107788 ... -0.01...</td>\n",
       "    </tr>\n",
       "    <tr>\n",
       "      <th>11972</th>\n",
       "      <td>Data/slider/train/normal_id_06_00000087.wav</td>\n",
       "      <td>slider</td>\n",
       "      <td>train</td>\n",
       "      <td>normal</td>\n",
       "      <td>6</td>\n",
       "      <td>87</td>\n",
       "      <td>160000</td>\n",
       "      <td>16000</td>\n",
       "      <td>[-0.0083313  -0.01031494 -0.01416016 ...  0.00...</td>\n",
       "    </tr>\n",
       "    <tr>\n",
       "      <th>11973</th>\n",
       "      <td>Data/slider/train/normal_id_02_00000058.wav</td>\n",
       "      <td>slider</td>\n",
       "      <td>train</td>\n",
       "      <td>normal</td>\n",
       "      <td>2</td>\n",
       "      <td>58</td>\n",
       "      <td>160000</td>\n",
       "      <td>16000</td>\n",
       "      <td>[0.00817871 0.01330566 0.012146   ... 0.005401...</td>\n",
       "    </tr>\n",
       "  </tbody>\n",
       "</table>\n",
       "</div>"
      ],
      "text/plain": [
       "                                              Path Machine_Type Dataset  \\\n",
       "11969  Data/slider/train/normal_id_00_00000692.wav       slider   train   \n",
       "11970  Data/slider/train/normal_id_06_00000093.wav       slider   train   \n",
       "11971  Data/slider/train/normal_id_00_00000686.wav       slider   train   \n",
       "11972  Data/slider/train/normal_id_06_00000087.wav       slider   train   \n",
       "11973  Data/slider/train/normal_id_02_00000058.wav       slider   train   \n",
       "\n",
       "       Status  Machine_ID  Sample_ID  nb_echantillon  freq_echantillonnage  \\\n",
       "11969  normal           0        692          160000                 16000   \n",
       "11970  normal           6         93          160000                 16000   \n",
       "11971  normal           0        686          160000                 16000   \n",
       "11972  normal           6         87          160000                 16000   \n",
       "11973  normal           2         58          160000                 16000   \n",
       "\n",
       "                                                   audio  \n",
       "11969  [-0.01812744 -0.02529907 -0.02410889 ... -0.01...  \n",
       "11970  [ 0.00030518 -0.01733398  0.00076294 ... -0.01...  \n",
       "11971  [ 0.00491333 -0.00527954 -0.01107788 ... -0.01...  \n",
       "11972  [-0.0083313  -0.01031494 -0.01416016 ...  0.00...  \n",
       "11973  [0.00817871 0.01330566 0.012146   ... 0.005401...  "
      ]
     },
     "execution_count": 1,
     "metadata": {},
     "output_type": "execute_result"
    }
   ],
   "source": [
    "import pandas as pd\n",
    "import numpy as np\n",
    "import librosa\n",
    "\n",
    "def load_audio(audio_path):\n",
    "    return librosa.load(audio_path, sr=None)\n",
    "\n",
    "df = pd.read_csv('Path_DF.csv')\n",
    "slider_train = df[(df.Dataset == 'train') & (df.Machine_Type == 'slider')]\n",
    "\n",
    "slider_train.head()"
   ]
  },
  {
   "cell_type": "code",
   "execution_count": 56,
   "metadata": {},
   "outputs": [],
   "source": [
    "def file_load_stream(wav_name, mono=False):\n",
    "    frameSize = librosa.get_samplerate(wav_name)\n",
    "    hoplength = frameSize // 2\n",
    "    stream = librosa.stream(wav_name, block_length=1, frame_length=frameSize, hop_length=hoplength, mono=mono)\n",
    "    return stream"
   ]
  },
  {
   "cell_type": "code",
   "execution_count": 57,
   "metadata": {},
   "outputs": [
    {
     "data": {
      "text/plain": [
       "<generator object stream at 0x7fb839e22f90>"
      ]
     },
     "execution_count": 57,
     "metadata": {},
     "output_type": "execute_result"
    }
   ],
   "source": [
    "file_load_stream(df.iloc[0,0])"
   ]
  },
  {
   "cell_type": "code",
   "execution_count": 6,
   "metadata": {},
   "outputs": [],
   "source": [
    "#help(librosa.stream)"
   ]
  },
  {
   "cell_type": "code",
   "execution_count": 8,
   "metadata": {},
   "outputs": [],
   "source": [
    "import sys\n",
    "\n",
    "def file_to_vector_array_stream_test_data(file_name, n_mels=128, frames=5, n_fft=1024, hop_length=512, power=1):\n",
    "    \"\"\"\n",
    "    convert file_name to a vector array.\n",
    "    file_name : str\n",
    "        target .wav file\n",
    "    return : numpy.array( numpy.array( float ) )\n",
    "        vector array\n",
    "        * dataset.shape = (dataset_size, feature_vector_length)\n",
    "    \"\"\"\n",
    "    # 01 calculate the number of dimensions\n",
    "    dims = n_mels * frames\n",
    "    \n",
    "    # 02 generate melspectrogram using librosa\n",
    "    stream = file_load_stream(file_name)\n",
    "    sr = librosa.get_samplerate(file_name)\n",
    "    liste = []\n",
    "    for n, y in enumerate(stream):\n",
    "        mel_spectrogram = librosa.feature.melspectrogram(y=y, sr=sr, n_fft=n_fft, hop_length=hop_length, n_mels=n_mels, power=power)\n",
    "\n",
    "        # 03 convert melspectrogram\n",
    "\n",
    "        log_mel_spectrogram = 20.0 / power * np.log10(mel_spectrogram + sys.float_info.epsilon)\n",
    "\n",
    "        # 04 calculate total vector size\n",
    "        vector_array_size = len(log_mel_spectrogram[0, :]) - frames + 1  \n",
    "        \n",
    "        # 05 skip too short clips\n",
    "        if vector_array_size < 1:\n",
    "            return np.empty((0, dims))\n",
    "\n",
    "        # 06 generate feature vectors by concatenating multiframes\n",
    "        vector_array = np.zeros((vector_array_size, dims))\n",
    "\n",
    "        for t in range(frames):\n",
    "            vector_array[:, n_mels * t: n_mels * (t + 1)] = log_mel_spectrogram[:, t: t + vector_array_size].T\n",
    "\n",
    "        liste.append(vector_array)\n",
    "\n",
    "    liste2 = np.asarray(liste)\n",
    "    liste2 = liste2.reshape(liste2.shape[0] * liste2.shape[1], liste2.shape[2])\n",
    "    return liste2"
   ]
  },
  {
   "cell_type": "code",
   "execution_count": 61,
   "metadata": {},
   "outputs": [
    {
     "data": {
      "text/plain": [
       "(532, 640)"
      ]
     },
     "execution_count": 61,
     "metadata": {},
     "output_type": "execute_result"
    }
   ],
   "source": [
    "nb_extract = 532\n",
    "\n",
    "file_to_vector_array_stream_test_data(df.iloc[0,0]).shape\n",
    "#file = file.append(list(file_to_vector_array_stream_test_data(df.iloc[1,0])))\n",
    "#file = np.asarray(file)"
   ]
  },
  {
   "cell_type": "code",
   "execution_count": 13,
   "metadata": {},
   "outputs": [
    {
     "name": "stdout",
     "output_type": "stream",
     "text": [
      "Réalisé en 189.51 secondes\n"
     ]
    }
   ],
   "source": [
    "from time import time\n",
    "t0 = time()\n",
    "\n",
    "list_slider_train = []\n",
    "for k in range(len(slider_train)):\n",
    "    for l in file_to_vector_array_stream_test_data(slider_train.iloc[k,0]):\n",
    "        list_slider_train.append(l)\n",
    "slider_train_stream = np.asarray(list_slider_train)\n",
    "\n",
    "t1 = time() - t0\n",
    "print(\"Réalisé en {} secondes\".format(round(t1,3)))"
   ]
  },
  {
   "cell_type": "code",
   "execution_count": 14,
   "metadata": {},
   "outputs": [
    {
     "data": {
      "text/plain": [
       "(1491728, 640)"
      ]
     },
     "execution_count": 14,
     "metadata": {},
     "output_type": "execute_result"
    }
   ],
   "source": [
    "slider_train_stream.shape"
   ]
  },
  {
   "cell_type": "code",
   "execution_count": 15,
   "metadata": {},
   "outputs": [],
   "source": [
    "import numpy as np\n",
    "import pandas as pd\n",
    "\n",
    "import tensorflow as tf\n",
    "from tensorflow.keras import Sequential\n",
    "from tensorflow.keras.layers import Conv2D, Conv2DTranspose, Dense, Dropout, Flatten, BatchNormalization, ReLU, Reshape\n"
   ]
  },
  {
   "cell_type": "code",
   "execution_count": 34,
   "metadata": {},
   "outputs": [],
   "source": [
    "model_dense = Sequential()\n",
    "\n",
    "# Première couche Encoder\n",
    "\n",
    "model_dense.add(Dense(512, input_shape = (640,)))\n",
    "model_dense.add(BatchNormalization())\n",
    "model_dense.add(ReLU())\n",
    "\n",
    "# Seconde couche Encoder\n",
    "\n",
    "model_dense.add(Dense(512))\n",
    "model_dense.add(BatchNormalization())\n",
    "model_dense.add(ReLU())\n",
    "\n",
    "# Troisième couche Encoder\n",
    "\n",
    "model_dense.add(Dense(512))\n",
    "model_dense.add(BatchNormalization())\n",
    "model_dense.add(ReLU())\n",
    "\n",
    "# Quatrième couche Encoder\n",
    "\n",
    "model_dense.add(Dense(512))\n",
    "model_dense.add(BatchNormalization())\n",
    "model_dense.add(ReLU())\n",
    "\n",
    "# Couche goulot\n",
    "\n",
    "model_dense.add(Dense(8))\n",
    "model_dense.add(BatchNormalization())\n",
    "model_dense.add(ReLU())\n",
    "\n",
    "# Première couche Decoder\n",
    "\n",
    "model_dense.add(Dense(512))\n",
    "model_dense.add(BatchNormalization())\n",
    "model_dense.add(ReLU())\n",
    "\n",
    "# Seconde couche Decoder\n",
    "\n",
    "model_dense.add(Dense(512))\n",
    "model_dense.add(BatchNormalization())\n",
    "model_dense.add(ReLU())\n",
    "\n",
    "# Troisième couche Decoder\n",
    "\n",
    "model_dense.add(Dense(512))\n",
    "model_dense.add(BatchNormalization())\n",
    "model_dense.add(ReLU())\n",
    "\n",
    "# Quatrième couche Decoder\n",
    "\n",
    "model_dense.add(Dense(512))\n",
    "model_dense.add(BatchNormalization())\n",
    "model_dense.add(ReLU())\n",
    "\n",
    "# Couche de reconstruction \n",
    "\n",
    "model_dense.add(Dense(640))\n",
    "\n",
    "# On compile \n",
    "\n",
    "model_dense.compile(optimizer='adam', loss=\"mse\")\n"
   ]
  },
  {
   "cell_type": "code",
   "execution_count": 17,
   "metadata": {},
   "outputs": [
    {
     "name": "stdout",
     "output_type": "stream",
     "text": [
      "Epoch 1/100\n",
      "2040/2040 [==============================] - 175s 85ms/step - loss: 248.1515 - val_loss: 13.8688\n",
      "INFO:tensorflow:Assets written to: /Users/romeo/Formation DataScientist/projet pynomaly/assets\n",
      "Epoch 2/100\n",
      "2040/2040 [==============================] - 166s 81ms/step - loss: 12.7042 - val_loss: 13.3859\n",
      "INFO:tensorflow:Assets written to: /Users/romeo/Formation DataScientist/projet pynomaly/assets\n",
      "Epoch 3/100\n",
      "2040/2040 [==============================] - 140s 68ms/step - loss: 11.5775 - val_loss: 12.4520\n",
      "INFO:tensorflow:Assets written to: /Users/romeo/Formation DataScientist/projet pynomaly/assets\n",
      "Epoch 4/100\n",
      "2040/2040 [==============================] - 139s 68ms/step - loss: 11.1530 - val_loss: 12.8373\n",
      "Epoch 5/100\n",
      "2040/2040 [==============================] - 141s 69ms/step - loss: 10.9242 - val_loss: 12.0073\n",
      "INFO:tensorflow:Assets written to: /Users/romeo/Formation DataScientist/projet pynomaly/assets\n",
      "Epoch 6/100\n",
      "2040/2040 [==============================] - 146s 71ms/step - loss: 10.7857 - val_loss: 12.0152\n",
      "Epoch 7/100\n",
      "2040/2040 [==============================] - 145s 71ms/step - loss: 10.6924 - val_loss: 11.5450\n",
      "INFO:tensorflow:Assets written to: /Users/romeo/Formation DataScientist/projet pynomaly/assets\n",
      "Epoch 8/100\n",
      "2040/2040 [==============================] - 147s 72ms/step - loss: 10.6024 - val_loss: 11.8295\n",
      "Epoch 9/100\n",
      "2040/2040 [==============================] - 147s 72ms/step - loss: 10.5449 - val_loss: 14.8477\n",
      "Epoch 10/100\n",
      "2040/2040 [==============================] - 148s 72ms/step - loss: 10.4980 - val_loss: 11.4258\n",
      "INFO:tensorflow:Assets written to: /Users/romeo/Formation DataScientist/projet pynomaly/assets\n",
      "Epoch 11/100\n",
      "2040/2040 [==============================] - 145s 71ms/step - loss: 10.4443 - val_loss: 11.2925\n",
      "INFO:tensorflow:Assets written to: /Users/romeo/Formation DataScientist/projet pynomaly/assets\n",
      "Epoch 12/100\n",
      "2040/2040 [==============================] - 138s 67ms/step - loss: 10.4068 - val_loss: 11.1376\n",
      "INFO:tensorflow:Assets written to: /Users/romeo/Formation DataScientist/projet pynomaly/assets\n",
      "Epoch 13/100\n",
      "2040/2040 [==============================] - 140s 68ms/step - loss: 10.3716 - val_loss: 11.0380\n",
      "INFO:tensorflow:Assets written to: /Users/romeo/Formation DataScientist/projet pynomaly/assets\n",
      "Epoch 14/100\n",
      "2040/2040 [==============================] - 139s 68ms/step - loss: 10.3415 - val_loss: 11.0341\n",
      "INFO:tensorflow:Assets written to: /Users/romeo/Formation DataScientist/projet pynomaly/assets\n",
      "Epoch 15/100\n",
      "2040/2040 [==============================] - 143s 70ms/step - loss: 10.3110 - val_loss: 11.1525\n",
      "Epoch 16/100\n",
      "2040/2040 [==============================] - 141s 69ms/step - loss: 10.2923 - val_loss: 11.0538\n",
      "Epoch 17/100\n",
      "2040/2040 [==============================] - 143s 70ms/step - loss: 10.2731 - val_loss: 10.9827\n",
      "INFO:tensorflow:Assets written to: /Users/romeo/Formation DataScientist/projet pynomaly/assets\n",
      "Epoch 18/100\n",
      "2040/2040 [==============================] - 134s 66ms/step - loss: 10.2464 - val_loss: 11.1627\n",
      "Epoch 19/100\n",
      "2040/2040 [==============================] - 145s 71ms/step - loss: 10.2289 - val_loss: 11.0179\n",
      "Epoch 20/100\n",
      "2040/2040 [==============================] - 143s 70ms/step - loss: 10.2134 - val_loss: 10.9874\n",
      "Epoch 21/100\n",
      "2040/2040 [==============================] - 142s 69ms/step - loss: 10.1911 - val_loss: 11.2287\n",
      "Epoch 22/100\n",
      "2040/2040 [==============================] - 138s 68ms/step - loss: 10.1858 - val_loss: 10.9791\n",
      "INFO:tensorflow:Assets written to: /Users/romeo/Formation DataScientist/projet pynomaly/assets\n",
      "Epoch 23/100\n",
      "2040/2040 [==============================] - 141s 69ms/step - loss: 10.1696 - val_loss: 10.8895\n",
      "INFO:tensorflow:Assets written to: /Users/romeo/Formation DataScientist/projet pynomaly/assets\n",
      "Epoch 24/100\n",
      "2040/2040 [==============================] - 139s 68ms/step - loss: 10.1605 - val_loss: 10.8218\n",
      "INFO:tensorflow:Assets written to: /Users/romeo/Formation DataScientist/projet pynomaly/assets\n",
      "Epoch 25/100\n",
      "2040/2040 [==============================] - 143s 70ms/step - loss: 10.1400 - val_loss: 10.9176\n",
      "Epoch 26/100\n",
      "2040/2040 [==============================] - 153s 75ms/step - loss: 10.1406 - val_loss: 10.8367\n",
      "Epoch 27/100\n",
      "2040/2040 [==============================] - 147s 72ms/step - loss: 10.1231 - val_loss: 10.8541\n",
      "Epoch 28/100\n",
      "2040/2040 [==============================] - 148s 72ms/step - loss: 10.1113 - val_loss: 10.9344\n",
      "Epoch 29/100\n",
      "2040/2040 [==============================] - 139s 68ms/step - loss: 10.1041 - val_loss: 10.9302\n",
      "Epoch 30/100\n",
      "2040/2040 [==============================] - 139s 68ms/step - loss: 10.0936 - val_loss: 10.7630\n",
      "INFO:tensorflow:Assets written to: /Users/romeo/Formation DataScientist/projet pynomaly/assets\n",
      "Epoch 31/100\n",
      "2040/2040 [==============================] - 147s 72ms/step - loss: 10.0818 - val_loss: 10.9156\n",
      "Epoch 32/100\n",
      "2040/2040 [==============================] - 156s 76ms/step - loss: 10.0750 - val_loss: 34.4303\n",
      "Epoch 33/100\n",
      "2040/2040 [==============================] - 158s 77ms/step - loss: 10.0710 - val_loss: 10.8186\n",
      "Epoch 34/100\n",
      "2040/2040 [==============================] - 157s 77ms/step - loss: 10.0611 - val_loss: 10.8772\n",
      "Epoch 35/100\n",
      "2040/2040 [==============================] - 145s 71ms/step - loss: 10.0465 - val_loss: 10.9583\n",
      "Epoch 36/100\n",
      "2040/2040 [==============================] - 153s 75ms/step - loss: 10.0556 - val_loss: 11.1352\n",
      "Epoch 37/100\n",
      "2040/2040 [==============================] - 152s 74ms/step - loss: 10.0422 - val_loss: 10.9177\n",
      "Epoch 38/100\n",
      "2040/2040 [==============================] - 147s 72ms/step - loss: 10.0292 - val_loss: 10.8482\n",
      "Epoch 39/100\n",
      "2040/2040 [==============================] - 140s 69ms/step - loss: 10.0264 - val_loss: 10.8144\n",
      "Epoch 40/100\n",
      "2040/2040 [==============================] - 146s 71ms/step - loss: 10.0159 - val_loss: 11.5683\n",
      "Réalisé en 5937.224 secondes\n"
     ]
    }
   ],
   "source": [
    "from tensorflow.keras import callbacks\n",
    "\n",
    "# Callback pour arrêter l'entrainement et récupérer le meilleur modèle si la métrique ne diminue plus pendant 10 epochs\n",
    "early_stopping = callbacks.EarlyStopping(monitor = 'val_loss', patience = 10, mode = 'min', restore_best_weights = True)\n",
    "\n",
    "import os\n",
    "cwd = os.getcwd()\n",
    "filepath = cwd\n",
    "\n",
    "# Callback pour sauvegarder le meilleur modèle\n",
    "checkpoint = callbacks.ModelCheckpoint(filepath = filepath, monitor = 'val_loss', save_best_only = True, \n",
    "                                       save_weights_only = False, mode = 'min', save_freq = 'epoch')\n",
    "\n",
    "t0 = time()\n",
    "\n",
    "# Pour modèle Dense AE\n",
    "model_dense.fit(slider_train_stream, slider_train_stream, batch_size = 512, epochs = 100, callbacks=[checkpoint, early_stopping], validation_split = 0.3)\n",
    "\n",
    "t1 = time() - t0\n",
    "print(\"Réalisé en {} secondes\".format(round(t1,3)))"
   ]
  },
  {
   "cell_type": "code",
   "execution_count": 98,
   "metadata": {},
   "outputs": [
    {
     "ename": "OSError",
     "evalue": "SavedModel file does not exist at: /Users/romeo/Formation DataScientist/projet pynomaly/assets/{saved_model.pbtxt|saved_model.pb}",
     "output_type": "error",
     "traceback": [
      "\u001b[0;31m---------------------------------------------------------------------------\u001b[0m",
      "\u001b[0;31mOSError\u001b[0m                                   Traceback (most recent call last)",
      "\u001b[0;32m<ipython-input-98-7568b35a0274>\u001b[0m in \u001b[0;36m<module>\u001b[0;34m\u001b[0m\n\u001b[0;32m----> 1\u001b[0;31m \u001b[0mmodel\u001b[0m \u001b[0;34m=\u001b[0m \u001b[0mtf\u001b[0m\u001b[0;34m.\u001b[0m\u001b[0msaved_model\u001b[0m\u001b[0;34m.\u001b[0m\u001b[0mload\u001b[0m\u001b[0;34m(\u001b[0m\u001b[0;34m'/Users/romeo/Formation DataScientist/projet pynomaly/assets'\u001b[0m\u001b[0;34m)\u001b[0m\u001b[0;34m\u001b[0m\u001b[0;34m\u001b[0m\u001b[0m\n\u001b[0m",
      "\u001b[0;32m/opt/anaconda3/lib/python3.8/site-packages/tensorflow/python/saved_model/load.py\u001b[0m in \u001b[0;36mload\u001b[0;34m(export_dir, tags, options)\u001b[0m\n\u001b[1;32m    857\u001b[0m     \u001b[0mValueError\u001b[0m\u001b[0;34m:\u001b[0m \u001b[0mIf\u001b[0m\u001b[0;31m \u001b[0m\u001b[0;31m`\u001b[0m\u001b[0mtags\u001b[0m\u001b[0;31m`\u001b[0m \u001b[0mdon\u001b[0m\u001b[0;31m'\u001b[0m\u001b[0mt\u001b[0m \u001b[0mmatch\u001b[0m \u001b[0ma\u001b[0m \u001b[0mMetaGraph\u001b[0m \u001b[0;32min\u001b[0m \u001b[0mthe\u001b[0m \u001b[0mSavedModel\u001b[0m\u001b[0;34m.\u001b[0m\u001b[0;34m\u001b[0m\u001b[0;34m\u001b[0m\u001b[0m\n\u001b[1;32m    858\u001b[0m   \"\"\"\n\u001b[0;32m--> 859\u001b[0;31m   \u001b[0;32mreturn\u001b[0m \u001b[0mload_internal\u001b[0m\u001b[0;34m(\u001b[0m\u001b[0mexport_dir\u001b[0m\u001b[0;34m,\u001b[0m \u001b[0mtags\u001b[0m\u001b[0;34m,\u001b[0m \u001b[0moptions\u001b[0m\u001b[0;34m)\u001b[0m\u001b[0;34m[\u001b[0m\u001b[0;34m\"root\"\u001b[0m\u001b[0;34m]\u001b[0m\u001b[0;34m\u001b[0m\u001b[0;34m\u001b[0m\u001b[0m\n\u001b[0m\u001b[1;32m    860\u001b[0m \u001b[0;34m\u001b[0m\u001b[0m\n\u001b[1;32m    861\u001b[0m \u001b[0;34m\u001b[0m\u001b[0m\n",
      "\u001b[0;32m/opt/anaconda3/lib/python3.8/site-packages/tensorflow/python/saved_model/load.py\u001b[0m in \u001b[0;36mload_internal\u001b[0;34m(export_dir, tags, options, loader_cls, filters)\u001b[0m\n\u001b[1;32m    869\u001b[0m     \u001b[0mtags\u001b[0m \u001b[0;34m=\u001b[0m \u001b[0mnest\u001b[0m\u001b[0;34m.\u001b[0m\u001b[0mflatten\u001b[0m\u001b[0;34m(\u001b[0m\u001b[0mtags\u001b[0m\u001b[0;34m)\u001b[0m\u001b[0;34m\u001b[0m\u001b[0;34m\u001b[0m\u001b[0m\n\u001b[1;32m    870\u001b[0m   saved_model_proto, debug_info = (\n\u001b[0;32m--> 871\u001b[0;31m       loader_impl.parse_saved_model_with_debug_info(export_dir))\n\u001b[0m\u001b[1;32m    872\u001b[0m \u001b[0;34m\u001b[0m\u001b[0m\n\u001b[1;32m    873\u001b[0m   if (len(saved_model_proto.meta_graphs) == 1 and\n",
      "\u001b[0;32m/opt/anaconda3/lib/python3.8/site-packages/tensorflow/python/saved_model/loader_impl.py\u001b[0m in \u001b[0;36mparse_saved_model_with_debug_info\u001b[0;34m(export_dir)\u001b[0m\n\u001b[1;32m     54\u001b[0m     \u001b[0mparsed\u001b[0m\u001b[0;34m.\u001b[0m \u001b[0mMissing\u001b[0m \u001b[0mgraph\u001b[0m \u001b[0mdebug\u001b[0m \u001b[0minfo\u001b[0m \u001b[0mfile\u001b[0m \u001b[0;32mis\u001b[0m \u001b[0mfine\u001b[0m\u001b[0;34m.\u001b[0m\u001b[0;34m\u001b[0m\u001b[0;34m\u001b[0m\u001b[0m\n\u001b[1;32m     55\u001b[0m   \"\"\"\n\u001b[0;32m---> 56\u001b[0;31m   \u001b[0msaved_model\u001b[0m \u001b[0;34m=\u001b[0m \u001b[0m_parse_saved_model\u001b[0m\u001b[0;34m(\u001b[0m\u001b[0mexport_dir\u001b[0m\u001b[0;34m)\u001b[0m\u001b[0;34m\u001b[0m\u001b[0;34m\u001b[0m\u001b[0m\n\u001b[0m\u001b[1;32m     57\u001b[0m \u001b[0;34m\u001b[0m\u001b[0m\n\u001b[1;32m     58\u001b[0m   debug_info_path = os.path.join(\n",
      "\u001b[0;32m/opt/anaconda3/lib/python3.8/site-packages/tensorflow/python/saved_model/loader_impl.py\u001b[0m in \u001b[0;36mparse_saved_model\u001b[0;34m(export_dir)\u001b[0m\n\u001b[1;32m    109\u001b[0m       \u001b[0;32mraise\u001b[0m \u001b[0mIOError\u001b[0m\u001b[0;34m(\u001b[0m\u001b[0;34m\"Cannot parse file %s: %s.\"\u001b[0m \u001b[0;34m%\u001b[0m \u001b[0;34m(\u001b[0m\u001b[0mpath_to_pbtxt\u001b[0m\u001b[0;34m,\u001b[0m \u001b[0mstr\u001b[0m\u001b[0;34m(\u001b[0m\u001b[0me\u001b[0m\u001b[0;34m)\u001b[0m\u001b[0;34m)\u001b[0m\u001b[0;34m)\u001b[0m\u001b[0;34m\u001b[0m\u001b[0;34m\u001b[0m\u001b[0m\n\u001b[1;32m    110\u001b[0m   \u001b[0;32melse\u001b[0m\u001b[0;34m:\u001b[0m\u001b[0;34m\u001b[0m\u001b[0;34m\u001b[0m\u001b[0m\n\u001b[0;32m--> 111\u001b[0;31m     raise IOError(\"SavedModel file does not exist at: %s/{%s|%s}\" %\n\u001b[0m\u001b[1;32m    112\u001b[0m                   (export_dir,\n\u001b[1;32m    113\u001b[0m                    \u001b[0mconstants\u001b[0m\u001b[0;34m.\u001b[0m\u001b[0mSAVED_MODEL_FILENAME_PBTXT\u001b[0m\u001b[0;34m,\u001b[0m\u001b[0;34m\u001b[0m\u001b[0;34m\u001b[0m\u001b[0m\n",
      "\u001b[0;31mOSError\u001b[0m: SavedModel file does not exist at: /Users/romeo/Formation DataScientist/projet pynomaly/assets/{saved_model.pbtxt|saved_model.pb}"
     ]
    }
   ],
   "source": [
    "model = tf.saved_model.load('/Users/romeo/Formation DataScientist/projet pynomaly/assets')"
   ]
  },
  {
   "cell_type": "code",
   "execution_count": 18,
   "metadata": {},
   "outputs": [
    {
     "name": "stdout",
     "output_type": "stream",
     "text": [
      "Réalisé en 82.639 secondes\n"
     ]
    }
   ],
   "source": [
    "slider_test = df[(df.Dataset == 'test') & (df.Machine_Type == 'slider')]\n",
    "\n",
    "t0 = time()\n",
    "\n",
    "list_slider_test = []\n",
    "for k in range(len(slider_test)):\n",
    "    for l in file_to_vector_array_stream_test_data(slider_test.iloc[k,0]):\n",
    "        list_slider_test.append(l)\n",
    "slider_test_stream = np.asarray(list_slider_test)\n",
    "\n",
    "t1 = time() - t0\n",
    "print(\"Réalisé en {} secondes\".format(round(t1,3)))"
   ]
  },
  {
   "cell_type": "code",
   "execution_count": 19,
   "metadata": {},
   "outputs": [],
   "source": [
    "pred_slider_test = model_dense.predict(slider_test_stream)"
   ]
  },
  {
   "cell_type": "code",
   "execution_count": 62,
   "metadata": {},
   "outputs": [
    {
     "data": {
      "text/plain": [
       "array([10.00877228, 15.374784  , 18.02122645, ..., 10.79009596,\n",
       "       10.90188541,  9.79186526])"
      ]
     },
     "execution_count": 62,
     "metadata": {},
     "output_type": "execute_result"
    }
   ],
   "source": [
    "errors = np.mean(np.square(slider_test_stream - pred_slider_test), axis=1)\n",
    "\n",
    "error_file = np.zeros(len(slider_test))\n",
    "for k in range(len(slider_test)):\n",
    "    error_file[k] = np.mean(errors[k*nb_extract : (k+1)*nb_extract])\n",
    "    \n",
    "error_file"
   ]
  },
  {
   "cell_type": "code",
   "execution_count": 64,
   "metadata": {},
   "outputs": [
    {
     "data": {
      "text/plain": [
       "10679    0\n",
       "10680    1\n",
       "10681    1\n",
       "10682    0\n",
       "10683    0\n",
       "        ..\n",
       "11964    1\n",
       "11965    1\n",
       "11966    0\n",
       "11967    0\n",
       "11968    0\n",
       "Name: Status, Length: 1290, dtype: int64"
      ]
     },
     "execution_count": 64,
     "metadata": {},
     "output_type": "execute_result"
    }
   ],
   "source": [
    "y_true = slider_test['Status'].replace(['normal', 'anomaly'], [0,1])\n",
    "\n",
    "y_true"
   ]
  },
  {
   "cell_type": "code",
   "execution_count": 68,
   "metadata": {},
   "outputs": [
    {
     "data": {
      "text/html": [
       "<div>\n",
       "<style scoped>\n",
       "    .dataframe tbody tr th:only-of-type {\n",
       "        vertical-align: middle;\n",
       "    }\n",
       "\n",
       "    .dataframe tbody tr th {\n",
       "        vertical-align: top;\n",
       "    }\n",
       "\n",
       "    .dataframe thead th {\n",
       "        text-align: right;\n",
       "    }\n",
       "</style>\n",
       "<table border=\"1\" class=\"dataframe\">\n",
       "  <thead>\n",
       "    <tr style=\"text-align: right;\">\n",
       "      <th>Classe prédite</th>\n",
       "      <th>0</th>\n",
       "      <th>1</th>\n",
       "    </tr>\n",
       "    <tr>\n",
       "      <th>Classe réelle</th>\n",
       "      <th></th>\n",
       "      <th></th>\n",
       "    </tr>\n",
       "  </thead>\n",
       "  <tbody>\n",
       "    <tr>\n",
       "      <th>0</th>\n",
       "      <td>337</td>\n",
       "      <td>63</td>\n",
       "    </tr>\n",
       "    <tr>\n",
       "      <th>1</th>\n",
       "      <td>150</td>\n",
       "      <td>740</td>\n",
       "    </tr>\n",
       "  </tbody>\n",
       "</table>\n",
       "</div>"
      ],
      "text/plain": [
       "Classe prédite    0    1\n",
       "Classe réelle           \n",
       "0               337   63\n",
       "1               150  740"
      ]
     },
     "execution_count": 68,
     "metadata": {},
     "output_type": "execute_result"
    }
   ],
   "source": [
    "seuil = 12 # valeur à déterminer\n",
    "\n",
    "y_pred = np.where(error_file[:] > seuil, 1, 0)\n",
    "\n",
    "pd.crosstab(y_true, y_pred, rownames=['Classe réelle'], colnames=['Classe prédite'])"
   ]
  },
  {
   "cell_type": "code",
   "execution_count": 27,
   "metadata": {},
   "outputs": [],
   "source": [
    "from sklearn.metrics import roc_curve, auc\n",
    "\n",
    "fpr, tpr, seuils = roc_curve(y_true, error_file, pos_label = 1)\n",
    "\n",
    "roc_auc = auc(fpr, tpr)\n",
    "\n"
   ]
  },
  {
   "cell_type": "code",
   "execution_count": 28,
   "metadata": {},
   "outputs": [
    {
     "data": {
      "image/png": "[encoded data removed]",
      "text/plain": [
       "<Figure size 432x288 with 1 Axes>"
      ]
     },
     "metadata": {
      "needs_background": "light"
     },
     "output_type": "display_data"
    }
   ],
   "source": [
    "import matplotlib.pyplot as plt\n",
    "\n",
    "plt.plot(fpr, tpr, 'orange', label = 'Modèle dense (auc = %0.2f)' % roc_auc)\n",
    "plt.title('Courbe ROC')\n",
    "plt.xlabel('Taux faux positifs')\n",
    "plt.ylabel('Taux vrais positifs')\n",
    "plt.xlim(0,1)\n",
    "plt.ylim(0,1.05)\n",
    "\n",
    "\n",
    "plt.plot(fpr, fpr, 'b--', label = 'Aléatoire (aux = 0.5)')\n",
    "\n",
    "plt.legend(loc = 'lower right');\n",
    "\n",
    "plt.show();"
   ]
  },
  {
   "cell_type": "code",
   "execution_count": 45,
   "metadata": {},
   "outputs": [
    {
     "data": {
      "text/plain": [
       "2    968\n",
       "0    968\n",
       "6    434\n",
       "4    434\n",
       "Name: Machine_ID, dtype: int64"
      ]
     },
     "execution_count": 45,
     "metadata": {},
     "output_type": "execute_result"
    }
   ],
   "source": [
    "slider_train.Machine_ID.value_counts()"
   ]
  },
  {
   "cell_type": "markdown",
   "metadata": {},
   "source": [
    "# On recommence avec une seule Machine_ID, on commence avec id = 0"
   ]
  },
  {
   "cell_type": "code",
   "execution_count": 32,
   "metadata": {},
   "outputs": [],
   "source": [
    "slider_0 = df[(df.Machine_ID == 0) & (df.Machine_Type == 'slider')]\n",
    "slider_train_0 = slider_0[slider_0['Dataset'] == 'train']\n",
    "slider_test_0 = slider_0[slider_0['Dataset'] == 'test']\n"
   ]
  },
  {
   "cell_type": "code",
   "execution_count": 33,
   "metadata": {},
   "outputs": [
    {
     "name": "stdout",
     "output_type": "stream",
     "text": [
      "Réalisé en 83.473 secondes\n"
     ]
    }
   ],
   "source": [
    "t0 = time()\n",
    "\n",
    "list_slider_train_0 = []\n",
    "for k in range(len(slider_train_0)):\n",
    "    for l in file_to_vector_array_stream_test_data(slider_train_0.iloc[k,0]):\n",
    "        list_slider_train_0.append(l)\n",
    "slider_train_0_stream = np.asarray(list_slider_train_0)\n",
    "\n",
    "list_slider_test_0 = []\n",
    "for k in range(len(slider_test_0)):\n",
    "    for l in file_to_vector_array_stream_test_data(slider_test_0.iloc[k,0]):\n",
    "        list_slider_test_0.append(l)\n",
    "slider_test_0_stream = np.asarray(list_slider_test_0)\n",
    "\n",
    "t1 = time() - t0\n",
    "print(\"Réalisé en {} secondes\".format(round(t1,3)))"
   ]
  },
  {
   "cell_type": "code",
   "execution_count": 35,
   "metadata": {},
   "outputs": [
    {
     "name": "stdout",
     "output_type": "stream",
     "text": [
      "Epoch 1/100\n",
      "705/705 [==============================] - 59s 80ms/step - loss: 537.8740 - val_loss: 16.2264\n",
      "Epoch 2/100\n",
      "705/705 [==============================] - 52s 74ms/step - loss: 13.9296 - val_loss: 13.8276\n",
      "Epoch 3/100\n",
      "705/705 [==============================] - 49s 70ms/step - loss: 12.6659 - val_loss: 12.2223\n",
      "Epoch 4/100\n",
      "705/705 [==============================] - 52s 74ms/step - loss: 11.9027 - val_loss: 11.9726\n",
      "Epoch 5/100\n",
      "705/705 [==============================] - 51s 72ms/step - loss: 11.5125 - val_loss: 13.0076\n",
      "Epoch 6/100\n",
      "705/705 [==============================] - 51s 73ms/step - loss: 11.2877 - val_loss: 11.9217\n",
      "Epoch 7/100\n",
      "705/705 [==============================] - 54s 77ms/step - loss: 11.0210 - val_loss: 12.9120\n",
      "Epoch 8/100\n",
      "705/705 [==============================] - 52s 74ms/step - loss: 10.8375 - val_loss: 11.8179\n",
      "Epoch 9/100\n",
      "705/705 [==============================] - 52s 73ms/step - loss: 10.6821 - val_loss: 11.9143\n",
      "Epoch 10/100\n",
      "705/705 [==============================] - 50s 72ms/step - loss: 10.5277 - val_loss: 11.5301\n",
      "Epoch 11/100\n",
      "705/705 [==============================] - 50s 71ms/step - loss: 10.4839 - val_loss: 15.6985\n",
      "Epoch 12/100\n",
      "705/705 [==============================] - 51s 73ms/step - loss: 10.5585 - val_loss: 11.5783\n",
      "Epoch 13/100\n",
      "705/705 [==============================] - 52s 74ms/step - loss: 10.3271 - val_loss: 11.6774\n",
      "Epoch 14/100\n",
      "705/705 [==============================] - 50s 71ms/step - loss: 10.2968 - val_loss: 12.0596\n",
      "Epoch 15/100\n",
      "705/705 [==============================] - 54s 77ms/step - loss: 10.2547 - val_loss: 11.4040\n",
      "Epoch 16/100\n",
      "705/705 [==============================] - 50s 71ms/step - loss: 10.1940 - val_loss: 11.7717\n",
      "Epoch 17/100\n",
      "705/705 [==============================] - 60s 85ms/step - loss: 10.1486 - val_loss: 11.4637\n",
      "Epoch 18/100\n",
      "705/705 [==============================] - 54s 77ms/step - loss: 10.1442 - val_loss: 11.3895\n",
      "Epoch 19/100\n",
      "705/705 [==============================] - 50s 72ms/step - loss: 10.0946 - val_loss: 13.9198\n",
      "Epoch 20/100\n",
      "705/705 [==============================] - 50s 71ms/step - loss: 10.0942 - val_loss: 15.1769\n",
      "Epoch 21/100\n",
      "705/705 [==============================] - 49s 70ms/step - loss: 10.0963 - val_loss: 11.7054\n",
      "Epoch 22/100\n",
      "705/705 [==============================] - 49s 70ms/step - loss: 10.0647 - val_loss: 13.9282\n",
      "Epoch 23/100\n",
      "705/705 [==============================] - 49s 70ms/step - loss: 10.0177 - val_loss: 11.1684\n",
      "Epoch 24/100\n",
      "705/705 [==============================] - 49s 69ms/step - loss: 9.9938 - val_loss: 11.3984\n",
      "Epoch 25/100\n",
      "705/705 [==============================] - 50s 70ms/step - loss: 10.0146 - val_loss: 13.1265\n",
      "Epoch 26/100\n",
      "705/705 [==============================] - 50s 71ms/step - loss: 9.9765 - val_loss: 10.9556\n",
      "Epoch 27/100\n",
      "705/705 [==============================] - 50s 71ms/step - loss: 9.9369 - val_loss: 11.5467\n",
      "Epoch 28/100\n",
      "705/705 [==============================] - 50s 70ms/step - loss: 9.9724 - val_loss: 11.6486\n",
      "Epoch 29/100\n",
      "705/705 [==============================] - 50s 71ms/step - loss: 9.9628 - val_loss: 10.9839\n",
      "Epoch 30/100\n",
      "705/705 [==============================] - 50s 71ms/step - loss: 9.8958 - val_loss: 11.3238\n",
      "Epoch 31/100\n",
      "705/705 [==============================] - 51s 72ms/step - loss: 9.9209 - val_loss: 11.9042\n",
      "Epoch 32/100\n",
      "705/705 [==============================] - 52s 74ms/step - loss: 9.9096 - val_loss: 11.0299\n",
      "Epoch 33/100\n",
      "705/705 [==============================] - 49s 69ms/step - loss: 9.8602 - val_loss: 11.1910\n",
      "Epoch 34/100\n",
      "705/705 [==============================] - 49s 70ms/step - loss: 9.8349 - val_loss: 11.6702\n",
      "Epoch 35/100\n",
      "705/705 [==============================] - 49s 70ms/step - loss: 9.9106 - val_loss: 12.4546\n",
      "Epoch 36/100\n",
      "705/705 [==============================] - 51s 73ms/step - loss: 9.8863 - val_loss: 10.9009\n",
      "Epoch 37/100\n",
      "705/705 [==============================] - 54s 76ms/step - loss: 9.8226 - val_loss: 11.1845\n",
      "Epoch 38/100\n",
      "705/705 [==============================] - 54s 76ms/step - loss: 9.8187 - val_loss: 11.0319\n",
      "Epoch 39/100\n",
      "705/705 [==============================] - 51s 73ms/step - loss: 9.8073 - val_loss: 11.1062\n",
      "Epoch 40/100\n",
      "705/705 [==============================] - 49s 70ms/step - loss: 9.8114 - val_loss: 14.4558\n",
      "Epoch 41/100\n",
      "705/705 [==============================] - 51s 72ms/step - loss: 9.9920 - val_loss: 11.0093\n",
      "Epoch 42/100\n",
      "705/705 [==============================] - 51s 72ms/step - loss: 9.7781 - val_loss: 11.1058\n",
      "Epoch 43/100\n",
      "705/705 [==============================] - 51s 73ms/step - loss: 9.8070 - val_loss: 10.9376\n",
      "Epoch 44/100\n",
      "705/705 [==============================] - 51s 72ms/step - loss: 9.7633 - val_loss: 10.9594\n",
      "Epoch 45/100\n",
      "705/705 [==============================] - 51s 72ms/step - loss: 9.7528 - val_loss: 11.1484\n",
      "Epoch 46/100\n",
      "705/705 [==============================] - 50s 71ms/step - loss: 9.7574 - val_loss: 11.9464\n"
     ]
    },
    {
     "data": {
      "text/plain": [
       "<tensorflow.python.keras.callbacks.History at 0x7fbf3ed7d8e0>"
      ]
     },
     "execution_count": 35,
     "metadata": {},
     "output_type": "execute_result"
    }
   ],
   "source": [
    "model_dense.fit(slider_train_0_stream, slider_train_0_stream, batch_size = 512, epochs = 100, callbacks=[checkpoint, early_stopping], validation_split = 0.3)"
   ]
  },
  {
   "cell_type": "code",
   "execution_count": 36,
   "metadata": {},
   "outputs": [],
   "source": [
    "pred_slider_test_0 = model_dense.predict(slider_test_0_stream)"
   ]
  },
  {
   "cell_type": "code",
   "execution_count": 69,
   "metadata": {},
   "outputs": [
    {
     "data": {
      "text/plain": [
       "array([19.31931867, 23.49917613, 14.38493138, 17.17394456, 15.45670861,\n",
       "       18.45237837, 16.65653549, 16.31325944, 11.03649895, 13.49018726,\n",
       "       11.27843476, 10.40334435,  9.72854358, 10.13685927, 10.38706945,\n",
       "       13.10324089, 19.18666257, 17.1174159 , 22.23435453, 18.08115162,\n",
       "       22.05358242, 16.63474784, 16.94220655, 15.51759329, 14.77410378,\n",
       "       17.04671585, 24.16336217, 16.52484383, 21.6655371 , 16.42042262,\n",
       "       13.5149113 , 15.20903671,  9.79451557, 10.47027735,  9.68264241,\n",
       "       10.57088434,  9.8570426 , 21.60568361, 18.24955925,  9.81545644,\n",
       "       10.94094812, 10.60389081, 16.31434881, 22.77152405, 20.50393371,\n",
       "       18.24951553, 23.7594558 , 14.95280222, 17.74933952, 14.48242325,\n",
       "       19.19761702, 23.35980972, 15.91786914, 25.54916339, 17.07423006,\n",
       "       15.89347603, 23.29657122, 22.32816468, 22.90328512, 10.91875074,\n",
       "       12.18632627, 10.09801508, 10.16044477,  9.99673594, 13.00598908,\n",
       "       10.55012989,  9.9158505 ,  9.77054245,  9.65621263, 15.46705409,\n",
       "       21.93466393, 17.98948343, 23.54611371, 26.32690558, 14.09207476,\n",
       "       15.5327791 , 15.44163095, 25.51224628, 14.56195984, 16.36507038,\n",
       "       17.08194319, 15.60439659, 16.32313754, 17.84558052, 17.38241611,\n",
       "       18.82618405,  9.76397011,  9.77299886, 11.76509357,  9.67525283,\n",
       "       15.03619088,  9.89272127, 10.30780026,  9.63564536, 15.82647264,\n",
       "       16.83735851, 14.43204144, 19.92338664, 15.41067657, 15.08261011,\n",
       "       14.16837254, 23.00344925, 18.53505549, 13.74164313, 17.99101447,\n",
       "       15.84339402, 14.59039826, 21.16848652, 14.03657417, 16.98790656,\n",
       "       18.51306674, 18.34717591, 14.56920439, 12.8916306 ,  9.72918361,\n",
       "       14.9801115 , 10.59498337, 10.05244636, 10.39725297, 17.49205551,\n",
       "       16.15897485, 23.90970568, 16.02690714, 14.51074176, 15.98108012,\n",
       "       15.34337148, 14.49011287, 15.0839342 , 18.0287524 , 20.6245748 ,\n",
       "       18.0153971 , 15.19912564, 15.84424202, 14.36736417, 23.53126281,\n",
       "       23.61539905, 16.81840189, 21.47845912, 20.77006066, 19.94941713,\n",
       "       17.4458994 ,  9.77740687, 15.17984845,  9.57632381, 11.49822918,\n",
       "       21.21978379, 15.43685142, 16.96434594, 19.86413142, 14.07592808,\n",
       "       16.9863234 , 15.46955274, 15.19799127, 14.05304763, 15.62311719,\n",
       "       12.72320119, 16.19124866, 20.97438292, 20.54740078, 13.10708602,\n",
       "       15.16732138, 17.11467891, 16.41405142, 15.57259553, 18.51722395,\n",
       "       16.88337463, 16.84131718,  9.72477463,  9.56396302, 11.97217482,\n",
       "       16.78332549, 16.1266172 , 14.32039665, 15.12687506, 14.71862409,\n",
       "       12.19958862, 18.15769351, 16.50088764, 18.21473564, 23.89824598,\n",
       "       15.39764094, 15.59441923, 21.26698203, 16.40338389, 16.43468235,\n",
       "       20.10071052, 20.25868716, 14.60185827, 14.8295165 , 15.13443866,\n",
       "       23.20881852, 18.59238955, 18.28555573, 10.27606701, 11.09200003,\n",
       "       11.22353721,  9.87037087, 12.54194379, 10.22151244, 16.17806406,\n",
       "       17.19699083, 15.10200233, 14.36205471, 22.36717032, 12.75624423,\n",
       "       20.07394418, 13.67162492, 16.37141139, 19.6086208 , 19.51686034,\n",
       "       18.71082625, 14.25478449, 14.33047014, 20.77848048, 17.14188728,\n",
       "       24.5041306 , 16.33079814, 16.43526722, 15.46535338, 13.11963495,\n",
       "       18.95319245, 15.42114954, 15.8820754 , 16.29343446, 11.91114032,\n",
       "        9.50219388, 13.09611642, 11.75801214,  9.83032066, 10.08640721,\n",
       "       14.02236619, 20.67949069, 17.40237341, 16.86133614, 18.63438948,\n",
       "       17.48981613, 12.67073746, 15.35167217, 18.57728582, 17.77038696,\n",
       "       14.52159878, 16.42313295, 16.49036152, 14.49534372, 15.79130048,\n",
       "       24.09645389, 17.37861852, 15.46577461, 15.93357826, 14.07193079,\n",
       "       18.57111185, 16.54816319, 23.05151877, 22.16374783, 22.21775524,\n",
       "       15.4704095 , 17.76878581, 21.80820027,  9.69332405, 12.87286517,\n",
       "       10.6357019 ,  9.75443595, 16.79874453, 14.89423956, 18.62396122,\n",
       "       17.8200811 , 13.93630006, 17.95900948, 20.48515141, 13.19126199,\n",
       "       17.51823156, 23.78569036, 22.85035225, 16.42078455, 14.25102075,\n",
       "       17.47578733, 18.06359785, 15.75375414, 22.71480832, 15.36893088,\n",
       "       22.1419625 , 13.75154734, 17.27804197, 13.89230178, 18.06513388,\n",
       "       15.5194967 , 21.81865567, 15.8892971 , 15.59026777, 14.26633751,\n",
       "       10.8690864 ,  9.60294457,  9.56050658, 10.6344817 , 17.33447751,\n",
       "       18.46847675, 16.14724651, 13.93635301, 14.98281822, 16.26533906,\n",
       "       15.92379862, 23.0062483 , 17.53210284, 23.90471525, 16.55215164,\n",
       "       21.46591931, 14.92778051, 22.94005648, 16.51672217, 23.5638005 ,\n",
       "       17.51002743, 22.65340317, 17.30439359, 18.50056406, 14.90972046,\n",
       "       22.7492326 , 13.46636631, 17.70562889, 18.42452638, 18.73818715,\n",
       "       17.25927598, 15.82379179,  9.88574531, 10.91838039, 10.49582485,\n",
       "       10.47988464, 12.83617145, 10.1193836 , 17.70178716, 12.1811323 ,\n",
       "       18.27562484, 18.41063026, 15.09941922, 16.6700228 , 17.36971662,\n",
       "       16.34759716, 15.36191312, 13.83254413, 16.18947551, 15.54959665,\n",
       "       15.37739342, 13.9927786 , 18.36008116, 17.81094232, 16.74131737,\n",
       "       17.66944118, 22.45558773, 14.47870462, 14.68702963, 14.34107043,\n",
       "       12.55686659, 12.92330488, 16.82206767, 15.74203757,  9.90378643,\n",
       "       12.38936238, 11.14681722,  9.69749968,  9.5900997 , 10.8925491 ,\n",
       "       17.22968924, 12.70651155, 15.6119605 , 15.10467713, 23.25490491,\n",
       "       14.37981138, 16.55072894, 16.81331272, 18.28435719, 23.00537612,\n",
       "       24.41402625, 18.47207133, 15.90397628, 15.28951915, 15.14650211,\n",
       "       19.85773228, 15.6973067 , 15.99862016, 20.35538494, 24.34031478,\n",
       "       16.9741272 , 13.66443391, 16.50262857, 10.99016215, 10.55051835,\n",
       "        9.59373509, 10.3960735 , 14.04231617,  9.99803177, 15.23260594,\n",
       "       25.59329611, 11.75393085, 24.33093444, 16.75487246, 18.77978731,\n",
       "       14.07555121, 21.94582842, 15.41413991, 17.54254655, 24.31693468,\n",
       "       17.78286017, 13.89089048, 17.44062494, 23.02144148, 23.80756769,\n",
       "       14.7008851 , 24.06840026, 20.83348536, 19.00469003, 19.67054972,\n",
       "       19.34610615, 16.27865215,  9.77384611,  9.5003845 ,  9.49607802,\n",
       "        9.78193281, 10.39319112, 15.52891349, 11.96091209, 22.54236213,\n",
       "       17.60212005, 14.31892512, 15.81322574, 20.66236792, 15.34382458,\n",
       "       24.76097144, 15.8919359 , 13.80188784, 20.61690554, 15.38368646,\n",
       "       20.82435637, 21.22085501, 12.81542121, 14.97943269, 18.55485373,\n",
       "       16.63202283, 14.40958383, 15.99392555, 11.74920044, 23.17940146,\n",
       "       10.66607298, 14.49070378, 14.3893076 ,  9.77035405, 14.03972219,\n",
       "       10.4302251 , 23.34310713, 16.52980733, 14.05820617, 24.09844229,\n",
       "       15.20316916, 15.9991156 , 21.06172988, 16.73657151, 14.84874101,\n",
       "       18.48329545])"
      ]
     },
     "execution_count": 69,
     "metadata": {},
     "output_type": "execute_result"
    }
   ],
   "source": [
    "errors = np.mean(np.square(slider_test_0_stream - pred_slider_test_0), axis=1)\n",
    "\n",
    "error_file = np.zeros(len(slider_test_0))\n",
    "for k in range(len(slider_test_0)):\n",
    "    error_file[k] = np.mean(errors[k*nb_extract : (k+1)*nb_extract])\n",
    "    \n",
    "error_file"
   ]
  },
  {
   "cell_type": "code",
   "execution_count": 70,
   "metadata": {},
   "outputs": [
    {
     "data": {
      "text/plain": [
       "10680    1\n",
       "10681    1\n",
       "10689    1\n",
       "10690    1\n",
       "10692    1\n",
       "        ..\n",
       "11956    1\n",
       "11957    1\n",
       "11958    1\n",
       "11964    1\n",
       "11965    1\n",
       "Name: Status, Length: 456, dtype: int64"
      ]
     },
     "execution_count": 70,
     "metadata": {},
     "output_type": "execute_result"
    }
   ],
   "source": [
    "y_true = slider_test_0['Status'].replace(['normal', 'anomaly'], [0,1])\n",
    "\n",
    "y_true"
   ]
  },
  {
   "cell_type": "code",
   "execution_count": 90,
   "metadata": {},
   "outputs": [
    {
     "data": {
      "text/html": [
       "<div>\n",
       "<style scoped>\n",
       "    .dataframe tbody tr th:only-of-type {\n",
       "        vertical-align: middle;\n",
       "    }\n",
       "\n",
       "    .dataframe tbody tr th {\n",
       "        vertical-align: top;\n",
       "    }\n",
       "\n",
       "    .dataframe thead th {\n",
       "        text-align: right;\n",
       "    }\n",
       "</style>\n",
       "<table border=\"1\" class=\"dataframe\">\n",
       "  <thead>\n",
       "    <tr style=\"text-align: right;\">\n",
       "      <th>Classe prédite</th>\n",
       "      <th>0</th>\n",
       "      <th>1</th>\n",
       "    </tr>\n",
       "    <tr>\n",
       "      <th>Classe réelle</th>\n",
       "      <th></th>\n",
       "      <th></th>\n",
       "    </tr>\n",
       "  </thead>\n",
       "  <tbody>\n",
       "    <tr>\n",
       "      <th>0</th>\n",
       "      <td>80</td>\n",
       "      <td>20</td>\n",
       "    </tr>\n",
       "    <tr>\n",
       "      <th>1</th>\n",
       "      <td>2</td>\n",
       "      <td>354</td>\n",
       "    </tr>\n",
       "  </tbody>\n",
       "</table>\n",
       "</div>"
      ],
      "text/plain": [
       "Classe prédite   0    1\n",
       "Classe réelle          \n",
       "0               80   20\n",
       "1                2  354"
      ]
     },
     "execution_count": 90,
     "metadata": {},
     "output_type": "execute_result"
    }
   ],
   "source": [
    "seuil = 12 # valeur à déterminer\n",
    "\n",
    "y_pred = np.where(error_file[:] > seuil, 1, 0)\n",
    "\n",
    "pd.crosstab(y_true, y_pred, rownames=['Classe réelle'], colnames=['Classe prédite'])"
   ]
  },
  {
   "cell_type": "code",
   "execution_count": 91,
   "metadata": {},
   "outputs": [
    {
     "name": "stdout",
     "output_type": "stream",
     "text": [
      "              precision    recall  f1-score   support\n",
      "\n",
      "           0       0.98      0.80      0.88       100\n",
      "           1       0.95      0.99      0.97       356\n",
      "\n",
      "    accuracy                           0.95       456\n",
      "   macro avg       0.96      0.90      0.92       456\n",
      "weighted avg       0.95      0.95      0.95       456\n",
      "\n"
     ]
    }
   ],
   "source": [
    "from sklearn.metrics import classification_report\n",
    "\n",
    "print(classification_report(y_true, y_pred))\n"
   ]
  },
  {
   "cell_type": "code",
   "execution_count": 80,
   "metadata": {},
   "outputs": [
    {
     "data": {
      "image/png": "[encoded data removed]",
      "text/plain": [
       "<Figure size 432x288 with 1 Axes>"
      ]
     },
     "metadata": {
      "needs_background": "light"
     },
     "output_type": "display_data"
    }
   ],
   "source": [
    "fpr, tpr, seuils = roc_curve(y_true, error_file, pos_label = 1)\n",
    "\n",
    "roc_auc = auc(fpr, tpr)\n",
    "\n",
    "plt.plot(fpr, tpr, 'orange', label = 'Modèle dense (auc = %0.2f)' % roc_auc)\n",
    "plt.title('Courbe ROC')\n",
    "plt.xlabel('Taux faux positifs')\n",
    "plt.ylabel('Taux vrais positifs')\n",
    "plt.xlim(0,1)\n",
    "plt.ylim(0,1.05)\n",
    "\n",
    "\n",
    "plt.plot(fpr, fpr, 'b--', label = 'Aléatoire (aux = 0.5)')\n",
    "\n",
    "plt.legend(loc = 'lower right');\n",
    "\n",
    "plt.show();"
   ]
  },
  {
   "cell_type": "code",
   "execution_count": 84,
   "metadata": {},
   "outputs": [
    {
     "data": {
      "text/plain": [
       "array([10.41874518,  9.67987502,  9.84273282, 10.14673073, 10.61813785,\n",
       "        9.80382818,  9.5702239 , 11.63250501, 11.05223922, 10.09907914,\n",
       "        9.73098589,  9.5731542 ,  9.85688314, 11.1293661 ,  9.63391668,\n",
       "        9.59436843,  9.8976356 , 10.05935235,  9.90310222,  9.74289131,\n",
       "        9.63203317,  9.41626249,  9.57059166,  9.86157955, 10.3506773 ,\n",
       "        9.70537202,  9.61294249, 10.81393879,  9.9787838 , 10.34003246,\n",
       "        9.85525039, 10.39638553, 11.79943542, 14.06646473,  9.75218268,\n",
       "        9.39567932,  9.79735027,  9.87002139,  9.74457331,  9.5773225 ,\n",
       "        9.54230187,  9.92619977, 10.04392531,  9.74168545, 10.58578757,\n",
       "        9.55263398, 10.31900818, 10.28901733,  9.93269059,  9.56686236,\n",
       "       10.69666066,  9.46300597,  9.63829225, 10.04222375,  9.85433937,\n",
       "        9.86116592, 10.63115002,  9.37560873,  9.65388279,  9.92227575,\n",
       "        9.88228238,  9.52941716, 10.57799326, 10.0326934 , 10.42993069,\n",
       "        9.79335315, 10.04489954,  9.83179692,  9.43051291, 10.28687854,\n",
       "        9.31871558,  9.71583554, 10.55208766, 10.14184564,  9.68517145,\n",
       "       10.37404089,  9.68842611,  9.70860462,  9.64659007,  9.7485586 ,\n",
       "       10.2195925 ,  9.63057864, 10.62876834, 10.12898817,  9.85079906,\n",
       "        9.24527811, 12.2328129 , 10.95274968,  9.99394803,  9.38252783,\n",
       "       10.09281742, 10.58609176, 10.42088317,  9.57590371,  9.74752916,\n",
       "       10.10222949,  9.73545281, 10.49342306,  9.45615594, 10.10036566,\n",
       "       10.28005927,  9.63714847, 11.13008476, 10.45921718,  9.72033722,\n",
       "        9.9193929 ,  9.76329621,  9.9850188 ,  9.87213001,  9.71185297,\n",
       "        9.72921943,  9.49155741,  9.94431453,  9.67153277,  9.99193589,\n",
       "       10.11710042,  9.65091945,  9.71672153,  9.87674778, 10.78678551,\n",
       "        9.7849321 ,  9.74839106,  9.85525356, 11.55102383,  9.73101048,\n",
       "       10.03734074, 10.49074189,  9.74942876, 11.05567192,  9.75910589,\n",
       "       10.30215946,  9.48363352, 10.95862393, 10.04076129,  9.63380068,\n",
       "        9.41447015,  9.69252202, 10.18828654, 10.33983732, 10.70086529,\n",
       "       10.0034918 ,  9.575047  , 10.26312099,  9.89627038, 10.77348012,\n",
       "       10.22447381, 10.45351273, 11.78162694, 10.29697949, 10.24415431,\n",
       "       10.28576823,  9.60461133, 10.06688817,  9.78651396, 10.16416971,\n",
       "        9.40773127, 10.34435484, 10.19787533, 10.256268  , 10.17231137,\n",
       "        9.31896719,  9.66806402,  9.88067609,  9.54911213,  9.64918052,\n",
       "        9.78303967,  9.6116566 , 10.03350801,  9.94921657, 11.3445621 ,\n",
       "       10.13815277, 10.08373101,  9.74485566, 11.08694554, 10.15981689,\n",
       "        9.74675483, 11.29838721, 10.62219019,  9.80365798, 11.98882863,\n",
       "        9.52319009, 10.31795634,  9.86937123,  9.15547073, 10.5045659 ,\n",
       "       10.30245991,  9.66335586,  9.8361058 ,  9.70838009, 10.36789963,\n",
       "        9.63250894, 11.02860306, 11.23268769,  9.78666853,  9.53830122,\n",
       "        9.67031986,  9.6328469 ,  9.67274792, 10.12608832,  9.57056104,\n",
       "       10.18658415,  9.74503909,  9.58926489, 10.4150668 ,  9.4782681 ,\n",
       "        9.5999641 ,  9.74717046, 10.7619795 ,  9.79653804, 10.51064919,\n",
       "       10.14882946, 11.39394286, 10.36161743,  9.92065525, 10.50707303,\n",
       "       10.50275911,  9.69343449, 10.12719896, 10.25728114,  9.72551747,\n",
       "       10.57583773, 10.06531018,  9.70227944,  9.59743338,  9.87273724,\n",
       "       11.55165762,  9.88736467,  9.53378472, 10.08589885, 10.01189919,\n",
       "        9.81873869, 11.16555982,  9.92814665, 10.16177385, 10.47434831,\n",
       "       10.68192598, 10.25090465,  9.66588421,  9.70171641,  9.41975391,\n",
       "        9.91588796,  9.72183943,  9.67109166,  9.98947832,  9.9445799 ,\n",
       "       10.30940882,  9.45229455, 10.03525919,  9.82008862,  9.96423358,\n",
       "       10.67783188, 10.84986873,  9.61790983, 10.56363134,  9.63793779,\n",
       "        9.60494041,  9.35391893,  9.92151497,  9.38168079,  9.82652381,\n",
       "        9.85137621,  9.66935127,  9.84202428, 10.04516914,  9.67312909,\n",
       "       10.63069131,  9.67332331,  9.22977792,  9.48124077,  9.87865306,\n",
       "       11.44842529,  9.7112003 , 11.05437465,  9.78591433, 10.01900793,\n",
       "       11.40522844,  9.50827915,  9.57271853,  9.7046153 , 10.05713899,\n",
       "        9.61587805, 11.35703209,  9.73692956,  9.74381237,  9.82968362,\n",
       "       10.67912716,  9.50357086,  9.57990149, 10.3158655 ,  9.47908757,\n",
       "       10.02269748, 10.01104739,  9.68897678, 10.30688247,  9.77858939,\n",
       "        9.59906535,  9.6861168 ,  9.83675789,  9.81547176, 10.74504408,\n",
       "       10.49255962, 10.34286743,  9.81801862,  9.71567956,  9.76809705,\n",
       "        9.58326847, 10.03799425, 10.16121722, 10.76984608,  9.85876441,\n",
       "        9.689431  ,  9.67140232, 10.80356009,  9.64021589,  9.6672088 ,\n",
       "       10.57181006, 10.40618059,  9.71378341,  9.7862526 ,  9.83675352,\n",
       "        9.89381631, 10.10454759, 10.58873408,  9.62437608, 10.54877915,\n",
       "        9.73357   , 10.20409609, 10.32523896,  9.61694308,  9.43280538,\n",
       "        9.39523242, 10.20249447,  9.44362768,  9.75013716,  9.64577681,\n",
       "        9.9203024 ,  9.95619995, 10.21237714, 10.04284503, 11.19791315,\n",
       "        9.63164951,  9.58630393,  9.59192535,  9.51107022, 10.75412092,\n",
       "        9.90392742,  9.67304235,  9.73895053,  9.51184829,  9.76898172,\n",
       "        9.77229865,  9.6394645 ,  9.55109196, 10.28901695, 10.05415396,\n",
       "        9.61292295,  9.73308381,  9.97575603, 10.27917915,  9.7716819 ,\n",
       "       11.4359983 , 10.39804591,  9.67331467, 10.07490623, 10.27352011,\n",
       "        9.62616936,  9.76363247, 10.68748785, 10.5190334 , 10.13918019,\n",
       "        9.65677687,  9.81462669,  9.74989317,  9.52724531, 11.02973718,\n",
       "       11.46763757,  9.79835715,  9.86858014,  9.9236337 ,  9.35620886,\n",
       "        9.99664481, 10.84551932, 10.64675801, 10.29212497,  9.76685665,\n",
       "        9.77130701,  9.85356419,  9.74591319, 10.4951412 , 11.4552948 ,\n",
       "        9.88691277, 10.13092891,  9.98614238, 10.7233559 , 11.31259136,\n",
       "        9.67598352, 10.10059901,  9.57934656,  9.85625655,  9.92859415,\n",
       "       10.04623756, 10.78967692, 10.47477839,  9.73463149,  9.77478611,\n",
       "       10.28849034, 10.34135585,  9.85683167,  9.91672254,  9.71195194,\n",
       "        9.48490851,  9.69639703, 10.22558017,  9.80646475,  9.82268281,\n",
       "        9.78426043, 11.80739086,  9.84520753, 10.56346764,  9.91584421,\n",
       "       10.21171042,  9.92277026,  9.65026297,  9.94773367,  9.42895788,\n",
       "       10.56007076,  9.85771867,  9.84258064, 10.62014094,  9.77039951,\n",
       "       10.35265616,  9.56264755, 10.28369797, 10.4587756 ,  9.64112652,\n",
       "        9.65735351, 10.6561765 ,  9.43370779, 10.2199538 , 10.09067941,\n",
       "       10.34467221,  9.50621321, 10.02603696,  9.70359483, 10.14968835,\n",
       "        9.63263426,  9.7961429 , 10.33665194,  9.6919735 , 10.81741698,\n",
       "       10.86147818,  9.60582545,  9.9598792 ,  9.96372804,  9.78098987,\n",
       "       10.26687969,  9.6222829 ,  9.93616766, 10.29437559,  9.59274836,\n",
       "        9.78638646, 10.16067177,  9.59129611,  9.77261966,  9.48991556,\n",
       "       10.69119399,  9.62308048,  9.9797319 ,  9.87723939,  9.61044826,\n",
       "       10.34849802, 10.47141124,  9.83091816,  9.64336394, 10.12886831,\n",
       "        9.78193241, 10.95542648,  9.46644845,  9.61576002, 10.08018038,\n",
       "       11.16037014, 10.85963844, 10.18135608,  9.79240867,  9.87218246,\n",
       "        9.84750738,  9.73416421, 10.09925356,  9.83669865,  9.84430982,\n",
       "        9.73677449, 10.37921738, 10.88878491, 10.41008629,  9.80107398,\n",
       "        9.96663743,  9.82273222,  9.95039309,  9.67125966, 10.26824611,\n",
       "        9.91493518, 10.34820043, 10.9418767 ,  9.65025847,  9.58355011,\n",
       "       10.22322531,  9.96818223,  9.77988036, 11.3341002 ,  9.68264987,\n",
       "       10.54279236, 10.07781632,  9.62006674,  9.67788993,  9.84971615,\n",
       "       10.1373863 , 10.03465063,  9.60907012, 10.19847834,  9.85170083,\n",
       "       10.09263707,  9.91324447, 10.37767888,  9.66960122, 10.15803144,\n",
       "        9.59049518,  9.99314681,  9.67916969,  9.89424032, 10.016803  ,\n",
       "       10.00022136, 10.25403839, 10.66096418, 10.14665405, 11.03511652,\n",
       "        9.62413734,  9.75470883,  9.76555626, 10.43076618, 10.01310586,\n",
       "        9.49405804, 10.43784408, 10.06254977, 10.54774483, 10.38267156,\n",
       "       10.06061462, 11.22228312, 10.53700966, 10.34630688, 10.02248775,\n",
       "        9.44220766,  9.68181432,  9.904445  , 10.06637633,  9.6525072 ,\n",
       "        9.98382181,  9.40599028,  9.71128329, 10.33161893,  9.63411753,\n",
       "        9.41386674, 10.80476776, 10.69409382,  9.99921227, 10.08521729,\n",
       "       10.33389433,  9.90184234, 10.14123969, 11.01433452, 10.06148859,\n",
       "        9.99670798, 10.2078356 ,  9.90355314, 10.64809708,  9.91805171,\n",
       "       10.10853961,  9.49867605,  9.77940014, 10.15801288, 10.53775994,\n",
       "       10.05661731,  9.95029282,  9.71017819, 10.25543874, 10.31769662,\n",
       "        9.52941169, 10.19838474,  9.68569594, 10.4072094 ,  9.75313946,\n",
       "       10.09093342,  9.86394618,  9.70083737, 10.06840792,  9.52476851,\n",
       "       10.08236121,  9.88240903,  9.72425126, 10.08131753,  9.20539833,\n",
       "       10.12586249, 10.51525647,  9.8204225 , 10.47418531,  9.73226356,\n",
       "        9.42749812, 10.7170053 , 10.11413544,  9.51995204,  9.71746575,\n",
       "        9.76995307, 10.57867906,  9.5774768 ,  9.69649173, 10.41561285,\n",
       "        9.61459893,  9.46999599, 10.44128959,  9.46366   ,  9.57860716,\n",
       "        9.82744568,  9.71433151,  9.86436995, 10.91757558, 10.52431462,\n",
       "       10.01710217, 10.21216337, 10.08132912, 10.04798196,  9.88058418,\n",
       "       10.88961807,  9.72013351, 10.05628143,  9.78292439, 11.06215922,\n",
       "        9.80613427,  9.51516111, 10.11541012,  9.92851556,  9.7911118 ,\n",
       "        9.7373635 ,  9.8684664 , 10.03465619,  9.68223918,  9.81466358,\n",
       "        9.72500539,  9.91601718, 10.04290699,  9.78215017,  9.72985115,\n",
       "        9.70223279,  9.52046457,  9.77316877,  9.74057006, 10.07438383,\n",
       "        9.60920702,  9.18519157,  9.85281776, 10.3407228 , 11.15470198,\n",
       "       10.382238  ,  9.88618242, 10.03355427, 10.58320265,  9.68888718,\n",
       "       10.82793856,  9.74022124, 10.79212663, 13.57837804, 10.05647706,\n",
       "       10.0378463 ,  9.78928003, 10.322842  , 10.26604327, 11.10545237,\n",
       "        9.674758  , 11.30243093,  9.54596822,  9.74450624,  9.69879604,\n",
       "       10.73940695,  9.90697224, 10.55889911, 10.08421085, 12.58966487,\n",
       "       10.54412367,  9.8040273 ,  9.58447916, 12.33676427, 10.04960433,\n",
       "        9.56480971, 10.47724552, 11.09149154, 11.21167299,  9.89812544,\n",
       "       10.70178853, 11.33978561, 10.98402569, 12.39805396, 10.65009189,\n",
       "       10.3058443 , 10.45130435,  9.55586589,  9.89300437, 10.1222387 ,\n",
       "        9.80312969, 12.29150548,  9.81019677,  9.89548432,  9.75382516,\n",
       "        9.8524723 ,  9.84170348, 12.64277555, 10.22490219, 10.49313116,\n",
       "       10.33959471, 11.35225297, 10.2542897 , 10.96193595, 10.217161  ,\n",
       "        9.73468874,  9.89869199, 10.62213833, 10.26540972,  9.77170884,\n",
       "        9.930272  ,  9.58248886, 10.84643771, 11.68049483, 10.16184377,\n",
       "       12.36141796,  9.81591369, 10.48362594, 11.94145555, 10.45347686,\n",
       "       16.79682911, 10.02635154, 10.61434649, 13.59720531,  9.80615257,\n",
       "       10.00739886, 10.70942923, 14.75275622, 10.34622311,  9.87918117,\n",
       "        9.95986052, 11.0873454 , 15.99710145, 10.59701549, 11.5618146 ,\n",
       "       10.79669248, 13.49794154,  9.60245115, 10.09718903, 11.96810675,\n",
       "       11.67270457, 12.42621882, 10.18905454, 10.07859073, 11.43763048,\n",
       "       12.70540776, 12.08167204, 10.59666628, 10.74107331, 13.10997786,\n",
       "       13.00387154, 10.03323038, 10.16109315,  9.77191946,  9.82550292,\n",
       "       10.50447397, 13.41639254, 11.70161806, 10.11873406,  9.64005528,\n",
       "       10.79524511,  9.79506548, 11.73356592, 10.77348684, 10.41837892,\n",
       "        9.99566737, 10.63735812, 10.90521769, 11.92517189,  9.81315046,\n",
       "       10.21533485, 10.55063656, 11.09122641, 10.18484727,  9.75087396,\n",
       "       13.84754078, 12.69101487,  9.60779657,  9.6450994 , 10.51020276,\n",
       "       10.96235726,  9.99366495, 10.140346  , 10.48401513, 11.49353622,\n",
       "       10.99976096, 10.13506621,  9.50809842, 11.43252695, 11.47426295,\n",
       "       13.74891709, 10.22282974, 12.29852533, 10.35303968, 11.64185004,\n",
       "       10.28231472,  9.68935295,  9.75833247, 10.44431764, 10.33724207,\n",
       "        9.63368153, 12.76452241, 13.57612318, 14.73427665, 11.70621268,\n",
       "        9.68983245, 10.02712335, 10.62438188, 10.41454474, 12.10166577,\n",
       "        9.90103363, 10.23472376, 10.28754007, 12.52532699, 15.20191155,\n",
       "       10.38741966, 10.40068039, 11.3802513 , 10.525397  ,  9.74570654,\n",
       "        9.65533554,  9.63784448, 12.12773496, 13.04982805,  9.77232759,\n",
       "       10.43971481, 10.65710212, 10.65203719, 17.1340848 , 11.00373231,\n",
       "        9.84267975, 11.16550161, 13.30710401, 11.23444789, 10.5995095 ,\n",
       "       10.82522701,  9.92481603, 12.15943433,  9.49636352,  9.55477952,\n",
       "        9.8345505 , 11.37216985,  9.78219885, 10.21531659, 12.16289784,\n",
       "        9.64487676,  9.92840534, 12.13968433, 10.85920363, 10.63353101,\n",
       "       10.68317128,  9.62933454, 12.00766467, 12.11649623,  9.83796338,\n",
       "        9.83282026, 10.55999958,  9.95732008,  9.79452542,  9.70879412,\n",
       "        9.6477652 , 13.92934895, 10.18993321, 10.35374813,  9.96370643,\n",
       "        9.61217216, 10.99820247, 11.7899997 ,  9.77351412, 10.65419583,\n",
       "       10.77156256, 17.34759677, 10.96578586,  9.49277172, 10.27121752,\n",
       "       13.14458591,  9.75993642,  9.72639281, 12.96167228,  9.36927788,\n",
       "        9.57235565,  9.81041819,  9.8314346 ,  9.74798752, 10.34749604,\n",
       "        9.83757283,  9.95557147, 11.2122219 , 11.59977867,  9.56709066,\n",
       "       12.50884282, 13.05885   , 15.84715444, 10.53716856,  9.76256797,\n",
       "        9.79419007, 11.34840335, 11.6100484 , 10.0042087 , 13.42711304,\n",
       "       12.98336364, 11.48631786, 10.02690451,  9.90268022, 11.40433109,\n",
       "       10.85820167, 11.60990049,  9.52113145, 10.52115233, 10.57676904,\n",
       "        9.81032426,  9.7315768 ,  9.66340705, 10.74509468, 10.07031802,\n",
       "        9.88608052, 10.05694459,  9.92765536, 11.41180393, 13.55198968,\n",
       "        9.83038502, 10.50035141, 14.76002493,  9.94386438,  9.84038741,\n",
       "       14.5407211 , 10.36613056,  9.99566081, 11.44990068,  9.85331004,\n",
       "        9.77215156, 10.700276  , 11.4137549 , 10.10661796,  9.67810948,\n",
       "       10.23372615, 10.95685379, 10.65721155, 10.31401724, 13.26452507,\n",
       "       13.33249353, 15.53751487, 11.84907775, 10.68475064,  9.57072806,\n",
       "        9.61917422, 10.15202706,  9.83380927,  9.68082713, 10.00572014,\n",
       "        9.82592533, 16.17842749,  9.81981775])"
      ]
     },
     "execution_count": 84,
     "metadata": {},
     "output_type": "execute_result"
    }
   ],
   "source": [
    "pred_slider_train_0 = model_dense.predict(slider_train_0_stream)\n",
    "\n",
    "errors_train = np.mean(np.square(slider_train_0_stream - pred_slider_train_0), axis=1)\n",
    "\n",
    "error_file_train = np.zeros(len(slider_train_0))\n",
    "for k in range(len(slider_train_0)):\n",
    "    error_file_train[k] = np.mean(errors_train[k*nb_extract : (k+1)*nb_extract])\n",
    "    \n",
    "error_file_train\n",
    "\n"
   ]
  },
  {
   "cell_type": "code",
   "execution_count": 88,
   "metadata": {},
   "outputs": [
    {
     "data": {
      "text/plain": [
       "(10.303473009057187, 0.9947104988861228)"
      ]
     },
     "execution_count": 88,
     "metadata": {},
     "output_type": "execute_result"
    }
   ],
   "source": [
    "np.mean(error_file_train), np.std(error_file_train)\n",
    "\n",
    "# Donc un seuil autour de 11.3 est bien pour trouver les prises de sons anormales détectées par le modèle"
   ]
  },
  {
   "cell_type": "code",
   "execution_count": null,
   "metadata": {},
   "outputs": [],
   "source": []
  }
 ],
 "metadata": {
  "kernelspec": {
   "display_name": "Python 3",
   "language": "python",
   "name": "python3"
  },
  "language_info": {
   "codemirror_mode": {
    "name": "ipython",
    "version": 3
   },
   "file_extension": ".py",
   "mimetype": "text/x-python",
   "name": "python",
   "nbconvert_exporter": "python",
   "pygments_lexer": "ipython3",
   "version": "3.8.5"
  }
 },
 "nbformat": 4,
 "nbformat_minor": 4
}
