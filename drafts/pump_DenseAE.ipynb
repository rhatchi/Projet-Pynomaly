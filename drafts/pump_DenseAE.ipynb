{
 "cells": [
  {
   "cell_type": "code",
   "execution_count": 2,
   "metadata": {},
   "outputs": [
    {
     "data": {
      "text/html": [
       "<div>\n",
       "<style scoped>\n",
       "    .dataframe tbody tr th:only-of-type {\n",
       "        vertical-align: middle;\n",
       "    }\n",
       "\n",
       "    .dataframe tbody tr th {\n",
       "        vertical-align: top;\n",
       "    }\n",
       "\n",
       "    .dataframe thead th {\n",
       "        text-align: right;\n",
       "    }\n",
       "</style>\n",
       "<table border=\"1\" class=\"dataframe\">\n",
       "  <thead>\n",
       "    <tr style=\"text-align: right;\">\n",
       "      <th></th>\n",
       "      <th>Path</th>\n",
       "      <th>Machine_Type</th>\n",
       "      <th>Dataset</th>\n",
       "      <th>Status</th>\n",
       "      <th>Machine_ID</th>\n",
       "      <th>Sample_ID</th>\n",
       "      <th>nb_echantillon</th>\n",
       "      <th>freq_echantillonnage</th>\n",
       "      <th>audio</th>\n",
       "    </tr>\n",
       "  </thead>\n",
       "  <tbody>\n",
       "    <tr>\n",
       "      <th>22088</th>\n",
       "      <td>Data/pump/train/normal_id_00_00000692.wav</td>\n",
       "      <td>pump</td>\n",
       "      <td>train</td>\n",
       "      <td>normal</td>\n",
       "      <td>0</td>\n",
       "      <td>692</td>\n",
       "      <td>160000</td>\n",
       "      <td>16000</td>\n",
       "      <td>[ 0.00042725  0.0118103   0.00973511 ... -0.01...</td>\n",
       "    </tr>\n",
       "    <tr>\n",
       "      <th>22089</th>\n",
       "      <td>Data/pump/train/normal_id_06_00000093.wav</td>\n",
       "      <td>pump</td>\n",
       "      <td>train</td>\n",
       "      <td>normal</td>\n",
       "      <td>6</td>\n",
       "      <td>93</td>\n",
       "      <td>160000</td>\n",
       "      <td>16000</td>\n",
       "      <td>[-0.00543213 -0.00775146 -0.00292969 ... -0.00...</td>\n",
       "    </tr>\n",
       "    <tr>\n",
       "      <th>22090</th>\n",
       "      <td>Data/pump/train/normal_id_00_00000686.wav</td>\n",
       "      <td>pump</td>\n",
       "      <td>train</td>\n",
       "      <td>normal</td>\n",
       "      <td>0</td>\n",
       "      <td>686</td>\n",
       "      <td>160000</td>\n",
       "      <td>16000</td>\n",
       "      <td>[ 0.00271606  0.00646973  0.00375366 ...  0.00...</td>\n",
       "    </tr>\n",
       "    <tr>\n",
       "      <th>22091</th>\n",
       "      <td>Data/pump/train/normal_id_06_00000087.wav</td>\n",
       "      <td>pump</td>\n",
       "      <td>train</td>\n",
       "      <td>normal</td>\n",
       "      <td>6</td>\n",
       "      <td>87</td>\n",
       "      <td>160000</td>\n",
       "      <td>16000</td>\n",
       "      <td>[0.00985718 0.00939941 0.00210571 ... 0.008392...</td>\n",
       "    </tr>\n",
       "    <tr>\n",
       "      <th>22092</th>\n",
       "      <td>Data/pump/train/normal_id_02_00000058.wav</td>\n",
       "      <td>pump</td>\n",
       "      <td>train</td>\n",
       "      <td>normal</td>\n",
       "      <td>2</td>\n",
       "      <td>58</td>\n",
       "      <td>160000</td>\n",
       "      <td>16000</td>\n",
       "      <td>[-0.02572632 -0.02514648 -0.01828003 ...  0.01...</td>\n",
       "    </tr>\n",
       "  </tbody>\n",
       "</table>\n",
       "</div>"
      ],
      "text/plain": [
       "                                            Path Machine_Type Dataset  Status  \\\n",
       "22088  Data/pump/train/normal_id_00_00000692.wav         pump   train  normal   \n",
       "22089  Data/pump/train/normal_id_06_00000093.wav         pump   train  normal   \n",
       "22090  Data/pump/train/normal_id_00_00000686.wav         pump   train  normal   \n",
       "22091  Data/pump/train/normal_id_06_00000087.wav         pump   train  normal   \n",
       "22092  Data/pump/train/normal_id_02_00000058.wav         pump   train  normal   \n",
       "\n",
       "       Machine_ID  Sample_ID  nb_echantillon  freq_echantillonnage  \\\n",
       "22088           0        692          160000                 16000   \n",
       "22089           6         93          160000                 16000   \n",
       "22090           0        686          160000                 16000   \n",
       "22091           6         87          160000                 16000   \n",
       "22092           2         58          160000                 16000   \n",
       "\n",
       "                                                   audio  \n",
       "22088  [ 0.00042725  0.0118103   0.00973511 ... -0.01...  \n",
       "22089  [-0.00543213 -0.00775146 -0.00292969 ... -0.00...  \n",
       "22090  [ 0.00271606  0.00646973  0.00375366 ...  0.00...  \n",
       "22091  [0.00985718 0.00939941 0.00210571 ... 0.008392...  \n",
       "22092  [-0.02572632 -0.02514648 -0.01828003 ...  0.01...  "
      ]
     },
     "execution_count": 2,
     "metadata": {},
     "output_type": "execute_result"
    }
   ],
   "source": [
    "import pandas as pd\n",
    "import numpy as np\n",
    "import librosa\n",
    "\n",
    "def load_audio(audio_path):\n",
    "    return librosa.load(audio_path, sr=None)\n",
    "\n",
    "df = pd.read_csv('Path_DF.csv')\n",
    "pump_train = df[(df.Dataset == 'train') & (df.Machine_Type == 'pump')]\n",
    "\n",
    "pump_train.head()"
   ]
  },
  {
   "cell_type": "markdown",
   "metadata": {},
   "source": [
    "## On prépare les données pour pouvoir entrainer le modèle DenseAE"
   ]
  },
  {
   "cell_type": "code",
   "execution_count": 3,
   "metadata": {},
   "outputs": [
    {
     "name": "stdout",
     "output_type": "stream",
     "text": [
      "Réalisé en 245.336 secondes\n"
     ]
    }
   ],
   "source": [
    "from FonctionsDense import * \n",
    "\n",
    "from time import time\n",
    "t0 = time()\n",
    "\n",
    "pump_train_stream = dataset_stream(pump_train)\n",
    "\n",
    "t1 = time() - t0\n",
    "print(\"Réalisé en {} secondes\".format(round(t1,3)))"
   ]
  },
  {
   "cell_type": "code",
   "execution_count": 4,
   "metadata": {},
   "outputs": [],
   "source": [
    "np.save('pump_train_dense.npy', pump_train_stream)\n",
    "\n",
    "# pump_train_stream = np.load('pump_train_dense.npy') si on veut le charger"
   ]
  },
  {
   "cell_type": "markdown",
   "metadata": {},
   "source": [
    "## On entraine un modèle DenseAE avec la dataset nouvellement créée"
   ]
  },
  {
   "cell_type": "code",
   "execution_count": 6,
   "metadata": {},
   "outputs": [],
   "source": [
    "model_dense_pump = model_denseAE()\n",
    "\n",
    "# On compile \n",
    "model_dense_pump.compile(optimizer='adam', loss=\"mse\")"
   ]
  },
  {
   "cell_type": "code",
   "execution_count": 7,
   "metadata": {},
   "outputs": [
    {
     "data": {
      "text/plain": [
       "'/Users/romeo/Formation DataScientist/projet pynomaly/pump_DenseAE'"
      ]
     },
     "execution_count": 7,
     "metadata": {},
     "output_type": "execute_result"
    }
   ],
   "source": [
    "import os\n",
    "cwd = os.getcwd()\n",
    "filepath = cwd + '/pump_DenseAE.hdf5'\n",
    "\n",
    "filepath"
   ]
  },
  {
   "cell_type": "code",
   "execution_count": 10,
   "metadata": {},
   "outputs": [
    {
     "name": "stdout",
     "output_type": "stream",
     "text": [
      "Epoch 1/100\n",
      "2436/2436 [==============================] - 295s 120ms/step - loss: 204.6658 - val_loss: 13.3427\n",
      "INFO:tensorflow:Assets written to: /Users/romeo/Formation DataScientist/projet pynomaly/assets\n",
      "Epoch 2/100\n",
      "2436/2436 [==============================] - 258s 106ms/step - loss: 12.3322 - val_loss: 12.1028\n",
      "INFO:tensorflow:Assets written to: /Users/romeo/Formation DataScientist/projet pynomaly/assets\n",
      "Epoch 3/100\n",
      "2436/2436 [==============================] - 180s 74ms/step - loss: 11.6015 - val_loss: 12.1577\n",
      "Epoch 4/100\n",
      "2436/2436 [==============================] - 182s 75ms/step - loss: 11.2978 - val_loss: 12.8596\n",
      "Epoch 5/100\n",
      "2436/2436 [==============================] - 176s 72ms/step - loss: 11.0785 - val_loss: 12.0194\n",
      "INFO:tensorflow:Assets written to: /Users/romeo/Formation DataScientist/projet pynomaly/assets\n",
      "Epoch 6/100\n",
      "2436/2436 [==============================] - 181s 74ms/step - loss: 10.9388 - val_loss: 12.0337\n",
      "Epoch 7/100\n",
      "2436/2436 [==============================] - 183s 75ms/step - loss: 10.8587 - val_loss: 11.7983\n",
      "INFO:tensorflow:Assets written to: /Users/romeo/Formation DataScientist/projet pynomaly/assets\n",
      "Epoch 8/100\n",
      "2436/2436 [==============================] - 184s 76ms/step - loss: 10.7811 - val_loss: 11.6705\n",
      "INFO:tensorflow:Assets written to: /Users/romeo/Formation DataScientist/projet pynomaly/assets\n",
      "Epoch 9/100\n",
      "2436/2436 [==============================] - 210s 86ms/step - loss: 10.7349 - val_loss: 15.8003\n",
      "Epoch 10/100\n",
      "2436/2436 [==============================] - 232s 95ms/step - loss: 10.6889 - val_loss: 11.9897\n",
      "Epoch 11/100\n",
      "2436/2436 [==============================] - 182s 75ms/step - loss: 10.6559 - val_loss: 11.7189\n",
      "Epoch 12/100\n",
      "2436/2436 [==============================] - 186s 76ms/step - loss: 10.6268 - val_loss: 11.9836\n",
      "Epoch 13/100\n",
      "2436/2436 [==============================] - 180s 74ms/step - loss: 10.5971 - val_loss: 11.7809\n",
      "Epoch 14/100\n",
      "2436/2436 [==============================] - 213s 87ms/step - loss: 10.5705 - val_loss: 11.6452\n",
      "INFO:tensorflow:Assets written to: /Users/romeo/Formation DataScientist/projet pynomaly/assets\n",
      "Epoch 15/100\n",
      "2436/2436 [==============================] - 220s 91ms/step - loss: 10.5497 - val_loss: 11.5815\n",
      "INFO:tensorflow:Assets written to: /Users/romeo/Formation DataScientist/projet pynomaly/assets\n",
      "Epoch 16/100\n",
      "2436/2436 [==============================] - 223s 91ms/step - loss: 10.5260 - val_loss: 11.9034\n",
      "Epoch 17/100\n",
      "2436/2436 [==============================] - 186s 76ms/step - loss: 10.5078 - val_loss: 11.5677\n",
      "INFO:tensorflow:Assets written to: /Users/romeo/Formation DataScientist/projet pynomaly/assets\n",
      "Epoch 18/100\n",
      "2436/2436 [==============================] - 176s 72ms/step - loss: 10.4879 - val_loss: 11.5460\n",
      "INFO:tensorflow:Assets written to: /Users/romeo/Formation DataScientist/projet pynomaly/assets\n",
      "Epoch 19/100\n",
      "2436/2436 [==============================] - 175s 72ms/step - loss: 10.4677 - val_loss: 11.3497\n",
      "INFO:tensorflow:Assets written to: /Users/romeo/Formation DataScientist/projet pynomaly/assets\n",
      "Epoch 20/100\n",
      "2436/2436 [==============================] - 182s 75ms/step - loss: 10.4501 - val_loss: 11.4528\n",
      "Epoch 21/100\n",
      "2436/2436 [==============================] - 174s 71ms/step - loss: 10.4447 - val_loss: 11.4215\n",
      "Epoch 22/100\n",
      "2436/2436 [==============================] - 183s 75ms/step - loss: 10.4233 - val_loss: 11.5067\n",
      "Epoch 23/100\n",
      "2436/2436 [==============================] - 190s 78ms/step - loss: 10.4161 - val_loss: 11.4053\n",
      "Epoch 24/100\n",
      "2436/2436 [==============================] - 184s 75ms/step - loss: 10.4013 - val_loss: 11.3549\n",
      "Epoch 25/100\n",
      "2436/2436 [==============================] - 185s 76ms/step - loss: 10.3955 - val_loss: 11.3645\n",
      "Epoch 26/100\n",
      "2436/2436 [==============================] - 187s 77ms/step - loss: 10.3792 - val_loss: 11.3701\n",
      "Epoch 27/100\n",
      "2436/2436 [==============================] - 186s 76ms/step - loss: 10.3764 - val_loss: 11.3854\n",
      "Epoch 28/100\n",
      "2436/2436 [==============================] - 177s 72ms/step - loss: 10.3737 - val_loss: 11.3273\n",
      "INFO:tensorflow:Assets written to: /Users/romeo/Formation DataScientist/projet pynomaly/assets\n",
      "Epoch 29/100\n",
      "2436/2436 [==============================] - 180s 74ms/step - loss: 10.3589 - val_loss: 11.2910\n",
      "INFO:tensorflow:Assets written to: /Users/romeo/Formation DataScientist/projet pynomaly/assets\n",
      "Epoch 30/100\n",
      "2436/2436 [==============================] - 202s 83ms/step - loss: 10.3502 - val_loss: 11.3497\n",
      "Epoch 31/100\n",
      "2436/2436 [==============================] - 190s 78ms/step - loss: 10.3408 - val_loss: 11.4191\n",
      "Epoch 32/100\n",
      "2436/2436 [==============================] - 188s 77ms/step - loss: 10.3350 - val_loss: 11.4559\n",
      "Epoch 33/100\n",
      "2436/2436 [==============================] - 180s 74ms/step - loss: 10.3277 - val_loss: 11.3455\n",
      "Epoch 34/100\n",
      "2436/2436 [==============================] - 192s 79ms/step - loss: 10.3255 - val_loss: 14.3009\n",
      "Epoch 35/100\n",
      "2436/2436 [==============================] - 177s 73ms/step - loss: 10.3150 - val_loss: 14.4442\n",
      "Epoch 36/100\n",
      "2436/2436 [==============================] - 187s 77ms/step - loss: 10.3151 - val_loss: 11.7779\n",
      "Epoch 37/100\n",
      "2436/2436 [==============================] - 173s 71ms/step - loss: 10.3046 - val_loss: 11.3566\n",
      "Epoch 38/100\n",
      "2436/2436 [==============================] - 175s 72ms/step - loss: 10.3040 - val_loss: 11.3552\n",
      "Epoch 39/100\n",
      "2436/2436 [==============================] - 184s 76ms/step - loss: 10.2967 - val_loss: 11.3197\n",
      "Réalisé en 7601.838 secondes\n"
     ]
    }
   ],
   "source": [
    "from tensorflow.keras import callbacks\n",
    "\n",
    "# Callback pour arrêter l'entrainement et récupérer le meilleur modèle si la métrique ne diminue plus pendant 10 epochs\n",
    "early_stopping = callbacks.EarlyStopping(monitor = 'val_loss', patience = 10, mode = 'min', restore_best_weights = True)\n",
    "\n",
    "import os\n",
    "cwd = os.getcwd()\n",
    "filepath = cwd\n",
    "\n",
    "# Callback pour sauvegarder le meilleur modèle\n",
    "checkpoint = callbacks.ModelCheckpoint(filepath = filepath, monitor = 'val_loss', save_best_only = True, \n",
    "                                       save_weights_only = False, mode = 'min', save_freq = 'epoch')\n",
    "\n",
    "t0 = time()\n",
    "\n",
    "# On entraine le modèle sur pump_train. \n",
    "model_dense_pump.fit(pump_train_stream, pump_train_stream, batch_size = 512, epochs = 100, callbacks=[checkpoint, early_stopping], validation_split = 0.3)\n",
    "\n",
    "t1 = time() - t0\n",
    "print(\"Réalisé en {} secondes\".format(round(t1,3)))"
   ]
  },
  {
   "cell_type": "markdown",
   "metadata": {},
   "source": [
    "### On crée la dataset d'évaluation"
   ]
  },
  {
   "cell_type": "code",
   "execution_count": 11,
   "metadata": {},
   "outputs": [
    {
     "name": "stdout",
     "output_type": "stream",
     "text": [
      "Réalisé en 66.406 secondes\n"
     ]
    }
   ],
   "source": [
    "pump_test = df[(df.Dataset == 'test') & (df.Machine_Type == 'pump')]\n",
    "\n",
    "t0 = time()\n",
    "\n",
    "pump_test_stream = dataset_stream(pump_test)\n",
    "np.save('pump_test_dense.npy', pump_test_stream)\n",
    "\n",
    "t1 = time() - t0\n",
    "print(\"Réalisé en {} secondes\".format(round(t1,3)))"
   ]
  },
  {
   "cell_type": "code",
   "execution_count": 13,
   "metadata": {},
   "outputs": [],
   "source": [
    "# Pour déterminer le seuil à partir duquel on peut dire qu'une prise de son est anormale\n",
    "\n",
    "pred_pump_train = model_dense_pump.predict(pump_train_stream)"
   ]
  },
  {
   "cell_type": "code",
   "execution_count": 15,
   "metadata": {},
   "outputs": [
    {
     "name": "stdout",
     "output_type": "stream",
     "text": [
      "Moyenne des erreurs : 10.681114802874584\n",
      "Ecart-type des erreurs : 1.21653399848138\n"
     ]
    }
   ],
   "source": [
    "error_pump_train = errors(pump_train_stream, pred_pump_train, len(pump_train))\n",
    "\n",
    "#print(error_valve)\n",
    "print('Moyenne des erreurs :', np.mean(error_pump_train))\n",
    "print('Ecart-type des erreurs :', np.std(error_pump_train))\n",
    "\n",
    "# Donc un seuil un peu plus grand que 11.9 est bien pour trouver les prises de sons anormales détectées par le modèle"
   ]
  },
  {
   "cell_type": "code",
   "execution_count": 17,
   "metadata": {},
   "outputs": [],
   "source": [
    "pred_pump_test = model_dense_pump.predict(pump_test_stream)\n",
    "\n",
    "error_pump_test = errors(pump_test_stream, pred_pump_test, len(pump_test))\n"
   ]
  },
  {
   "cell_type": "code",
   "execution_count": 18,
   "metadata": {},
   "outputs": [
    {
     "data": {
      "text/plain": [
       "1    456\n",
       "0    400\n",
       "Name: Status, dtype: int64"
      ]
     },
     "execution_count": 18,
     "metadata": {},
     "output_type": "execute_result"
    }
   ],
   "source": [
    "y_true = pump_test['Status'].replace(['normal', 'anomaly'], [0,1])\n",
    "\n",
    "y_true.value_counts()"
   ]
  },
  {
   "cell_type": "code",
   "execution_count": 32,
   "metadata": {},
   "outputs": [
    {
     "data": {
      "text/html": [
       "<div>\n",
       "<style scoped>\n",
       "    .dataframe tbody tr th:only-of-type {\n",
       "        vertical-align: middle;\n",
       "    }\n",
       "\n",
       "    .dataframe tbody tr th {\n",
       "        vertical-align: top;\n",
       "    }\n",
       "\n",
       "    .dataframe thead th {\n",
       "        text-align: right;\n",
       "    }\n",
       "</style>\n",
       "<table border=\"1\" class=\"dataframe\">\n",
       "  <thead>\n",
       "    <tr style=\"text-align: right;\">\n",
       "      <th>Classe prédite</th>\n",
       "      <th>0</th>\n",
       "      <th>1</th>\n",
       "    </tr>\n",
       "    <tr>\n",
       "      <th>Classe réelle</th>\n",
       "      <th></th>\n",
       "      <th></th>\n",
       "    </tr>\n",
       "  </thead>\n",
       "  <tbody>\n",
       "    <tr>\n",
       "      <th>0</th>\n",
       "      <td>293</td>\n",
       "      <td>107</td>\n",
       "    </tr>\n",
       "    <tr>\n",
       "      <th>1</th>\n",
       "      <td>156</td>\n",
       "      <td>300</td>\n",
       "    </tr>\n",
       "  </tbody>\n",
       "</table>\n",
       "</div>"
      ],
      "text/plain": [
       "Classe prédite    0    1\n",
       "Classe réelle           \n",
       "0               293  107\n",
       "1               156  300"
      ]
     },
     "execution_count": 32,
     "metadata": {},
     "output_type": "execute_result"
    }
   ],
   "source": [
    "seuil = 11.8 # valeur à déterminer selon les erreurs \n",
    "\n",
    "y_pred = np.where(error_pump_test[:] > seuil, 1, 0)\n",
    "\n",
    "pd.crosstab(y_true, y_pred, rownames=['Classe réelle'], colnames=['Classe prédite'])"
   ]
  },
  {
   "cell_type": "code",
   "execution_count": 33,
   "metadata": {},
   "outputs": [
    {
     "name": "stdout",
     "output_type": "stream",
     "text": [
      "              precision    recall  f1-score   support\n",
      "\n",
      "           0       0.65      0.73      0.69       400\n",
      "           1       0.74      0.66      0.70       456\n",
      "\n",
      "    accuracy                           0.69       856\n",
      "   macro avg       0.69      0.70      0.69       856\n",
      "weighted avg       0.70      0.69      0.69       856\n",
      "\n"
     ]
    }
   ],
   "source": [
    "from sklearn.metrics import classification_report\n",
    "\n",
    "print(classification_report(y_true, y_pred))\n"
   ]
  },
  {
   "cell_type": "code",
   "execution_count": 21,
   "metadata": {},
   "outputs": [
    {
     "data": {
      "image/png": "[encoded data removed]",
      "text/plain": [
       "<Figure size 432x288 with 1 Axes>"
      ]
     },
     "metadata": {
      "needs_background": "light"
     },
     "output_type": "display_data"
    }
   ],
   "source": [
    "from sklearn.metrics import roc_curve, auc, roc_auc_score\n",
    "import matplotlib.pyplot as plt\n",
    "\n",
    "fpr, tpr, seuils = roc_curve(y_true, error_pump_test, pos_label = 1)\n",
    "\n",
    "roc_auc = auc(fpr, tpr)\n",
    "\n",
    "plt.plot(fpr, tpr, 'orange', label = 'Modèle dense (auc = %0.2f)' % roc_auc)\n",
    "plt.title('Courbe ROC')\n",
    "plt.xlabel('Taux faux positifs')\n",
    "plt.ylabel('Taux vrais positifs')\n",
    "plt.xlim(0,1)\n",
    "plt.ylim(0,1.05)\n",
    "\n",
    "plt.plot(fpr, fpr, 'b--', label = 'Aléatoire (aux = 0.5)')\n",
    "\n",
    "plt.legend(loc = 'lower right')\n",
    "plt.show();"
   ]
  },
  {
   "cell_type": "code",
   "execution_count": 23,
   "metadata": {},
   "outputs": [
    {
     "name": "stdout",
     "output_type": "stream",
     "text": [
      "AUC : 0.7424122807017544\n",
      "pAUC : 0.5995787165281625\n"
     ]
    }
   ],
   "source": [
    "auc = roc_auc_score(y_true, error_pump_test)\n",
    "p_auc = roc_auc_score(y_true, error_pump_test, max_fpr=0.1)\n",
    "\n",
    "print(\"AUC : {}\".format(auc))\n",
    "print(\"pAUC : {}\".format(p_auc))"
   ]
  },
  {
   "cell_type": "markdown",
   "metadata": {},
   "source": [
    "## Affinons notre analyse selon le Machine_ID"
   ]
  },
  {
   "cell_type": "code",
   "execution_count": 35,
   "metadata": {},
   "outputs": [
    {
     "data": {
      "text/plain": [
       "array([0, 6, 2, 4])"
      ]
     },
     "execution_count": 35,
     "metadata": {},
     "output_type": "execute_result"
    }
   ],
   "source": [
    "#valve_train.Machine_ID.value_counts()\n",
    "pump_train.Machine_ID.unique()"
   ]
  },
  {
   "cell_type": "markdown",
   "metadata": {},
   "source": [
    "### Premier Machine_ID : 0"
   ]
  },
  {
   "cell_type": "code",
   "execution_count": 42,
   "metadata": {},
   "outputs": [
    {
     "name": "stdout",
     "output_type": "stream",
     "text": [
      "Moyenne des erreurs : 11.409545268770056\n",
      "Ecart-type des erreurs : 0.9729764651023486\n"
     ]
    }
   ],
   "source": [
    "error_pump_train_0 = error_pump_train[pump_train.Machine_ID == 0]\n",
    "\n",
    "print('Moyenne des erreurs :', np.mean(error_pump_train_0))\n",
    "print('Ecart-type des erreurs :', np.std(error_pump_train_0))\n",
    "\n",
    "seuil = 12.2 # valeur à déterminer selon les erreurs "
   ]
  },
  {
   "cell_type": "code",
   "execution_count": 43,
   "metadata": {},
   "outputs": [
    {
     "name": "stdout",
     "output_type": "stream",
     "text": [
      "              precision    recall  f1-score   support\n",
      "\n",
      "           0       0.64      0.63      0.64       100\n",
      "           1       0.74      0.76      0.75       143\n",
      "\n",
      "    accuracy                           0.70       243\n",
      "   macro avg       0.69      0.69      0.69       243\n",
      "weighted avg       0.70      0.70      0.70       243\n",
      "\n"
     ]
    },
    {
     "data": {
      "text/html": [
       "<div>\n",
       "<style scoped>\n",
       "    .dataframe tbody tr th:only-of-type {\n",
       "        vertical-align: middle;\n",
       "    }\n",
       "\n",
       "    .dataframe tbody tr th {\n",
       "        vertical-align: top;\n",
       "    }\n",
       "\n",
       "    .dataframe thead th {\n",
       "        text-align: right;\n",
       "    }\n",
       "</style>\n",
       "<table border=\"1\" class=\"dataframe\">\n",
       "  <thead>\n",
       "    <tr style=\"text-align: right;\">\n",
       "      <th>Classe prédite</th>\n",
       "      <th>0</th>\n",
       "      <th>1</th>\n",
       "    </tr>\n",
       "    <tr>\n",
       "      <th>Classe réelle</th>\n",
       "      <th></th>\n",
       "      <th></th>\n",
       "    </tr>\n",
       "  </thead>\n",
       "  <tbody>\n",
       "    <tr>\n",
       "      <th>0</th>\n",
       "      <td>63</td>\n",
       "      <td>37</td>\n",
       "    </tr>\n",
       "    <tr>\n",
       "      <th>1</th>\n",
       "      <td>35</td>\n",
       "      <td>108</td>\n",
       "    </tr>\n",
       "  </tbody>\n",
       "</table>\n",
       "</div>"
      ],
      "text/plain": [
       "Classe prédite   0    1\n",
       "Classe réelle          \n",
       "0               63   37\n",
       "1               35  108"
      ]
     },
     "execution_count": 43,
     "metadata": {},
     "output_type": "execute_result"
    }
   ],
   "source": [
    "error_pump_test_0 = error_pump_test[pump_test.Machine_ID == 0]\n",
    "\n",
    "y_true_0 = y_true[pump_test.Machine_ID == 0]\n",
    "y_pred_0 = np.where(error_pump_test_0[:] > seuil, 1, 0)\n",
    "\n",
    "print(classification_report(y_true_0, y_pred_0))\n",
    "pd.crosstab(y_true_0, y_pred_0, rownames=['Classe réelle'], colnames=['Classe prédite'])"
   ]
  },
  {
   "cell_type": "code",
   "execution_count": 45,
   "metadata": {},
   "outputs": [
    {
     "data": {
      "image/png": "[encoded data removed]",
      "text/plain": [
       "<Figure size 432x288 with 1 Axes>"
      ]
     },
     "metadata": {
      "needs_background": "light"
     },
     "output_type": "display_data"
    }
   ],
   "source": [
    "from sklearn.metrics import roc_curve, auc, roc_auc_score\n",
    "import matplotlib.pyplot as plt\n",
    "\n",
    "fpr, tpr, seuils = roc_curve(y_true_0, error_pump_test_0, pos_label = 1)\n",
    "\n",
    "roc_auc = auc(fpr, tpr)\n",
    "\n",
    "plt.plot(fpr, tpr, 'orange', label = 'Modèle dense (auc = %0.2f)' % roc_auc)\n",
    "plt.title('Courbe ROC')\n",
    "plt.xlabel('Taux faux positifs')\n",
    "plt.ylabel('Taux vrais positifs')\n",
    "plt.xlim(0,1)\n",
    "plt.ylim(0,1.05)\n",
    "\n",
    "plt.plot(fpr, fpr, 'b--', label = 'Aléatoire (aux = 0.5)')\n",
    "\n",
    "plt.legend(loc = 'lower right')\n",
    "plt.show();"
   ]
  },
  {
   "cell_type": "code",
   "execution_count": 46,
   "metadata": {},
   "outputs": [
    {
     "name": "stdout",
     "output_type": "stream",
     "text": [
      "AUC : 0.6767832167832168\n",
      "pAUC : 0.5358851674641149\n"
     ]
    }
   ],
   "source": [
    "auc = roc_auc_score(y_true_0, error_pump_test_0)\n",
    "p_auc = roc_auc_score(y_true_0, error_pump_test_0, max_fpr=0.1)\n",
    "\n",
    "print(\"AUC : {}\".format(auc))\n",
    "print(\"pAUC : {}\".format(p_auc))"
   ]
  },
  {
   "cell_type": "markdown",
   "metadata": {},
   "source": [
    "### Deuxième Machine_ID : 2 "
   ]
  },
  {
   "cell_type": "code",
   "execution_count": 55,
   "metadata": {},
   "outputs": [
    {
     "name": "stdout",
     "output_type": "stream",
     "text": [
      "Moyenne des erreurs : 10.918595489128053\n",
      "Ecart-type des erreurs : 0.9378396377581606\n"
     ]
    }
   ],
   "source": [
    "error_pump_train_2 = error_pump_train[pump_train.Machine_ID == 2]\n",
    "\n",
    "print('Moyenne des erreurs :', np.mean(error_pump_train_2))\n",
    "print('Ecart-type des erreurs :', np.std(error_pump_train_2))\n",
    "\n",
    "seuil = 11.5 # valeur à déterminer selon les erreurs "
   ]
  },
  {
   "cell_type": "code",
   "execution_count": 56,
   "metadata": {},
   "outputs": [
    {
     "name": "stdout",
     "output_type": "stream",
     "text": [
      "              precision    recall  f1-score   support\n",
      "\n",
      "           0       0.60      0.75      0.66       100\n",
      "           1       0.71      0.54      0.61       111\n",
      "\n",
      "    accuracy                           0.64       211\n",
      "   macro avg       0.65      0.65      0.64       211\n",
      "weighted avg       0.65      0.64      0.64       211\n",
      "\n"
     ]
    },
    {
     "data": {
      "text/html": [
       "<div>\n",
       "<style scoped>\n",
       "    .dataframe tbody tr th:only-of-type {\n",
       "        vertical-align: middle;\n",
       "    }\n",
       "\n",
       "    .dataframe tbody tr th {\n",
       "        vertical-align: top;\n",
       "    }\n",
       "\n",
       "    .dataframe thead th {\n",
       "        text-align: right;\n",
       "    }\n",
       "</style>\n",
       "<table border=\"1\" class=\"dataframe\">\n",
       "  <thead>\n",
       "    <tr style=\"text-align: right;\">\n",
       "      <th>Classe prédite</th>\n",
       "      <th>0</th>\n",
       "      <th>1</th>\n",
       "    </tr>\n",
       "    <tr>\n",
       "      <th>Classe réelle</th>\n",
       "      <th></th>\n",
       "      <th></th>\n",
       "    </tr>\n",
       "  </thead>\n",
       "  <tbody>\n",
       "    <tr>\n",
       "      <th>0</th>\n",
       "      <td>75</td>\n",
       "      <td>25</td>\n",
       "    </tr>\n",
       "    <tr>\n",
       "      <th>1</th>\n",
       "      <td>51</td>\n",
       "      <td>60</td>\n",
       "    </tr>\n",
       "  </tbody>\n",
       "</table>\n",
       "</div>"
      ],
      "text/plain": [
       "Classe prédite   0   1\n",
       "Classe réelle         \n",
       "0               75  25\n",
       "1               51  60"
      ]
     },
     "execution_count": 56,
     "metadata": {},
     "output_type": "execute_result"
    }
   ],
   "source": [
    "error_pump_test_2 = error_pump_test[pump_test.Machine_ID == 2]\n",
    "\n",
    "y_true_2 = y_true[pump_test.Machine_ID == 2]\n",
    "y_pred_2 = np.where(error_pump_test_2[:] > seuil, 1, 0)\n",
    "\n",
    "print(classification_report(y_true_2, y_pred_2))\n",
    "pd.crosstab(y_true_2, y_pred_2, rownames=['Classe réelle'], colnames=['Classe prédite'])"
   ]
  },
  {
   "cell_type": "code",
   "execution_count": 58,
   "metadata": {},
   "outputs": [
    {
     "data": {
      "image/png": "[encoded data removed]",
      "text/plain": [
       "<Figure size 432x288 with 1 Axes>"
      ]
     },
     "metadata": {
      "needs_background": "light"
     },
     "output_type": "display_data"
    }
   ],
   "source": [
    "from sklearn.metrics import roc_curve, auc, roc_auc_score\n",
    "import matplotlib.pyplot as plt\n",
    "\n",
    "fpr, tpr, seuils = roc_curve(y_true_2, error_pump_test_2, pos_label = 1)\n",
    "\n",
    "roc_auc = auc(fpr, tpr)\n",
    "\n",
    "plt.plot(fpr, tpr, 'orange', label = 'Modèle dense (auc = %0.2f)' % roc_auc)\n",
    "plt.title('Courbe ROC')\n",
    "plt.xlabel('Taux faux positifs')\n",
    "plt.ylabel('Taux vrais positifs')\n",
    "plt.xlim(0,1)\n",
    "plt.ylim(0,1.05)\n",
    "\n",
    "plt.plot(fpr, fpr, 'b--', label = 'Aléatoire (aux = 0.5)')\n",
    "\n",
    "plt.legend(loc = 'lower right')\n",
    "plt.show();"
   ]
  },
  {
   "cell_type": "code",
   "execution_count": 59,
   "metadata": {},
   "outputs": [
    {
     "name": "stdout",
     "output_type": "stream",
     "text": [
      "AUC : 0.6450450450450451\n",
      "pAUC : 0.6164058795637744\n"
     ]
    }
   ],
   "source": [
    "auc = roc_auc_score(y_true_2, error_pump_test_2)\n",
    "p_auc = roc_auc_score(y_true_2, error_pump_test_2, max_fpr=0.1)\n",
    "\n",
    "print(\"AUC : {}\".format(auc))\n",
    "print(\"pAUC : {}\".format(p_auc))"
   ]
  },
  {
   "cell_type": "markdown",
   "metadata": {},
   "source": [
    "### Troisième Machine_ID : 4"
   ]
  },
  {
   "cell_type": "code",
   "execution_count": 66,
   "metadata": {},
   "outputs": [
    {
     "name": "stdout",
     "output_type": "stream",
     "text": [
      "Moyenne des erreurs : 9.956731484228836\n",
      "Ecart-type des erreurs : 1.2479719463965742\n"
     ]
    }
   ],
   "source": [
    "error_pump_train_4 = error_pump_train[pump_train.Machine_ID == 4]\n",
    "\n",
    "print('Moyenne des erreurs :', np.mean(error_pump_train_4))\n",
    "print('Ecart-type des erreurs :', np.std(error_pump_train_4))\n",
    "\n",
    "seuil = 11.1 # valeur à déterminer selon les erreurs "
   ]
  },
  {
   "cell_type": "code",
   "execution_count": 67,
   "metadata": {},
   "outputs": [
    {
     "name": "stdout",
     "output_type": "stream",
     "text": [
      "              precision    recall  f1-score   support\n",
      "\n",
      "           0       0.93      0.63      0.75       100\n",
      "           1       0.72      0.95      0.82       100\n",
      "\n",
      "    accuracy                           0.79       200\n",
      "   macro avg       0.82      0.79      0.78       200\n",
      "weighted avg       0.82      0.79      0.78       200\n",
      "\n"
     ]
    },
    {
     "data": {
      "text/html": [
       "<div>\n",
       "<style scoped>\n",
       "    .dataframe tbody tr th:only-of-type {\n",
       "        vertical-align: middle;\n",
       "    }\n",
       "\n",
       "    .dataframe tbody tr th {\n",
       "        vertical-align: top;\n",
       "    }\n",
       "\n",
       "    .dataframe thead th {\n",
       "        text-align: right;\n",
       "    }\n",
       "</style>\n",
       "<table border=\"1\" class=\"dataframe\">\n",
       "  <thead>\n",
       "    <tr style=\"text-align: right;\">\n",
       "      <th>Classe prédite</th>\n",
       "      <th>0</th>\n",
       "      <th>1</th>\n",
       "    </tr>\n",
       "    <tr>\n",
       "      <th>Classe réelle</th>\n",
       "      <th></th>\n",
       "      <th></th>\n",
       "    </tr>\n",
       "  </thead>\n",
       "  <tbody>\n",
       "    <tr>\n",
       "      <th>0</th>\n",
       "      <td>63</td>\n",
       "      <td>37</td>\n",
       "    </tr>\n",
       "    <tr>\n",
       "      <th>1</th>\n",
       "      <td>5</td>\n",
       "      <td>95</td>\n",
       "    </tr>\n",
       "  </tbody>\n",
       "</table>\n",
       "</div>"
      ],
      "text/plain": [
       "Classe prédite   0   1\n",
       "Classe réelle         \n",
       "0               63  37\n",
       "1                5  95"
      ]
     },
     "execution_count": 67,
     "metadata": {},
     "output_type": "execute_result"
    }
   ],
   "source": [
    "error_pump_test_4 = error_pump_test[pump_test.Machine_ID == 4]\n",
    "\n",
    "y_true_4 = y_true[pump_test.Machine_ID == 4]\n",
    "y_pred_4 = np.where(error_pump_test_4[:] > seuil, 1, 0)\n",
    "\n",
    "print(classification_report(y_true_4, y_pred_4))\n",
    "pd.crosstab(y_true_4, y_pred_4, rownames=['Classe réelle'], colnames=['Classe prédite'])"
   ]
  },
  {
   "cell_type": "code",
   "execution_count": 69,
   "metadata": {},
   "outputs": [
    {
     "data": {
      "image/png": "[encoded data removed]",
      "text/plain": [
       "<Figure size 432x288 with 1 Axes>"
      ]
     },
     "metadata": {
      "needs_background": "light"
     },
     "output_type": "display_data"
    }
   ],
   "source": [
    "from sklearn.metrics import roc_curve, auc, roc_auc_score\n",
    "import matplotlib.pyplot as plt\n",
    "\n",
    "fpr, tpr, seuils = roc_curve(y_true_4, error_pump_test_4, pos_label = 1)\n",
    "\n",
    "roc_auc = auc(fpr, tpr)\n",
    "\n",
    "plt.plot(fpr, tpr, 'orange', label = 'Modèle dense (auc = %0.2f)' % roc_auc)\n",
    "plt.title('Courbe ROC')\n",
    "plt.xlabel('Taux faux positifs')\n",
    "plt.ylabel('Taux vrais positifs')\n",
    "plt.xlim(0,1)\n",
    "plt.ylim(0,1.05)\n",
    "\n",
    "plt.plot(fpr, fpr, 'b--', label = 'Aléatoire (aux = 0.5)')\n",
    "\n",
    "plt.legend(loc = 'lower right')\n",
    "plt.show();"
   ]
  },
  {
   "cell_type": "code",
   "execution_count": 70,
   "metadata": {},
   "outputs": [
    {
     "name": "stdout",
     "output_type": "stream",
     "text": [
      "AUC : 0.8699\n",
      "pAUC : 0.6473684210526316\n"
     ]
    }
   ],
   "source": [
    "auc = roc_auc_score(y_true_4, error_pump_test_4)\n",
    "p_auc = roc_auc_score(y_true_4, error_pump_test_4, max_fpr=0.1)\n",
    "\n",
    "print(\"AUC : {}\".format(auc))\n",
    "print(\"pAUC : {}\".format(p_auc))"
   ]
  },
  {
   "cell_type": "markdown",
   "metadata": {},
   "source": [
    "### Quatrième Machine_ID : 6"
   ]
  },
  {
   "cell_type": "code",
   "execution_count": 90,
   "metadata": {},
   "outputs": [
    {
     "name": "stdout",
     "output_type": "stream",
     "text": [
      "Moyenne des erreurs : 10.212312168968648\n",
      "Ecart-type des erreurs : 1.1838212586763543\n"
     ]
    }
   ],
   "source": [
    "error_pump_train_6 = error_pump_train[pump_train.Machine_ID == 6]\n",
    "\n",
    "print('Moyenne des erreurs :', np.mean(error_pump_train_6))\n",
    "print('Ecart-type des erreurs :', np.std(error_pump_train_6))\n",
    "\n",
    "seuil = 10.6 # valeur à déterminer selon les erreurs "
   ]
  },
  {
   "cell_type": "code",
   "execution_count": 91,
   "metadata": {},
   "outputs": [
    {
     "name": "stdout",
     "output_type": "stream",
     "text": [
      "              precision    recall  f1-score   support\n",
      "\n",
      "           0       0.76      0.59      0.66       100\n",
      "           1       0.67      0.81      0.73       102\n",
      "\n",
      "    accuracy                           0.70       202\n",
      "   macro avg       0.71      0.70      0.70       202\n",
      "weighted avg       0.71      0.70      0.70       202\n",
      "\n"
     ]
    },
    {
     "data": {
      "text/html": [
       "<div>\n",
       "<style scoped>\n",
       "    .dataframe tbody tr th:only-of-type {\n",
       "        vertical-align: middle;\n",
       "    }\n",
       "\n",
       "    .dataframe tbody tr th {\n",
       "        vertical-align: top;\n",
       "    }\n",
       "\n",
       "    .dataframe thead th {\n",
       "        text-align: right;\n",
       "    }\n",
       "</style>\n",
       "<table border=\"1\" class=\"dataframe\">\n",
       "  <thead>\n",
       "    <tr style=\"text-align: right;\">\n",
       "      <th>Classe prédite</th>\n",
       "      <th>0</th>\n",
       "      <th>1</th>\n",
       "    </tr>\n",
       "    <tr>\n",
       "      <th>Classe réelle</th>\n",
       "      <th></th>\n",
       "      <th></th>\n",
       "    </tr>\n",
       "  </thead>\n",
       "  <tbody>\n",
       "    <tr>\n",
       "      <th>0</th>\n",
       "      <td>59</td>\n",
       "      <td>41</td>\n",
       "    </tr>\n",
       "    <tr>\n",
       "      <th>1</th>\n",
       "      <td>19</td>\n",
       "      <td>83</td>\n",
       "    </tr>\n",
       "  </tbody>\n",
       "</table>\n",
       "</div>"
      ],
      "text/plain": [
       "Classe prédite   0   1\n",
       "Classe réelle         \n",
       "0               59  41\n",
       "1               19  83"
      ]
     },
     "execution_count": 91,
     "metadata": {},
     "output_type": "execute_result"
    }
   ],
   "source": [
    "error_pump_test_6 = error_pump_test[pump_test.Machine_ID == 6]\n",
    "\n",
    "y_true_6 = y_true[pump_test.Machine_ID == 6]\n",
    "y_pred_6 = np.where(error_pump_test_6[:] > seuil, 1, 0)\n",
    "\n",
    "print(classification_report(y_true_6, y_pred_6))\n",
    "pd.crosstab(y_true_6, y_pred_6, rownames=['Classe réelle'], colnames=['Classe prédite'])"
   ]
  },
  {
   "cell_type": "code",
   "execution_count": 82,
   "metadata": {},
   "outputs": [
    {
     "data": {
      "image/png": "[encoded data removed]",
      "text/plain": [
       "<Figure size 432x288 with 1 Axes>"
      ]
     },
     "metadata": {
      "needs_background": "light"
     },
     "output_type": "display_data"
    }
   ],
   "source": [
    "from sklearn.metrics import roc_curve, auc, roc_auc_score\n",
    "import matplotlib.pyplot as plt\n",
    "\n",
    "fpr, tpr, seuils = roc_curve(y_true_6, error_pump_test_6, pos_label = 1)\n",
    "\n",
    "roc_auc = auc(fpr, tpr)\n",
    "\n",
    "plt.plot(fpr, tpr, 'orange', label = 'Modèle dense (auc = %0.2f)' % roc_auc)\n",
    "plt.title('Courbe ROC')\n",
    "plt.xlabel('Taux faux positifs')\n",
    "plt.ylabel('Taux vrais positifs')\n",
    "plt.xlim(0,1)\n",
    "plt.ylim(0,1.05)\n",
    "\n",
    "plt.plot(fpr, fpr, 'b--', label = 'Aléatoire (aux = 0.5)')\n",
    "\n",
    "plt.legend(loc = 'lower right')\n",
    "plt.show();"
   ]
  },
  {
   "cell_type": "code",
   "execution_count": 83,
   "metadata": {},
   "outputs": [
    {
     "name": "stdout",
     "output_type": "stream",
     "text": [
      "AUC : 0.7708823529411765\n",
      "pAUC : 0.6057791537667698\n"
     ]
    }
   ],
   "source": [
    "auc = roc_auc_score(y_true_6, error_pump_test_6)\n",
    "p_auc = roc_auc_score(y_true_6, error_pump_test_6, max_fpr=0.1)\n",
    "\n",
    "print(\"AUC : {}\".format(auc))\n",
    "print(\"pAUC : {}\".format(p_auc))"
   ]
  },
  {
   "cell_type": "code",
   "execution_count": null,
   "metadata": {},
   "outputs": [],
   "source": []
  },
  {
   "cell_type": "code",
   "execution_count": 92,
   "metadata": {},
   "outputs": [],
   "source": []
  },
  {
   "cell_type": "code",
   "execution_count": 93,
   "metadata": {},
   "outputs": [],
   "source": []
  },
  {
   "cell_type": "code",
   "execution_count": 94,
   "metadata": {},
   "outputs": [
    {
     "name": "stdout",
     "output_type": "stream",
     "text": [
      "Moyenne des erreurs : 10.367800012137605\n",
      "Ecart-type des erreurs : 1.1298256344127315\n"
     ]
    }
   ],
   "source": []
  },
  {
   "cell_type": "code",
   "execution_count": null,
   "metadata": {},
   "outputs": [],
   "source": []
  }
 ],
 "metadata": {
  "kernelspec": {
   "display_name": "Python 3",
   "language": "python",
   "name": "python3"
  },
  "language_info": {
   "codemirror_mode": {
    "name": "ipython",
    "version": 3
   },
   "file_extension": ".py",
   "mimetype": "text/x-python",
   "name": "python",
   "nbconvert_exporter": "python",
   "pygments_lexer": "ipython3",
   "version": "3.8.5"
  }
 },
 "nbformat": 4,
 "nbformat_minor": 4
}
