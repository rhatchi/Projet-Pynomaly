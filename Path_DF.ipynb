{
 "cells": [
  {
   "cell_type": "raw",
   "id": "44e6421c-4132-4af8-b7b2-44a68f1cc98d",
   "metadata": {},
   "source": [
    "Création du df rassemblant les chemins des fichiers .wav"
   ]
  },
  {
   "cell_type": "code",
   "execution_count": 1,
   "id": "d2309c39-62a6-431a-8004-24e2b8237b3d",
   "metadata": {},
   "outputs": [],
   "source": [
    "import pandas as pd\n",
    "import os\n",
    "import librosa\n",
    "def load_audio(audio_path):\n",
    "    return librosa.load(audio_path, sr=None)"
   ]
  },
  {
   "cell_type": "code",
   "execution_count": 2,
   "id": "1ace3f0e-f251-4e88-822d-d53dbb561645",
   "metadata": {},
   "outputs": [
    {
     "data": {
      "text/html": [
       "<div>\n",
       "<style scoped>\n",
       "    .dataframe tbody tr th:only-of-type {\n",
       "        vertical-align: middle;\n",
       "    }\n",
       "\n",
       "    .dataframe tbody tr th {\n",
       "        vertical-align: top;\n",
       "    }\n",
       "\n",
       "    .dataframe thead th {\n",
       "        text-align: right;\n",
       "    }\n",
       "</style>\n",
       "<table border=\"1\" class=\"dataframe\">\n",
       "  <thead>\n",
       "    <tr style=\"text-align: right;\">\n",
       "      <th></th>\n",
       "      <th>Path</th>\n",
       "      <th>Machine_Type</th>\n",
       "      <th>Dataset</th>\n",
       "      <th>Status</th>\n",
       "      <th>Machine_ID</th>\n",
       "      <th>Sample_ID</th>\n",
       "    </tr>\n",
       "  </thead>\n",
       "  <tbody>\n",
       "  </tbody>\n",
       "</table>\n",
       "</div>"
      ],
      "text/plain": [
       "Empty DataFrame\n",
       "Columns: [Path, Machine_Type, Dataset, Status, Machine_ID, Sample_ID]\n",
       "Index: []"
      ]
     },
     "execution_count": 2,
     "metadata": {},
     "output_type": "execute_result"
    }
   ],
   "source": [
    "df=pd.DataFrame(columns=['Path','Machine_Type','Dataset','Status','Machine_ID','Sample_ID'])\n",
    "\n",
    "df.head()"
   ]
  },
  {
   "cell_type": "code",
   "execution_count": 3,
   "id": "21b735b9-c1f3-40a0-b1e8-ca7e9fd3dae7",
   "metadata": {},
   "outputs": [
    {
     "name": "stdout",
     "output_type": "stream",
     "text": [
      "['fan', 'pump', 'slider', 'ToyCar', 'ToyConveyor', 'valve'] ['test', 'train']\n"
     ]
    }
   ],
   "source": [
    "Machine_Type=os.listdir(path='Data')\n",
    "\n",
    "Dataset = os.listdir(path='Data\\\\fan')\n",
    "\n",
    "print(Machine_Type,Dataset)"
   ]
  },
  {
   "cell_type": "code",
   "execution_count": 5,
   "id": "a68f8870-c12b-4294-a1bb-ac567053894e",
   "metadata": {},
   "outputs": [
    {
     "data": {
      "text/html": [
       "<div>\n",
       "<style scoped>\n",
       "    .dataframe tbody tr th:only-of-type {\n",
       "        vertical-align: middle;\n",
       "    }\n",
       "\n",
       "    .dataframe tbody tr th {\n",
       "        vertical-align: top;\n",
       "    }\n",
       "\n",
       "    .dataframe thead th {\n",
       "        text-align: right;\n",
       "    }\n",
       "</style>\n",
       "<table border=\"1\" class=\"dataframe\">\n",
       "  <thead>\n",
       "    <tr style=\"text-align: right;\">\n",
       "      <th></th>\n",
       "      <th>Path</th>\n",
       "      <th>Machine_Type</th>\n",
       "      <th>Dataset</th>\n",
       "      <th>Status</th>\n",
       "      <th>Machine_ID</th>\n",
       "      <th>Sample_ID</th>\n",
       "      <th>nb_echantillon</th>\n",
       "      <th>freq_echantillonnage</th>\n",
       "    </tr>\n",
       "  </thead>\n",
       "  <tbody>\n",
       "    <tr>\n",
       "      <th>0</th>\n",
       "      <td>Data\\fan\\test\\anomaly_id_00_00000000.wav</td>\n",
       "      <td>fan</td>\n",
       "      <td>test</td>\n",
       "      <td>anomaly</td>\n",
       "      <td>00</td>\n",
       "      <td>00000000</td>\n",
       "      <td>160000</td>\n",
       "      <td>16000</td>\n",
       "    </tr>\n",
       "    <tr>\n",
       "      <th>0</th>\n",
       "      <td>Data\\fan\\test\\anomaly_id_00_00000001.wav</td>\n",
       "      <td>fan</td>\n",
       "      <td>test</td>\n",
       "      <td>anomaly</td>\n",
       "      <td>00</td>\n",
       "      <td>00000001</td>\n",
       "      <td>160000</td>\n",
       "      <td>16000</td>\n",
       "    </tr>\n",
       "    <tr>\n",
       "      <th>0</th>\n",
       "      <td>Data\\fan\\test\\anomaly_id_00_00000002.wav</td>\n",
       "      <td>fan</td>\n",
       "      <td>test</td>\n",
       "      <td>anomaly</td>\n",
       "      <td>00</td>\n",
       "      <td>00000002</td>\n",
       "      <td>160000</td>\n",
       "      <td>16000</td>\n",
       "    </tr>\n",
       "    <tr>\n",
       "      <th>0</th>\n",
       "      <td>Data\\fan\\test\\anomaly_id_00_00000003.wav</td>\n",
       "      <td>fan</td>\n",
       "      <td>test</td>\n",
       "      <td>anomaly</td>\n",
       "      <td>00</td>\n",
       "      <td>00000003</td>\n",
       "      <td>160000</td>\n",
       "      <td>16000</td>\n",
       "    </tr>\n",
       "    <tr>\n",
       "      <th>0</th>\n",
       "      <td>Data\\fan\\test\\anomaly_id_00_00000004.wav</td>\n",
       "      <td>fan</td>\n",
       "      <td>test</td>\n",
       "      <td>anomaly</td>\n",
       "      <td>00</td>\n",
       "      <td>00000004</td>\n",
       "      <td>160000</td>\n",
       "      <td>16000</td>\n",
       "    </tr>\n",
       "  </tbody>\n",
       "</table>\n",
       "</div>"
      ],
      "text/plain": [
       "                                       Path Machine_Type Dataset   Status  \\\n",
       "0  Data\\fan\\test\\anomaly_id_00_00000000.wav          fan    test  anomaly   \n",
       "0  Data\\fan\\test\\anomaly_id_00_00000001.wav          fan    test  anomaly   \n",
       "0  Data\\fan\\test\\anomaly_id_00_00000002.wav          fan    test  anomaly   \n",
       "0  Data\\fan\\test\\anomaly_id_00_00000003.wav          fan    test  anomaly   \n",
       "0  Data\\fan\\test\\anomaly_id_00_00000004.wav          fan    test  anomaly   \n",
       "\n",
       "  Machine_ID Sample_ID  nb_echantillon  freq_echantillonnage  \n",
       "0         00  00000000          160000                 16000  \n",
       "0         00  00000001          160000                 16000  \n",
       "0         00  00000002          160000                 16000  \n",
       "0         00  00000003          160000                 16000  \n",
       "0         00  00000004          160000                 16000  "
      ]
     },
     "execution_count": 5,
     "metadata": {},
     "output_type": "execute_result"
    }
   ],
   "source": [
    "#ajout des données lignes par ligne\n",
    "for machinetype in Machine_Type :\n",
    "    for dataset in Dataset:\n",
    "        chemin = 'Data\\\\' + machinetype+'\\\\'+dataset\n",
    "        for i in range(len(os.listdir(path=chemin))):\n",
    "            df=df.append(pd.DataFrame([[chemin+'\\\\'+os.listdir(path=chemin)[i],\n",
    "               machinetype,\n",
    "               dataset,\n",
    "               os.listdir(path=chemin)[i].split('_')[0],\n",
    "               os.listdir(path=chemin)[i].split('_')[2],\n",
    "               os.listdir(path=chemin)[i].split('_')[-1].split('.')[0]]],columns=df.columns))\n",
    "            \n",
    "#ajout du nombre d'échantillons et de la fréquence d'échantillonnage        \n",
    "df['nb_echantillon'] = df.Path.apply(lambda chemin: load_audio(chemin)[0].shape[0])\n",
    "df['freq_echantillonnage'] = df.Path.apply(lambda chemin: load_audio(chemin)[1])\n",
    "\n",
    "df.head()"
   ]
  },
  {
   "cell_type": "code",
   "execution_count": 6,
   "id": "cec94acb-c69d-4f52-aac0-55f427e99cc8",
   "metadata": {},
   "outputs": [],
   "source": [
    "###Enregistrement du DataFrame dans un fichier CSV à l'aide d'une boîte de dialogue\n",
    "\n",
    "import tkinter as tk\n",
    "from tkinter import filedialog\n",
    "from pandas import DataFrame\n",
    "\n",
    "root= tk.Tk()\n",
    "\n",
    "canvas1 = tk.Canvas(root, width = 300, height = 300, bg = 'lightsteelblue2', relief = 'raised')\n",
    "canvas1.pack()\n",
    "\n",
    "def exportCSV ():\n",
    "    global df\n",
    "    \n",
    "    export_file_path = filedialog.asksaveasfilename(defaultextension='.csv')\n",
    "    df.to_csv (export_file_path, index = False, header=True)\n",
    "\n",
    "saveAsButton_CSV = tk.Button(text='Export CSV', command=exportCSV, bg='green', fg='white', font=('helvetica', 12, 'bold'))\n",
    "canvas1.create_window(150, 150, window=saveAsButton_CSV)\n",
    "\n",
    "root.mainloop()"
   ]
  },
  {
   "cell_type": "code",
   "execution_count": null,
   "id": "8826375f-b7a6-427b-8215-4a6e136c5343",
   "metadata": {},
   "outputs": [],
   "source": []
  }
 ],
 "metadata": {
  "kernelspec": {
   "display_name": "Python 3",
   "language": "python",
   "name": "python3"
  },
  "language_info": {
   "codemirror_mode": {
    "name": "ipython",
    "version": 3
   },
   "file_extension": ".py",
   "mimetype": "text/x-python",
   "name": "python",
   "nbconvert_exporter": "python",
   "pygments_lexer": "ipython3",
   "version": "3.9.2"
  }
 },
 "nbformat": 4,
 "nbformat_minor": 5
}
