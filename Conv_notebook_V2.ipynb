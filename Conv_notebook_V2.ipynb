{
 "cells": [
  {
   "cell_type": "code",
   "execution_count": null,
   "id": "6b813489-c73c-4e4c-b38c-38035c86e41e",
   "metadata": {},
   "outputs": [],
   "source": [
    "from Conv_final_V2 import *"
   ]
  },
  {
   "cell_type": "code",
   "execution_count": null,
   "id": "febf289a-5dc5-4ce5-92f1-7f2cde31991d",
   "metadata": {},
   "outputs": [],
   "source": [
    "#chemin vers le csv rassemblant les filepaths en première colonne\n",
    "path_csv=\"Path_DF.csv\"\n",
    "\n",
    "machine_types = [\"fan\",\"pump\",\"valve\",\"slider\",\"ToyCar\",\"ToyConveyor\"]\n",
    "#Sélection du type de machine\n",
    "machinetype = machine_types[0] #entre 0 et 5"
   ]
  },
  {
   "cell_type": "code",
   "execution_count": null,
   "id": "bb85e523-188f-4e22-a0e4-3cbf319a2844",
   "metadata": {},
   "outputs": [],
   "source": [
    "train_data_stream, scaler = feature_selection_train(path_csv, machinetype)"
   ]
  },
  {
   "cell_type": "code",
   "execution_count": null,
   "id": "236ac64c-616c-436b-8a3a-d6b50e3cbd85",
   "metadata": {},
   "outputs": [],
   "source": [
    "model_conv = model_conv_training(machinetype,train_data_stream)"
   ]
  },
  {
   "cell_type": "code",
   "execution_count": null,
   "id": "fc137b53-b45d-4dc8-bcb8-cae6d0a3819d",
   "metadata": {},
   "outputs": [],
   "source": [
    "model_evaluation(path_csv, machinetype, model_conv, scaler)"
   ]
  }
 ],
 "metadata": {
  "kernelspec": {
   "display_name": "Python 3",
   "language": "python",
   "name": "python3"
  },
  "language_info": {
   "codemirror_mode": {
    "name": "ipython",
    "version": 3
   },
   "file_extension": ".py",
   "mimetype": "text/x-python",
   "name": "python",
   "nbconvert_exporter": "python",
   "pygments_lexer": "ipython3",
   "version": "3.7.10"
  }
 },
 "nbformat": 4,
 "nbformat_minor": 5
}
